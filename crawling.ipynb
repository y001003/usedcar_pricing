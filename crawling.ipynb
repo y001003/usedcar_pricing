{
 "cells": [
  {
   "cell_type": "code",
   "execution_count": 1,
   "id": "171573a1",
   "metadata": {},
   "outputs": [
    {
     "name": "stderr",
     "output_type": "stream",
     "text": [
      "'xattr' is not recognized as an internal or external command,\n",
      "operable program or batch file.\n"
     ]
    }
   ],
   "source": [
    "# !xattr -d com.apple.quarantine chromedriver"
   ]
  },
  {
   "cell_type": "code",
   "execution_count": 3,
   "id": "c768e529",
   "metadata": {},
   "outputs": [
    {
     "name": "stdout",
     "output_type": "stream",
     "text": [
      "Collecting numpy\n",
      "  Downloading numpy-1.22.4-cp38-cp38-win_amd64.whl (14.8 MB)\n",
      "Installing collected packages: numpy\n",
      "Successfully installed numpy-1.22.4\n"
     ]
    }
   ],
   "source": [
    "# !pip install numpy"
   ]
  },
  {
   "cell_type": "code",
   "execution_count": 5,
   "id": "ffa4f715",
   "metadata": {},
   "outputs": [
    {
     "name": "stdout",
     "output_type": "stream",
     "text": [
      "Collecting pandas\n",
      "  Downloading pandas-1.4.2-cp38-cp38-win_amd64.whl (10.6 MB)\n",
      "Requirement already satisfied: numpy>=1.18.5 in c:\\users\\y0010\\anaconda3\\envs\\selenium\\lib\\site-packages (from pandas) (1.22.4)\n",
      "Requirement already satisfied: python-dateutil>=2.8.1 in c:\\users\\y0010\\anaconda3\\envs\\selenium\\lib\\site-packages (from pandas) (2.8.2)\n",
      "Collecting pytz>=2020.1\n",
      "  Downloading pytz-2022.1-py2.py3-none-any.whl (503 kB)\n",
      "Requirement already satisfied: six>=1.5 in c:\\users\\y0010\\anaconda3\\envs\\selenium\\lib\\site-packages (from python-dateutil>=2.8.1->pandas) (1.16.0)\n",
      "Installing collected packages: pytz, pandas\n",
      "Successfully installed pandas-1.4.2 pytz-2022.1\n"
     ]
    }
   ],
   "source": [
    "# !pip install pandas"
   ]
  },
  {
   "cell_type": "code",
   "execution_count": 40,
   "id": "a32d2b56",
   "metadata": {},
   "outputs": [],
   "source": [
    "import numpy as np\n",
    "import pandas as pd\n",
    "# import requests # 크롤링에 사용하는 패키지"
   ]
  },
  {
   "cell_type": "code",
   "execution_count": 41,
   "id": "bcec7b7b",
   "metadata": {},
   "outputs": [
    {
     "name": "stdout",
     "output_type": "stream",
     "text": [
      " Volume in drive C has no label.\n",
      " Volume Serial Number is 487C-0551\n",
      "\n",
      " Directory of C:\\Users\\y0010\\Desktop\\develop\\usedcar_pricing\n",
      "\n",
      "2022-06-13  �삤�썑 10:46    <DIR>          .\n",
      "2022-06-13  �삤�썑 10:46    <DIR>          ..\n",
      "2022-06-04  �삤�썑 03:28    <DIR>          .ipynb_checkpoints\n",
      "2022-05-18  �삤�쟾 01:13        11,735,552 chromedriver.exe\n",
      "2022-06-13  �삤�썑 10:46            88,259 crawling.ipynb\n",
      "2022-06-04  �삤�썑 03:24           818,364 gradure.csv\n",
      "2022-06-04  �삤�썑 03:24               500 README.md\n",
      "               4 File(s)     12,642,675 bytes\n",
      "               3 Dir(s)  120,962,482,176 bytes free\n"
     ]
    }
   ],
   "source": [
    "ls"
   ]
  },
  {
   "cell_type": "code",
   "execution_count": 42,
   "id": "7e62d494",
   "metadata": {},
   "outputs": [],
   "source": [
    "# 크롬창 열기\n",
    "import time\n",
    "from selenium import webdriver\n",
    "driver = webdriver.Chrome('./chromedriver')\n",
    "# 윈도우 사용자분들\n",
    "# driver = webdriver.Chrome('./chromedriver.exe')\n",
    "\n",
    "# 설정한 url로 데이터 get함수로 요청\n",
    "url = 'http://www.encar.com/dc/dc_carsearchlist.do?carType=kor&searchType=model&TG.R=A#!%7B%22action%22%3A%22(And.Hidden.N._.(C.CarType.Y._.(C.Manufacturer.%ED%98%84%EB%8C%80._.ModelGroup.%EA%B7%B8%EB%9E%9C%EC%A0%80.)))%22%2C%22toggle%22%3A%7B%7D%2C%22layer%22%3A%22%22%2C%22sort%22%3A%22ModifiedDate%22%2C%22page%22%3A1%2C%22limit%22%3A%2250%22%7D'\n",
    "driver.get(url)\n",
    "\n",
    "time.sleep(2)\n",
    "\n",
    "# 키워드를 입력받아 검색창의 xpath에 send_keys 함수로 키워드 입력 "
   ]
  },
  {
   "cell_type": "code",
   "execution_count": 27,
   "id": "31b0fa69",
   "metadata": {},
   "outputs": [],
   "source": [
    "# !pip install chromedriver_autoinstaller"
   ]
  },
  {
   "cell_type": "code",
   "execution_count": 28,
   "id": "a5534ebb",
   "metadata": {},
   "outputs": [
    {
     "name": "stderr",
     "output_type": "stream",
     "text": [
      "ERROR: Could not find a version that satisfies the requirement subprocess\n",
      "ERROR: No matching distribution found for subprocess\n"
     ]
    }
   ],
   "source": [
    "!pip install subprocess"
   ]
  },
  {
   "cell_type": "code",
   "execution_count": 9,
   "id": "369f2b41",
   "metadata": {},
   "outputs": [
    {
     "ename": "FileNotFoundError",
     "evalue": "[WinError 2] 지정된 파일을 찾을 수 없습니다",
     "output_type": "error",
     "traceback": [
      "\u001b[1;31m---------------------------------------------------------------------------\u001b[0m",
      "\u001b[1;31mFileNotFoundError\u001b[0m                         Traceback (most recent call last)",
      "Input \u001b[1;32mIn [9]\u001b[0m, in \u001b[0;36m<cell line: 6>\u001b[1;34m()\u001b[0m\n\u001b[0;32m      3\u001b[0m \u001b[38;5;28;01mimport\u001b[39;00m \u001b[38;5;21;01mchromedriver_autoinstaller\u001b[39;00m\n\u001b[0;32m      4\u001b[0m \u001b[38;5;28;01mimport\u001b[39;00m \u001b[38;5;21;01msubprocess\u001b[39;00m\n\u001b[1;32m----> 6\u001b[0m \u001b[43msubprocess\u001b[49m\u001b[38;5;241;43m.\u001b[39;49m\u001b[43mPopen\u001b[49m\u001b[43m(\u001b[49m\u001b[38;5;124;43mr\u001b[39;49m\u001b[38;5;124;43m'\u001b[39;49m\u001b[38;5;124;43m~/Library/Application Support/Google --remote-debugging-port=9222\u001b[39;49m\u001b[38;5;124;43m'\u001b[39;49m\u001b[43m)\u001b[49m \u001b[38;5;66;03m# 디버거 크롬 구동\u001b[39;00m\n\u001b[0;32m      9\u001b[0m option \u001b[38;5;241m=\u001b[39m Options()\n\u001b[0;32m     10\u001b[0m option\u001b[38;5;241m.\u001b[39madd_experimental_option(\u001b[38;5;124m\"\u001b[39m\u001b[38;5;124mdebuggerAddress\u001b[39m\u001b[38;5;124m\"\u001b[39m, \u001b[38;5;124m\"\u001b[39m\u001b[38;5;124m127.0.0.1:9222\u001b[39m\u001b[38;5;124m\"\u001b[39m)\n",
      "File \u001b[1;32mc:\\users\\y0010\\anaconda3\\envs\\selenium\\lib\\subprocess.py:858\u001b[0m, in \u001b[0;36mPopen.__init__\u001b[1;34m(self, args, bufsize, executable, stdin, stdout, stderr, preexec_fn, close_fds, shell, cwd, env, universal_newlines, startupinfo, creationflags, restore_signals, start_new_session, pass_fds, encoding, errors, text)\u001b[0m\n\u001b[0;32m    854\u001b[0m         \u001b[38;5;28;01mif\u001b[39;00m \u001b[38;5;28mself\u001b[39m\u001b[38;5;241m.\u001b[39mtext_mode:\n\u001b[0;32m    855\u001b[0m             \u001b[38;5;28mself\u001b[39m\u001b[38;5;241m.\u001b[39mstderr \u001b[38;5;241m=\u001b[39m io\u001b[38;5;241m.\u001b[39mTextIOWrapper(\u001b[38;5;28mself\u001b[39m\u001b[38;5;241m.\u001b[39mstderr,\n\u001b[0;32m    856\u001b[0m                     encoding\u001b[38;5;241m=\u001b[39mencoding, errors\u001b[38;5;241m=\u001b[39merrors)\n\u001b[1;32m--> 858\u001b[0m     \u001b[38;5;28;43mself\u001b[39;49m\u001b[38;5;241;43m.\u001b[39;49m\u001b[43m_execute_child\u001b[49m\u001b[43m(\u001b[49m\u001b[43margs\u001b[49m\u001b[43m,\u001b[49m\u001b[43m \u001b[49m\u001b[43mexecutable\u001b[49m\u001b[43m,\u001b[49m\u001b[43m \u001b[49m\u001b[43mpreexec_fn\u001b[49m\u001b[43m,\u001b[49m\u001b[43m \u001b[49m\u001b[43mclose_fds\u001b[49m\u001b[43m,\u001b[49m\n\u001b[0;32m    859\u001b[0m \u001b[43m                        \u001b[49m\u001b[43mpass_fds\u001b[49m\u001b[43m,\u001b[49m\u001b[43m \u001b[49m\u001b[43mcwd\u001b[49m\u001b[43m,\u001b[49m\u001b[43m \u001b[49m\u001b[43menv\u001b[49m\u001b[43m,\u001b[49m\n\u001b[0;32m    860\u001b[0m \u001b[43m                        \u001b[49m\u001b[43mstartupinfo\u001b[49m\u001b[43m,\u001b[49m\u001b[43m \u001b[49m\u001b[43mcreationflags\u001b[49m\u001b[43m,\u001b[49m\u001b[43m \u001b[49m\u001b[43mshell\u001b[49m\u001b[43m,\u001b[49m\n\u001b[0;32m    861\u001b[0m \u001b[43m                        \u001b[49m\u001b[43mp2cread\u001b[49m\u001b[43m,\u001b[49m\u001b[43m \u001b[49m\u001b[43mp2cwrite\u001b[49m\u001b[43m,\u001b[49m\n\u001b[0;32m    862\u001b[0m \u001b[43m                        \u001b[49m\u001b[43mc2pread\u001b[49m\u001b[43m,\u001b[49m\u001b[43m \u001b[49m\u001b[43mc2pwrite\u001b[49m\u001b[43m,\u001b[49m\n\u001b[0;32m    863\u001b[0m \u001b[43m                        \u001b[49m\u001b[43merrread\u001b[49m\u001b[43m,\u001b[49m\u001b[43m \u001b[49m\u001b[43merrwrite\u001b[49m\u001b[43m,\u001b[49m\n\u001b[0;32m    864\u001b[0m \u001b[43m                        \u001b[49m\u001b[43mrestore_signals\u001b[49m\u001b[43m,\u001b[49m\u001b[43m \u001b[49m\u001b[43mstart_new_session\u001b[49m\u001b[43m)\u001b[49m\n\u001b[0;32m    865\u001b[0m \u001b[38;5;28;01mexcept\u001b[39;00m:\n\u001b[0;32m    866\u001b[0m     \u001b[38;5;66;03m# Cleanup if the child failed starting.\u001b[39;00m\n\u001b[0;32m    867\u001b[0m     \u001b[38;5;28;01mfor\u001b[39;00m f \u001b[38;5;129;01min\u001b[39;00m \u001b[38;5;28mfilter\u001b[39m(\u001b[38;5;28;01mNone\u001b[39;00m, (\u001b[38;5;28mself\u001b[39m\u001b[38;5;241m.\u001b[39mstdin, \u001b[38;5;28mself\u001b[39m\u001b[38;5;241m.\u001b[39mstdout, \u001b[38;5;28mself\u001b[39m\u001b[38;5;241m.\u001b[39mstderr)):\n",
      "File \u001b[1;32mc:\\users\\y0010\\anaconda3\\envs\\selenium\\lib\\subprocess.py:1311\u001b[0m, in \u001b[0;36mPopen._execute_child\u001b[1;34m(self, args, executable, preexec_fn, close_fds, pass_fds, cwd, env, startupinfo, creationflags, shell, p2cread, p2cwrite, c2pread, c2pwrite, errread, errwrite, unused_restore_signals, unused_start_new_session)\u001b[0m\n\u001b[0;32m   1309\u001b[0m \u001b[38;5;66;03m# Start the process\u001b[39;00m\n\u001b[0;32m   1310\u001b[0m \u001b[38;5;28;01mtry\u001b[39;00m:\n\u001b[1;32m-> 1311\u001b[0m     hp, ht, pid, tid \u001b[38;5;241m=\u001b[39m \u001b[43m_winapi\u001b[49m\u001b[38;5;241;43m.\u001b[39;49m\u001b[43mCreateProcess\u001b[49m\u001b[43m(\u001b[49m\u001b[43mexecutable\u001b[49m\u001b[43m,\u001b[49m\u001b[43m \u001b[49m\u001b[43margs\u001b[49m\u001b[43m,\u001b[49m\n\u001b[0;32m   1312\u001b[0m \u001b[43m                             \u001b[49m\u001b[38;5;66;43;03m# no special security\u001b[39;49;00m\n\u001b[0;32m   1313\u001b[0m \u001b[43m                             \u001b[49m\u001b[38;5;28;43;01mNone\u001b[39;49;00m\u001b[43m,\u001b[49m\u001b[43m \u001b[49m\u001b[38;5;28;43;01mNone\u001b[39;49;00m\u001b[43m,\u001b[49m\n\u001b[0;32m   1314\u001b[0m \u001b[43m                             \u001b[49m\u001b[38;5;28;43mint\u001b[39;49m\u001b[43m(\u001b[49m\u001b[38;5;129;43;01mnot\u001b[39;49;00m\u001b[43m \u001b[49m\u001b[43mclose_fds\u001b[49m\u001b[43m)\u001b[49m\u001b[43m,\u001b[49m\n\u001b[0;32m   1315\u001b[0m \u001b[43m                             \u001b[49m\u001b[43mcreationflags\u001b[49m\u001b[43m,\u001b[49m\n\u001b[0;32m   1316\u001b[0m \u001b[43m                             \u001b[49m\u001b[43menv\u001b[49m\u001b[43m,\u001b[49m\n\u001b[0;32m   1317\u001b[0m \u001b[43m                             \u001b[49m\u001b[43mcwd\u001b[49m\u001b[43m,\u001b[49m\n\u001b[0;32m   1318\u001b[0m \u001b[43m                             \u001b[49m\u001b[43mstartupinfo\u001b[49m\u001b[43m)\u001b[49m\n\u001b[0;32m   1319\u001b[0m \u001b[38;5;28;01mfinally\u001b[39;00m:\n\u001b[0;32m   1320\u001b[0m     \u001b[38;5;66;03m# Child is launched. Close the parent's copy of those pipe\u001b[39;00m\n\u001b[0;32m   1321\u001b[0m     \u001b[38;5;66;03m# handles that only the child should have open.  You need\u001b[39;00m\n\u001b[1;32m   (...)\u001b[0m\n\u001b[0;32m   1324\u001b[0m     \u001b[38;5;66;03m# pipe will not close when the child process exits and the\u001b[39;00m\n\u001b[0;32m   1325\u001b[0m     \u001b[38;5;66;03m# ReadFile will hang.\u001b[39;00m\n\u001b[0;32m   1326\u001b[0m     \u001b[38;5;28mself\u001b[39m\u001b[38;5;241m.\u001b[39m_close_pipe_fds(p2cread, p2cwrite,\n\u001b[0;32m   1327\u001b[0m                          c2pread, c2pwrite,\n\u001b[0;32m   1328\u001b[0m                          errread, errwrite)\n",
      "\u001b[1;31mFileNotFoundError\u001b[0m: [WinError 2] 지정된 파일을 찾을 수 없습니다"
     ]
    }
   ],
   "source": [
    "\n",
    "from selenium import webdriver\n",
    "from selenium.webdriver.chrome.options import Options\n",
    "import chromedriver_autoinstaller\n",
    "import subprocess\n",
    "\n",
    "subprocess.Popen(r'~/Library/Application Support/Google --remote-debugging-port=9222') # 디버거 크롬 구동\n",
    "\n",
    "\n",
    "option = Options()\n",
    "option.add_experimental_option(\"debuggerAddress\", \"127.0.0.1:9222\")\n",
    "\n",
    "chrome_ver = chromedriver_autoinstaller.get_chrome_version().split('.')[0]\n",
    "try:\n",
    "    driver = webdriver.Chrome(f'./{chrome_ver}/chromedriver.exe', options=option)\n",
    "except:\n",
    "    chromedriver_autoinstaller.install(True)\n",
    "    driver = webdriver.Chrome(f'./{chrome_ver}/chromedriver.exe', options=option)\n",
    "driver.implicitly_wait(10)"
   ]
  },
  {
   "cell_type": "code",
   "execution_count": 8,
   "id": "8260f482",
   "metadata": {},
   "outputs": [],
   "source": [
    "from bs4 import BeautifulSoup"
   ]
  },
  {
   "cell_type": "code",
   "execution_count": 15,
   "id": "e645ee52",
   "metadata": {},
   "outputs": [],
   "source": [
    "# 접근한 페이지의 소스 코드 페이지 html 가져오기\n",
    "page_text = driver.page_source\n",
    "html = BeautifulSoup(page_text, 'html.parser')"
   ]
  },
  {
   "cell_type": "code",
   "execution_count": 33,
   "id": "0f143747",
   "metadata": {},
   "outputs": [
    {
     "data": {
      "text/plain": [
       "'그랜저 IG'"
      ]
     },
     "execution_count": 33,
     "metadata": {},
     "output_type": "execute_result"
    }
   ],
   "source": [
    "# 모델명\n",
    "html.select('#sr_normal tr')[0].select('.cls em')[0].text"
   ]
  },
  {
   "cell_type": "code",
   "execution_count": 50,
   "id": "f7c4f5a0",
   "metadata": {},
   "outputs": [
    {
     "data": {
      "text/plain": [
       "' 2.2 디젤 프리미엄'"
      ]
     },
     "execution_count": 50,
     "metadata": {},
     "output_type": "execute_result"
    }
   ],
   "source": [
    "# 옵션\n",
    "html.select('#sr_normal tr')[0].select('.dtl strong')[0].text"
   ]
  },
  {
   "cell_type": "code",
   "execution_count": 52,
   "id": "d744d1b5",
   "metadata": {},
   "outputs": [
    {
     "data": {
      "text/plain": [
       "'18/04식'"
      ]
     },
     "execution_count": 52,
     "metadata": {},
     "output_type": "execute_result"
    }
   ],
   "source": [
    "# 연식\n",
    "html.select('#sr_normal tr')[0].select('.detail span')[0].text"
   ]
  },
  {
   "cell_type": "code",
   "execution_count": 46,
   "id": "33cff47b",
   "metadata": {},
   "outputs": [
    {
     "data": {
      "text/plain": [
       "'113,045km'"
      ]
     },
     "execution_count": 46,
     "metadata": {},
     "output_type": "execute_result"
    }
   ],
   "source": [
    "# 주행거리\n",
    "html.select('#sr_normal tr')[0].select('.detail span')[1].text"
   ]
  },
  {
   "cell_type": "code",
   "execution_count": 47,
   "id": "5d88e474",
   "metadata": {},
   "outputs": [
    {
     "data": {
      "text/plain": [
       "'디젤'"
      ]
     },
     "execution_count": 47,
     "metadata": {},
     "output_type": "execute_result"
    }
   ],
   "source": [
    "# 연료\n",
    "html.select('#sr_normal tr')[0].select('.detail span')[2].text"
   ]
  },
  {
   "cell_type": "code",
   "execution_count": 44,
   "id": "9b1396a6",
   "metadata": {},
   "outputs": [
    {
     "data": {
      "text/plain": [
       "'1,890'"
      ]
     },
     "execution_count": 44,
     "metadata": {},
     "output_type": "execute_result"
    }
   ],
   "source": [
    "# 가격\n",
    "html.select('#sr_normal tr')[0].select('.prc_hs strong')[0].text"
   ]
  },
  {
   "cell_type": "code",
   "execution_count": 63,
   "id": "8cc40f2c",
   "metadata": {},
   "outputs": [],
   "source": [
    "data = []\n",
    "for i in range(5):\n",
    "    # 모델명\n",
    "    data.append(html.select('#sr_normal tr')[i].select('.cls em')[0].text)\n",
    "    # 옵션\n",
    "    data.append(html.select('#sr_normal tr')[i].select('.dtl strong')[0].text)\n",
    "    # 연식\n",
    "    data.append(html.select('#sr_normal tr')[i].select('.detail span')[0].text)\n",
    "    # 주행거리\n",
    "    data.append(html.select('#sr_normal tr')[i].select('.detail span')[1].text)\n",
    "    # 연료\n",
    "    data.append(html.select('#sr_normal tr')[i].select('.detail span')[2].text)\n",
    "    # 가격\n",
    "    data.append(html.select('#sr_normal tr')[i].select('.prc_hs strong')[0].text)"
   ]
  },
  {
   "cell_type": "code",
   "execution_count": 61,
   "id": "18c0830c",
   "metadata": {},
   "outputs": [
    {
     "data": {
      "text/plain": [
       "['그랜저 IG',\n",
       " ' 2.2 디젤 프리미엄',\n",
       " '18/04식',\n",
       " '113,045km',\n",
       " '디젤',\n",
       " '1,890',\n",
       " '그랜저 IG',\n",
       " ' 3.0 익스클루시브',\n",
       " '17/07식(18년형)',\n",
       " '42,720km',\n",
       " '가솔린',\n",
       " '2,360',\n",
       " '그랜저 IG',\n",
       " ' 3.0 LPi 모던 (렌터카)',\n",
       " '18/01식',\n",
       " '120,592km',\n",
       " 'LPG(일반인 구입)',\n",
       " '1,660',\n",
       " '그랜저 IG',\n",
       " ' 2.4 프리미엄',\n",
       " '18/02식',\n",
       " '102,602km',\n",
       " '가솔린',\n",
       " '2,170',\n",
       " '그랜저 IG',\n",
       " ' 3.0 익스클루시브',\n",
       " '17/06식(18년형)',\n",
       " '76,459km',\n",
       " '가솔린',\n",
       " '2,230',\n",
       " '그랜저 IG',\n",
       " ' 3.0 익스클루시브',\n",
       " '17/05식(18년형)',\n",
       " '76,790km',\n",
       " '가솔린',\n",
       " '2,000',\n",
       " '그랜저 IG',\n",
       " ' 3.0 프리미엄',\n",
       " '19/03식',\n",
       " '100,735km',\n",
       " '가솔린',\n",
       " '1,830',\n",
       " '그랜저 IG 하이브리드',\n",
       " ' 익스클루시브',\n",
       " '19/03식',\n",
       " '82,131km',\n",
       " '가솔린+전기',\n",
       " '2,860',\n",
       " '그랜저 IG',\n",
       " ' 3.0 익스클루시브',\n",
       " '18/12식(19년형)',\n",
       " '73,732km',\n",
       " '가솔린',\n",
       " '2,599',\n",
       " '그랜저 HG',\n",
       " ' HG240 모던',\n",
       " '15/01식',\n",
       " '109,570km',\n",
       " '가솔린',\n",
       " '1,380',\n",
       " '그랜저 IG 하이브리드',\n",
       " ' 익스클루시브',\n",
       " '18/05식(19년형)',\n",
       " '34,380km',\n",
       " '가솔린+전기',\n",
       " '3,190',\n",
       " '그랜저 HG',\n",
       " ' HG300 익스클루시브',\n",
       " '13/06식(14년형)',\n",
       " '130,486km',\n",
       " '가솔린',\n",
       " '1,189',\n",
       " '그랜저 IG',\n",
       " ' 3.0 LPi 모던 (렌터카)',\n",
       " '18/04식',\n",
       " '132,838km',\n",
       " 'LPG(일반인 구입)',\n",
       " '1,699',\n",
       " '더 뉴 그랜저 IG',\n",
       " ' 2.5',\n",
       " '20/01식',\n",
       " '14,740km',\n",
       " '가솔린',\n",
       " '3,690',\n",
       " '더 뉴 그랜저 IG 하이브리드',\n",
       " ' 캘리그래피',\n",
       " '20/03식',\n",
       " '19,883km',\n",
       " '가솔린+전기',\n",
       " '4,350',\n",
       " '그랜저 HG',\n",
       " ' HG240 모던',\n",
       " '14/06식(15년형)',\n",
       " '117,000km',\n",
       " '가솔린',\n",
       " '1,290',\n",
       " '그랜저 HG',\n",
       " ' HG240 모던',\n",
       " '14/06식(15년형)',\n",
       " '48,178km',\n",
       " '가솔린',\n",
       " '1,450',\n",
       " '그랜저 IG',\n",
       " ' 3.0 익스클루시브',\n",
       " '17/07식(18년형)',\n",
       " '42,720km',\n",
       " '가솔린',\n",
       " '2,360',\n",
       " '그랜저 IG',\n",
       " ' 2.2 디젤 프리미엄',\n",
       " '18/04식',\n",
       " '113,045km',\n",
       " '디젤',\n",
       " '1,890',\n",
       " '그랜저 HG',\n",
       " ' HG300 프라임',\n",
       " '12/01식',\n",
       " '129,836km',\n",
       " '가솔린',\n",
       " '1,000',\n",
       " '그랜저 IG',\n",
       " ' 3.0 LPi 모던 (렌터카)',\n",
       " '18/01식',\n",
       " '120,592km',\n",
       " 'LPG(일반인 구입)',\n",
       " '1,660',\n",
       " '그랜저 HG',\n",
       " ' HG300 노블',\n",
       " '12/03식',\n",
       " '92,573km',\n",
       " '가솔린',\n",
       " '970',\n",
       " '더 뉴 그랜저 IG 하이브리드',\n",
       " ' 캘리그래피',\n",
       " '20/06식',\n",
       " '13,000km',\n",
       " '가솔린+전기',\n",
       " '3,990',\n",
       " '그랜저 HG',\n",
       " ' HG300 익스클루시브',\n",
       " '15/01식',\n",
       " '89,335km',\n",
       " '가솔린',\n",
       " '1,459',\n",
       " '그랜저 HG',\n",
       " ' LPG HG300 모던',\n",
       " '15/04식',\n",
       " '206,800km',\n",
       " 'LPG(일반인 구입)',\n",
       " '899',\n",
       " '그랜저 IG 하이브리드',\n",
       " ' 익스클루시브',\n",
       " '19/03식',\n",
       " '82,131km',\n",
       " '가솔린+전기',\n",
       " '2,860',\n",
       " '그랜저 IG',\n",
       " ' 2.4 프리미엄',\n",
       " '18/02식',\n",
       " '102,602km',\n",
       " '가솔린',\n",
       " '2,170',\n",
       " '그랜저 HG',\n",
       " ' HG240 럭셔리',\n",
       " '12/10식',\n",
       " '145,587km',\n",
       " '가솔린',\n",
       " '750',\n",
       " '그랜저 IG',\n",
       " ' 3.0 LPi 익스클루시브 (렌터카)',\n",
       " '18/02식',\n",
       " '173,193km',\n",
       " 'LPG(일반인 구입)',\n",
       " '1,929',\n",
       " '그랜저 IG',\n",
       " ' 2.4 프리미엄',\n",
       " '19/07식',\n",
       " '78,412km',\n",
       " '가솔린',\n",
       " '2,570',\n",
       " '그랜저 HG',\n",
       " ' HG240 럭셔리',\n",
       " '11/05식',\n",
       " '116,751km',\n",
       " '가솔린',\n",
       " '778',\n",
       " '그랜저 IG',\n",
       " ' 3.0 LPi 모던 (렌터카)',\n",
       " '17/03식',\n",
       " '201,595km',\n",
       " 'LPG(일반인 구입)',\n",
       " '1,190',\n",
       " '그랜저 HG',\n",
       " ' LPG HG300 장애인용',\n",
       " '14/01식',\n",
       " '147,188km',\n",
       " 'LPG(일반인 구입)',\n",
       " '1,250',\n",
       " '그랜저 HG',\n",
       " ' HG300 프라임',\n",
       " '11/02식',\n",
       " '129,804km',\n",
       " '가솔린',\n",
       " '859',\n",
       " '그랜저 HG',\n",
       " ' LPG HG300 이그제큐티브',\n",
       " '11/12식(12년형)',\n",
       " '120,000km',\n",
       " 'LPG(일반인 구입)',\n",
       " '790',\n",
       " '그랜저 HG',\n",
       " ' LPG HG300 모던',\n",
       " '15/10식(16년형)',\n",
       " '95,978km',\n",
       " 'LPG(일반인 구입)',\n",
       " '1,430',\n",
       " '그랜저 IG',\n",
       " ' 2.4 프리미엄',\n",
       " '19/03식',\n",
       " '108,267km',\n",
       " '가솔린',\n",
       " '1,759',\n",
       " '그랜저 IG',\n",
       " ' 2.2 디젤 프리미엄',\n",
       " '18/06식(19년형)',\n",
       " '95,675km',\n",
       " '디젤',\n",
       " '2,260',\n",
       " '그랜저 IG',\n",
       " ' 3.0 익스클루시브',\n",
       " '17/06식(18년형)',\n",
       " '76,459km',\n",
       " '가솔린',\n",
       " '2,230',\n",
       " '그랜저 HG',\n",
       " ' HG240 럭셔리',\n",
       " '12/01식',\n",
       " '153,373km',\n",
       " '가솔린',\n",
       " '770',\n",
       " '그랜저 IG',\n",
       " ' 3.0 익스클루시브',\n",
       " '17/06식(18년형)',\n",
       " '80,070km',\n",
       " '가솔린',\n",
       " '2,170',\n",
       " '그랜저 IG',\n",
       " ' 3.3 셀러브리티',\n",
       " '18/02식',\n",
       " '47,491km',\n",
       " '가솔린',\n",
       " '2,899',\n",
       " '그랜저 뉴 럭셔리',\n",
       " ' Q240 디럭스',\n",
       " '09/03식',\n",
       " '55,677km',\n",
       " '가솔린',\n",
       " '470',\n",
       " '더 뉴 그랜저 IG',\n",
       " ' 2.5',\n",
       " '20/03식',\n",
       " '15,514km',\n",
       " '가솔린',\n",
       " '3,450',\n",
       " '그랜저 IG',\n",
       " ' 3.0 익스클루시브',\n",
       " '19/02식',\n",
       " '93,146km',\n",
       " '가솔린',\n",
       " '2,480',\n",
       " '그랜저 HG',\n",
       " ' HG240 럭셔리',\n",
       " '12/01식',\n",
       " '69,794km',\n",
       " '가솔린',\n",
       " '1,020',\n",
       " '그랜저 IG',\n",
       " ' 3.0 익스클루시브',\n",
       " '17/05식(18년형)',\n",
       " '76,790km',\n",
       " '가솔린',\n",
       " '2,000',\n",
       " '그랜저 HG',\n",
       " ' HG300 프라임',\n",
       " '11/12식(12년형)',\n",
       " '99,998km',\n",
       " '가솔린',\n",
       " '1,020',\n",
       " '그랜저 IG 하이브리드',\n",
       " ' 익스클루시브',\n",
       " '18/05식(19년형)',\n",
       " '34,380km',\n",
       " '가솔린+전기',\n",
       " '3,190',\n",
       " '그랜저 IG 하이브리드',\n",
       " ' 익스클루시브',\n",
       " '19/03식',\n",
       " '82,131km',\n",
       " '가솔린+전기',\n",
       " '2,860',\n",
       " '그랜저 HG',\n",
       " ' LPG HG300 프라임',\n",
       " '11/06식',\n",
       " '229,403km',\n",
       " 'LPG(일반인 구입)',\n",
       " '720']"
      ]
     },
     "execution_count": 61,
     "metadata": {},
     "output_type": "execute_result"
    }
   ],
   "source": [
    "data"
   ]
  },
  {
   "cell_type": "code",
   "execution_count": 64,
   "id": "00fb3404",
   "metadata": {},
   "outputs": [
    {
     "data": {
      "text/plain": [
       "array([['그랜저 IG', ' 2.2 디젤 프리미엄', '18/04식', '113,045km', '디젤', '1,890'],\n",
       "       ['그랜저 IG', ' 3.0 익스클루시브', '17/07식(18년형)', '42,720km', '가솔린',\n",
       "        '2,360'],\n",
       "       ['그랜저 IG', ' 3.0 LPi 모던 (렌터카)', '18/01식', '120,592km',\n",
       "        'LPG(일반인 구입)', '1,660'],\n",
       "       ['그랜저 IG', ' 2.4 프리미엄', '18/02식', '102,602km', '가솔린', '2,170'],\n",
       "       ['그랜저 IG', ' 3.0 익스클루시브', '17/06식(18년형)', '76,459km', '가솔린',\n",
       "        '2,230']], dtype='<U17')"
      ]
     },
     "execution_count": 64,
     "metadata": {},
     "output_type": "execute_result"
    }
   ],
   "source": [
    "datas = np.array(data).reshape(-1,6)\n",
    "datas"
   ]
  },
  {
   "cell_type": "code",
   "execution_count": 113,
   "id": "47067d86",
   "metadata": {},
   "outputs": [
    {
     "ename": "NameError",
     "evalue": "name 'BeautifulSoup' is not defined",
     "output_type": "error",
     "traceback": [
      "\u001b[0;31m---------------------------------------------------------------------------\u001b[0m",
      "\u001b[0;31mNameError\u001b[0m                                 Traceback (most recent call last)",
      "Input \u001b[0;32mIn [113]\u001b[0m, in \u001b[0;36m<cell line: 3>\u001b[0;34m()\u001b[0m\n\u001b[1;32m      1\u001b[0m \u001b[38;5;66;03m# 접근한 페이지의 소스 코드 페이지 html 가져오기\u001b[39;00m\n\u001b[1;32m      2\u001b[0m page_text \u001b[38;5;241m=\u001b[39m driver\u001b[38;5;241m.\u001b[39mpage_source\n\u001b[0;32m----> 3\u001b[0m html \u001b[38;5;241m=\u001b[39m \u001b[43mBeautifulSoup\u001b[49m(page_text, \u001b[38;5;124m'\u001b[39m\u001b[38;5;124mhtml.parser\u001b[39m\u001b[38;5;124m'\u001b[39m)\n\u001b[1;32m      4\u001b[0m driver\u001b[38;5;241m.\u001b[39mfind_element_by_xpath(\u001b[38;5;124m'\u001b[39m\u001b[38;5;124m//*[@id=\u001b[39m\u001b[38;5;124m\"\u001b[39m\u001b[38;5;124mpagination\u001b[39m\u001b[38;5;124m\"\u001b[39m\u001b[38;5;124m]/span[1]\u001b[39m\u001b[38;5;124m'\u001b[39m)\u001b[38;5;241m.\u001b[39mclick()\n",
      "\u001b[0;31mNameError\u001b[0m: name 'BeautifulSoup' is not defined"
     ]
    }
   ],
   "source": [
    "# 접근한 페이지의 소스 코드 페이지 html 가져오기\n",
    "page_text = driver.page_source\n",
    "html = BeautifulSoup(page_text, 'html.parser')\n",
    "driver.find_element_by_xpath('//*[@id=\"pagination\"]/span[1]').click()"
   ]
  },
  {
   "cell_type": "code",
   "execution_count": 68,
   "id": "2a8e6183",
   "metadata": {},
   "outputs": [],
   "source": [
    "page_text = driver.page_source\n",
    "html = BeautifulSoup(page_text, 'html.parser')\n",
    "data = []\n",
    "for i in range(5):\n",
    "    # 모델명\n",
    "    data.append(html.select('#sr_normal tr')[i].select('.cls em')[0].text)\n",
    "    # 옵션\n",
    "    data.append(html.select('#sr_normal tr')[i].select('.dtl strong')[0].text)\n",
    "    # 연식\n",
    "    data.append(html.select('#sr_normal tr')[i].select('.detail span')[0].text)\n",
    "    # 주행거리\n",
    "    data.append(html.select('#sr_normal tr')[i].select('.detail span')[1].text)\n",
    "    # 연료\n",
    "    data.append(html.select('#sr_normal tr')[i].select('.detail span')[2].text)\n",
    "    # 가격\n",
    "    data.append(html.select('#sr_normal tr')[i].select('.prc_hs strong')[0].text)"
   ]
  },
  {
   "cell_type": "code",
   "execution_count": 69,
   "id": "865936c6",
   "metadata": {},
   "outputs": [
    {
     "data": {
      "text/plain": [
       "array([['그랜저 HG 하이브리드', ' 프리미엄', '15/05식(16년형)', '71,800km', '가솔린+전기',\n",
       "        '2,030'],\n",
       "       ['더 뉴 그랜저 IG 하이브리드', ' 캘리그래피', '20/03식', '24,267km', '가솔린+전기',\n",
       "        '4,288'],\n",
       "       ['더 뉴 그랜저 IG', ' 2.5', '20/10식(21년형)', '22,015km', '가솔린', '3,150'],\n",
       "       ['그랜저 IG', ' 2.2 디젤 프리미엄', '17/02식', '99,366km', '디젤', '2,140'],\n",
       "       ['그랜저 IG', ' 3.0 익스클루시브', '18/08식(19년형)', '92,742km', '가솔린',\n",
       "        '2,050']], dtype='<U16')"
      ]
     },
     "execution_count": 69,
     "metadata": {},
     "output_type": "execute_result"
    }
   ],
   "source": [
    "datas = np.array(data).reshape(-1,6)\n",
    "datas"
   ]
  },
  {
   "cell_type": "code",
   "execution_count": 113,
   "id": "367c77cc",
   "metadata": {},
   "outputs": [
    {
     "name": "stderr",
     "output_type": "stream",
     "text": [
      "/var/folders/fb/fgwpc_kd3dxdcfsnm_9w3wv40000gn/T/ipykernel_99994/1715825947.py:3: DeprecationWarning: find_element_by_xpath is deprecated. Please use find_element(by=By.XPATH, value=xpath) instead\n",
      "  driver.find_element_by_xpath('//*[@id=\"pagination\"]/span[1]').click()\n"
     ]
    }
   ],
   "source": [
    "page_text = driver.page_source\n",
    "html = BeautifulSoup(page_text, 'html.parser')\n",
    "driver.find_element_by_xpath('//*[@id=\"pagination\"]/span[1]').click()"
   ]
  },
  {
   "cell_type": "code",
   "execution_count": 71,
   "id": "f43b0562",
   "metadata": {},
   "outputs": [],
   "source": []
  },
  {
   "cell_type": "code",
   "execution_count": 73,
   "id": "a30ec63d",
   "metadata": {},
   "outputs": [
    {
     "data": {
      "text/plain": [
       "array([['그랜저 HG 하이브리드', ' 프리미엄', '15/05식(16년형)', '71,800km', '가솔린+전기',\n",
       "        '2,030'],\n",
       "       ['더 뉴 그랜저 IG 하이브리드', ' 캘리그래피', '20/03식', '24,267km', '가솔린+전기',\n",
       "        '4,288'],\n",
       "       ['더 뉴 그랜저 IG', ' 2.5', '20/10식(21년형)', '22,015km', '가솔린', '3,150'],\n",
       "       ['그랜저 IG', ' 2.2 디젤 프리미엄', '17/02식', '99,366km', '디젤', '2,140'],\n",
       "       ['그랜저 IG', ' 3.0 익스클루시브', '18/08식(19년형)', '92,742km', '가솔린',\n",
       "        '2,050'],\n",
       "       ['그랜저 HG 하이브리드', ' 프리미엄', '15/05식(16년형)', '71,800km', '가솔린+전기',\n",
       "        '2,030'],\n",
       "       ['더 뉴 그랜저 IG 하이브리드', ' 캘리그래피', '20/03식', '24,267km', '가솔린+전기',\n",
       "        '4,288'],\n",
       "       ['더 뉴 그랜저 IG', ' 2.5', '20/10식(21년형)', '22,015km', '가솔린', '3,150'],\n",
       "       ['그랜저 IG', ' 2.2 디젤 프리미엄', '17/02식', '99,366km', '디젤', '2,140'],\n",
       "       ['그랜저 IG', ' 3.0 익스클루시브', '18/08식(19년형)', '92,742km', '가솔린',\n",
       "        '2,050']], dtype='<U16')"
      ]
     },
     "execution_count": 73,
     "metadata": {},
     "output_type": "execute_result"
    }
   ],
   "source": []
  },
  {
   "cell_type": "code",
   "execution_count": 142,
   "id": "cc27fff8",
   "metadata": {},
   "outputs": [
    {
     "name": "stderr",
     "output_type": "stream",
     "text": [
      "/var/folders/fb/fgwpc_kd3dxdcfsnm_9w3wv40000gn/T/ipykernel_99994/1821623355.py:1: DeprecationWarning: find_elements_by_class_name is deprecated. Please use find_elements(by=By.CLASS_NAME, value=name) instead\n",
      "  model = driver.find_elements_by_class_name('inf')\n"
     ]
    }
   ],
   "source": [
    "model = driver.find_elements_by_class_name('inf')\n",
    "# option = driver.find_elements_by_class_name('dtl')\n",
    "# year = driver.find_elements_by_class_name('yer')\n",
    "# km = driver.find_elements_by_class_name('km')\n",
    "# fue = driver.find_elements_by_class_name('fue')\n",
    "# price = driver.find_elements_by_class_name('prc')"
   ]
  },
  {
   "cell_type": "code",
   "execution_count": 141,
   "id": "cd0d606d",
   "metadata": {},
   "outputs": [
    {
     "name": "stdout",
     "output_type": "stream",
     "text": [
      "현대 그랜저 IG 가솔린+전기\n",
      "현대 그랜저 IG 가솔린\n",
      "현대 그랜저 IG 가솔린\n",
      "현대 그랜저 HG 가솔린\n",
      "현대 그랜저 HG 하이브리드 가솔린\n",
      "현대 그랜저 TG LPG(일반인 구입)\n",
      "현대 그랜저 IG 가솔린\n",
      "현대 더 뉴 그랜저 IG 하이브리드 가솔린\n",
      "현대 그랜저 IG 가솔린\n",
      "현대 그랜저 IG 가솔린\n",
      "현대 그랜저 IG 가솔린+전기\n",
      "현대 그랜저 HG 가솔린\n",
      "현대 그랜저 HG 하이브리드 가솔린\n",
      "현대 그랜저 TG LPG(일반인 구입)\n",
      "현대 그랜저 IG 가솔린\n",
      "현대 더 뉴 그랜저 IG 하이브리드 가솔린\n",
      "현대 그랜저 IG 하이브리드 가솔린\n",
      "현대 그랜저 IG 디젤\n",
      "현대 그랜저 IG 디젤\n",
      "현대 그랜저 IG LPG(일반인 구입)\n",
      "현대 그랜저 IG 가솔린+전기\n",
      "현대 더 뉴 그랜저 IG LPG(일반인 구입)\n",
      "현대 그랜저 IG 가솔린\n",
      "현대 그랜저 IG 가솔린\n",
      "현대 그랜저 HG 가솔린+전기\n",
      "현대 그랜저 IG 가솔린\n",
      "현대 그랜저 IG 하이브리드 가솔린\n",
      "현대 그랜저 HG 가솔린\n",
      "현대 그랜저 IG 가솔린\n",
      "현대 그랜저 HG 가솔린\n",
      "현대 그랜저 IG 가솔린\n",
      "현대 그랜저 HG LPG(일반인 구입)\n",
      "현대 그랜저 IG 가솔린\n",
      "현대 그랜저 HG 디젤\n",
      "현대 그랜저 IG 가솔린\n",
      "현대 그랜저 HG 가솔린\n",
      "현대 그랜저 HG 하이브리드 가솔린+전기\n",
      "현대 그랜저 TG 가솔린\n",
      "현대 그랜저 IG 가솔린\n",
      "현대 그랜저 IG 가솔린\n",
      "현대 더 뉴 그랜저 IG 하이브리드 가솔린\n",
      "현대 그랜저 IG 가솔린\n",
      "현대 그랜저 IG 가솔린\n",
      "현대 그랜저 IG LPG(일반인 구입)\n",
      "현대 그랜저 HG 디젤\n",
      "현대 그랜저 IG 가솔린+전기\n",
      "현대 그랜저 IG 가솔린\n",
      "현대 더 뉴 그랜저 IG \n",
      "현대 그랜저 IG LPG(일반인 구입)\n",
      "현대 그랜저 IG LPG(일반인 구입)\n",
      "현대 더 뉴 그랜저 IG 가솔린\n"
     ]
    }
   ],
   "source": [
    "for i in zip(model,option,year,km,fue):\n",
    "    print(i[0].text,i[4].text)"
   ]
  },
  {
   "cell_type": "code",
   "execution_count": 162,
   "id": "d2a8061e",
   "metadata": {},
   "outputs": [
    {
     "name": "stderr",
     "output_type": "stream",
     "text": [
      "/var/folders/fb/fgwpc_kd3dxdcfsnm_9w3wv40000gn/T/ipykernel_99994/1589823279.py:1: DeprecationWarning: find_element_by_xpath is deprecated. Please use find_element(by=By.XPATH, value=xpath) instead\n",
      "  driver.find_element_by_xpath('//*[@id=\"sr_normal\"]/tr[20]/td[2]/a/span[1]/em').text\n"
     ]
    },
    {
     "data": {
      "text/plain": [
       "'그랜저 HG'"
      ]
     },
     "execution_count": 162,
     "metadata": {},
     "output_type": "execute_result"
    }
   ],
   "source": [
    "driver.find_element_by_xpath('//*[@id=\"sr_normal\"]/tr[1]/td[2]/a/span[1]/em').text"
   ]
  },
  {
   "cell_type": "code",
   "execution_count": 161,
   "id": "d2274cf6",
   "metadata": {},
   "outputs": [
    {
     "name": "stderr",
     "output_type": "stream",
     "text": [
      "/var/folders/fb/fgwpc_kd3dxdcfsnm_9w3wv40000gn/T/ipykernel_99994/3321852988.py:1: DeprecationWarning: find_element_by_xpath is deprecated. Please use find_element(by=By.XPATH, value=xpath) instead\n",
      "  driver.find_element_by_xpath('//*[@id=\"sr_normal\"]/tr[1]/td[2]/a/span[2]').text\n"
     ]
    },
    {
     "data": {
      "text/plain": [
       "'프리미엄'"
      ]
     },
     "execution_count": 161,
     "metadata": {},
     "output_type": "execute_result"
    }
   ],
   "source": [
    "driver.find_element_by_xpath('//*[@id=\"sr_normal\"]/tr[1]/td[2]/a/span[2]').text"
   ]
  },
  {
   "cell_type": "code",
   "execution_count": 154,
   "id": "c56343cc",
   "metadata": {},
   "outputs": [
    {
     "name": "stderr",
     "output_type": "stream",
     "text": [
      "/var/folders/fb/fgwpc_kd3dxdcfsnm_9w3wv40000gn/T/ipykernel_99994/3258286340.py:1: DeprecationWarning: find_element_by_xpath is deprecated. Please use find_element(by=By.XPATH, value=xpath) instead\n",
      "  driver.find_element_by_xpath('//*[@id=\"sr_normal\"]/tr[1]/td[2]/span[1]/span[1]').text\n"
     ]
    },
    {
     "data": {
      "text/plain": [
       "'17/09식(18년형)'"
      ]
     },
     "execution_count": 154,
     "metadata": {},
     "output_type": "execute_result"
    }
   ],
   "source": [
    "driver.find_element_by_xpath('//*[@id=\"sr_normal\"]/tr[1]/td[2]/span[1]/span[1]').text"
   ]
  },
  {
   "cell_type": "code",
   "execution_count": 155,
   "id": "35aa9b20",
   "metadata": {},
   "outputs": [
    {
     "name": "stderr",
     "output_type": "stream",
     "text": [
      "/var/folders/fb/fgwpc_kd3dxdcfsnm_9w3wv40000gn/T/ipykernel_99994/590652647.py:1: DeprecationWarning: find_element_by_xpath is deprecated. Please use find_element(by=By.XPATH, value=xpath) instead\n",
      "  driver.find_element_by_xpath('//*[@id=\"sr_normal\"]/tr[1]/td[2]/span[1]/span[2]').text\n"
     ]
    },
    {
     "data": {
      "text/plain": [
       "'75,679km'"
      ]
     },
     "execution_count": 155,
     "metadata": {},
     "output_type": "execute_result"
    }
   ],
   "source": [
    "driver.find_element_by_xpath('//*[@id=\"sr_normal\"]/tr[1]/td[2]/span[1]/span[2]').text"
   ]
  },
  {
   "cell_type": "code",
   "execution_count": 156,
   "id": "cb78847c",
   "metadata": {},
   "outputs": [
    {
     "name": "stderr",
     "output_type": "stream",
     "text": [
      "/var/folders/fb/fgwpc_kd3dxdcfsnm_9w3wv40000gn/T/ipykernel_99994/51738945.py:1: DeprecationWarning: find_element_by_xpath is deprecated. Please use find_element(by=By.XPATH, value=xpath) instead\n",
      "  driver.find_element_by_xpath('//*[@id=\"sr_normal\"]/tr[1]/td[2]/span[1]/span[3]').text\n"
     ]
    },
    {
     "data": {
      "text/plain": [
       "'가솔린+전기'"
      ]
     },
     "execution_count": 156,
     "metadata": {},
     "output_type": "execute_result"
    }
   ],
   "source": [
    "driver.find_element_by_xpath('//*[@id=\"sr_normal\"]/tr[1]/td[2]/span[1]/span[3]').text"
   ]
  },
  {
   "cell_type": "code",
   "execution_count": 157,
   "id": "3bae7a7e",
   "metadata": {},
   "outputs": [
    {
     "name": "stderr",
     "output_type": "stream",
     "text": [
      "/var/folders/fb/fgwpc_kd3dxdcfsnm_9w3wv40000gn/T/ipykernel_99994/4127727584.py:1: DeprecationWarning: find_element_by_xpath is deprecated. Please use find_element(by=By.XPATH, value=xpath) instead\n",
      "  driver.find_element_by_xpath('//*[@id=\"sr_normal\"]/tr[1]/td[3]/strong').text\n"
     ]
    },
    {
     "data": {
      "text/plain": [
       "'2,450'"
      ]
     },
     "execution_count": 157,
     "metadata": {},
     "output_type": "execute_result"
    }
   ],
   "source": [
    "driver.find_element_by_xpath('//*[@id=\"sr_normal\"]/tr[1]/td[3]/strong').text"
   ]
  },
  {
   "cell_type": "code",
   "execution_count": 166,
   "id": "6d9fee15",
   "metadata": {},
   "outputs": [
    {
     "name": "stderr",
     "output_type": "stream",
     "text": [
      "/var/folders/fb/fgwpc_kd3dxdcfsnm_9w3wv40000gn/T/ipykernel_99994/1810272364.py:1: DeprecationWarning: find_element_by_xpath is deprecated. Please use find_element(by=By.XPATH, value=xpath) instead\n",
      "  model = driver.find_element_by_xpath('//*[@id=\"sr_normal\"]/tr[1]/td[2]/a/span[1]/em').text\n",
      "/var/folders/fb/fgwpc_kd3dxdcfsnm_9w3wv40000gn/T/ipykernel_99994/1810272364.py:2: DeprecationWarning: find_element_by_xpath is deprecated. Please use find_element(by=By.XPATH, value=xpath) instead\n",
      "  option = driver.find_element_by_xpath('//*[@id=\"sr_normal\"]/tr[1]/td[2]/a/span[2]').text\n",
      "/var/folders/fb/fgwpc_kd3dxdcfsnm_9w3wv40000gn/T/ipykernel_99994/1810272364.py:3: DeprecationWarning: find_element_by_xpath is deprecated. Please use find_element(by=By.XPATH, value=xpath) instead\n",
      "  year = driver.find_element_by_xpath('//*[@id=\"sr_normal\"]/tr[1]/td[2]/span[1]/span[1]').text\n",
      "/var/folders/fb/fgwpc_kd3dxdcfsnm_9w3wv40000gn/T/ipykernel_99994/1810272364.py:4: DeprecationWarning: find_element_by_xpath is deprecated. Please use find_element(by=By.XPATH, value=xpath) instead\n",
      "  km = driver.find_element_by_xpath('//*[@id=\"sr_normal\"]/tr[1]/td[2]/span[1]/span[2]').text\n",
      "/var/folders/fb/fgwpc_kd3dxdcfsnm_9w3wv40000gn/T/ipykernel_99994/1810272364.py:5: DeprecationWarning: find_element_by_xpath is deprecated. Please use find_element(by=By.XPATH, value=xpath) instead\n",
      "  fue = driver.find_element_by_xpath('//*[@id=\"sr_normal\"]/tr[1]/td[2]/span[1]/span[3]').text\n",
      "/var/folders/fb/fgwpc_kd3dxdcfsnm_9w3wv40000gn/T/ipykernel_99994/1810272364.py:6: DeprecationWarning: find_element_by_xpath is deprecated. Please use find_element(by=By.XPATH, value=xpath) instead\n",
      "  price = driver.find_element_by_xpath('//*[@id=\"sr_normal\"]/tr[1]/td[3]/strong').text\n"
     ]
    }
   ],
   "source": [
    "model = driver.find_element_by_xpath('//*[@id=\"sr_normal\"]/tr[1]/td[2]/a/span[1]/em').text\n",
    "option = driver.find_element_by_xpath('//*[@id=\"sr_normal\"]/tr[1]/td[2]/a/span[2]').text\n",
    "year = driver.find_element_by_xpath('//*[@id=\"sr_normal\"]/tr[1]/td[2]/span[1]/span[1]').text\n",
    "km = driver.find_element_by_xpath('//*[@id=\"sr_normal\"]/tr[1]/td[2]/span[1]/span[2]').text\n",
    "fue = driver.find_element_by_xpath('//*[@id=\"sr_normal\"]/tr[1]/td[2]/span[1]/span[3]').text\n",
    "price = driver.find_element_by_xpath('//*[@id=\"sr_normal\"]/tr[1]/td[3]/strong').text"
   ]
  },
  {
   "cell_type": "code",
   "execution_count": 186,
   "id": "29a08a7c",
   "metadata": {},
   "outputs": [
    {
     "name": "stderr",
     "output_type": "stream",
     "text": [
      "/var/folders/fb/fgwpc_kd3dxdcfsnm_9w3wv40000gn/T/ipykernel_99994/1917637553.py:3: DeprecationWarning: find_element_by_xpath is deprecated. Please use find_element(by=By.XPATH, value=xpath) instead\n",
      "  driver.find_element_by_xpath('//*[@id=\"pagination\"]/span[2]').click()\n"
     ]
    }
   ],
   "source": [
    "page_text = driver.page_source\n",
    "html = BeautifulSoup(page_text, 'html.parser')\n",
    "driver.find_element_by_xpath('//*[@id=\"pagination\"]/span[2]').click()"
   ]
  },
  {
   "cell_type": "code",
   "execution_count": 272,
   "id": "787512d2",
   "metadata": {},
   "outputs": [
    {
     "name": "stdout",
     "output_type": "stream",
     "text": [
      "1\n",
      "2\n",
      "3\n",
      "4\n",
      "5\n",
      "6\n",
      "7\n",
      "8\n",
      "9\n",
      "10\n",
      "11\n"
     ]
    },
    {
     "name": "stderr",
     "output_type": "stream",
     "text": [
      "/var/folders/fb/fgwpc_kd3dxdcfsnm_9w3wv40000gn/T/ipykernel_99994/1720711194.py:1: DeprecationWarning: find_element_by_css_selector is deprecated. Please use find_element(by=By.CSS_SELECTOR, value=css_selector) instead\n",
      "  page_bar = driver.find_element_by_css_selector('#pagination')\n"
     ]
    },
    {
     "ename": "AttributeError",
     "evalue": "'NoneType' object has no attribute 'strip'",
     "output_type": "error",
     "traceback": [
      "\u001b[0;31m---------------------------------------------------------------------------\u001b[0m",
      "\u001b[0;31mAttributeError\u001b[0m                            Traceback (most recent call last)",
      "Input \u001b[0;32mIn [272]\u001b[0m, in \u001b[0;36m<cell line: 3>\u001b[0;34m()\u001b[0m\n\u001b[1;32m      2\u001b[0m pages \u001b[38;5;241m=\u001b[39m page_bar\u001b[38;5;241m.\u001b[39mfind_elements_by_css_selector(\u001b[38;5;124m'\u001b[39m\u001b[38;5;124ma\u001b[39m\u001b[38;5;124m'\u001b[39m)\n\u001b[1;32m      3\u001b[0m \u001b[38;5;28;01mfor\u001b[39;00m page \u001b[38;5;129;01min\u001b[39;00m pages:\n\u001b[0;32m----> 4\u001b[0m     page_num \u001b[38;5;241m=\u001b[39m \u001b[38;5;28mint\u001b[39m(\u001b[43mpage\u001b[49m\u001b[38;5;241;43m.\u001b[39;49m\u001b[43mget_attribute\u001b[49m\u001b[43m(\u001b[49m\u001b[38;5;124;43m'\u001b[39;49m\u001b[38;5;124;43mdata-page\u001b[39;49m\u001b[38;5;124;43m'\u001b[39;49m\u001b[43m)\u001b[49m\u001b[38;5;241;43m.\u001b[39;49m\u001b[43mstrip\u001b[49m())\n\u001b[1;32m      5\u001b[0m     \u001b[38;5;28mprint\u001b[39m(page_num)\n",
      "\u001b[0;31mAttributeError\u001b[0m: 'NoneType' object has no attribute 'strip'"
     ]
    }
   ],
   "source": [
    "page_bar = driver.find_element_by_css_selector('#pagination')\n",
    "pages = page_bar.find_elements_by_css_selector('a')\n",
    "for page in pages:\n",
    "    page_num = int(page.get_attribute('data-page').strip())\n",
    "    print(page_num)\n",
    "# pages.text"
   ]
  },
  {
   "cell_type": "code",
   "execution_count": 266,
   "id": "c1e6683e",
   "metadata": {},
   "outputs": [
    {
     "data": {
      "text/plain": [
       "1"
      ]
     },
     "execution_count": 266,
     "metadata": {},
     "output_type": "execute_result"
    }
   ],
   "source": [
    "page_n = page_bar.find_elements_by_css_selector('.current')[0]\n",
    "int(page_n.text)"
   ]
  },
  {
   "cell_type": "code",
   "execution_count": 271,
   "id": "056c41a8",
   "metadata": {},
   "outputs": [
    {
     "ename": "StaleElementReferenceException",
     "evalue": "Message: stale element reference: element is not attached to the page document\n  (Session info: chrome=101.0.4951.64)\nStacktrace:\n0   chromedriver                        0x00000001008272c9 chromedriver + 5120713\n1   chromedriver                        0x00000001007b5e33 chromedriver + 4656691\n2   chromedriver                        0x00000001003a5158 chromedriver + 393560\n3   chromedriver                        0x00000001003a8087 chromedriver + 405639\n4   chromedriver                        0x00000001003a7f26 chromedriver + 405286\n5   chromedriver                        0x00000001003a8aed chromedriver + 408301\n6   chromedriver                        0x000000010040ab63 chromedriver + 809827\n7   chromedriver                        0x00000001003f7482 chromedriver + 730242\n8   chromedriver                        0x0000000100409f41 chromedriver + 806721\n9   chromedriver                        0x00000001003f7373 chromedriver + 729971\n10  chromedriver                        0x00000001003cd609 chromedriver + 558601\n11  chromedriver                        0x00000001003ce635 chromedriver + 562741\n12  chromedriver                        0x00000001007f9b1d chromedriver + 4934429\n13  chromedriver                        0x00000001007fe295 chromedriver + 4952725\n14  chromedriver                        0x00000001008033cf chromedriver + 4973519\n15  chromedriver                        0x00000001007fecba chromedriver + 4955322\n16  chromedriver                        0x00000001007d937c chromedriver + 4801404\n17  chromedriver                        0x0000000100818c68 chromedriver + 5061736\n18  chromedriver                        0x0000000100818def chromedriver + 5062127\n19  chromedriver                        0x000000010082e5e5 chromedriver + 5150181\n20  libsystem_pthread.dylib             0x00007ff80f2f14e1 _pthread_start + 125\n21  libsystem_pthread.dylib             0x00007ff80f2ecf6b thread_start + 15\n",
     "output_type": "error",
     "traceback": [
      "\u001b[0;31m---------------------------------------------------------------------------\u001b[0m",
      "\u001b[0;31mStaleElementReferenceException\u001b[0m            Traceback (most recent call last)",
      "Input \u001b[0;32mIn [271]\u001b[0m, in \u001b[0;36m<cell line: 1>\u001b[0;34m()\u001b[0m\n\u001b[1;32m      1\u001b[0m \u001b[38;5;28;01mfor\u001b[39;00m page \u001b[38;5;129;01min\u001b[39;00m pages:\n\u001b[0;32m----> 2\u001b[0m     page_num \u001b[38;5;241m=\u001b[39m \u001b[38;5;28mint\u001b[39m(\u001b[43mpage\u001b[49m\u001b[38;5;241;43m.\u001b[39;49m\u001b[43mget_attribute\u001b[49m\u001b[43m(\u001b[49m\u001b[38;5;124;43m'\u001b[39;49m\u001b[38;5;124;43mdata-page\u001b[39;49m\u001b[38;5;124;43m'\u001b[39;49m\u001b[43m)\u001b[49m\u001b[38;5;241m.\u001b[39mstrip())\n\u001b[1;32m      3\u001b[0m     \u001b[38;5;28mprint\u001b[39m(page_num)\n",
      "File \u001b[0;32m/opt/homebrew/Caskroom/miniforge/base/envs/fastcampus/lib/python3.8/site-packages/selenium/webdriver/remote/webelement.py:155\u001b[0m, in \u001b[0;36mWebElement.get_attribute\u001b[0;34m(self, name)\u001b[0m\n\u001b[1;32m    128\u001b[0m \u001b[38;5;28;01mdef\u001b[39;00m \u001b[38;5;21mget_attribute\u001b[39m(\u001b[38;5;28mself\u001b[39m, name) \u001b[38;5;241m-\u001b[39m\u001b[38;5;241m>\u001b[39m \u001b[38;5;28mstr\u001b[39m:\n\u001b[1;32m    129\u001b[0m     \u001b[38;5;124;03m\"\"\"Gets the given attribute or property of the element.\u001b[39;00m\n\u001b[1;32m    130\u001b[0m \n\u001b[1;32m    131\u001b[0m \u001b[38;5;124;03m    This method will first try to return the value of a property with the\u001b[39;00m\n\u001b[0;32m   (...)\u001b[0m\n\u001b[1;32m    152\u001b[0m \n\u001b[1;32m    153\u001b[0m \u001b[38;5;124;03m    \"\"\"\u001b[39;00m\n\u001b[0;32m--> 155\u001b[0m     attribute_value \u001b[38;5;241m=\u001b[39m \u001b[38;5;28;43mself\u001b[39;49m\u001b[38;5;241;43m.\u001b[39;49m\u001b[43mparent\u001b[49m\u001b[38;5;241;43m.\u001b[39;49m\u001b[43mexecute_script\u001b[49m\u001b[43m(\u001b[49m\n\u001b[1;32m    156\u001b[0m \u001b[43m        \u001b[49m\u001b[38;5;124;43m\"\u001b[39;49m\u001b[38;5;124;43mreturn (\u001b[39;49m\u001b[38;5;132;43;01m%s\u001b[39;49;00m\u001b[38;5;124;43m).apply(null, arguments);\u001b[39;49m\u001b[38;5;124;43m\"\u001b[39;49m\u001b[43m \u001b[49m\u001b[38;5;241;43m%\u001b[39;49m\u001b[43m \u001b[49m\u001b[43mgetAttribute_js\u001b[49m\u001b[43m,\u001b[49m\n\u001b[1;32m    157\u001b[0m \u001b[43m        \u001b[49m\u001b[38;5;28;43mself\u001b[39;49m\u001b[43m,\u001b[49m\u001b[43m \u001b[49m\u001b[43mname\u001b[49m\u001b[43m)\u001b[49m\n\u001b[1;32m    158\u001b[0m     \u001b[38;5;28;01mreturn\u001b[39;00m attribute_value\n",
      "File \u001b[0;32m/opt/homebrew/Caskroom/miniforge/base/envs/fastcampus/lib/python3.8/site-packages/selenium/webdriver/remote/webdriver.py:879\u001b[0m, in \u001b[0;36mWebDriver.execute_script\u001b[0;34m(self, script, *args)\u001b[0m\n\u001b[1;32m    876\u001b[0m converted_args \u001b[38;5;241m=\u001b[39m \u001b[38;5;28mlist\u001b[39m(args)\n\u001b[1;32m    877\u001b[0m command \u001b[38;5;241m=\u001b[39m Command\u001b[38;5;241m.\u001b[39mW3C_EXECUTE_SCRIPT\n\u001b[0;32m--> 879\u001b[0m \u001b[38;5;28;01mreturn\u001b[39;00m \u001b[38;5;28;43mself\u001b[39;49m\u001b[38;5;241;43m.\u001b[39;49m\u001b[43mexecute\u001b[49m\u001b[43m(\u001b[49m\u001b[43mcommand\u001b[49m\u001b[43m,\u001b[49m\u001b[43m \u001b[49m\u001b[43m{\u001b[49m\n\u001b[1;32m    880\u001b[0m \u001b[43m    \u001b[49m\u001b[38;5;124;43m'\u001b[39;49m\u001b[38;5;124;43mscript\u001b[39;49m\u001b[38;5;124;43m'\u001b[39;49m\u001b[43m:\u001b[49m\u001b[43m \u001b[49m\u001b[43mscript\u001b[49m\u001b[43m,\u001b[49m\n\u001b[1;32m    881\u001b[0m \u001b[43m    \u001b[49m\u001b[38;5;124;43m'\u001b[39;49m\u001b[38;5;124;43margs\u001b[39;49m\u001b[38;5;124;43m'\u001b[39;49m\u001b[43m:\u001b[49m\u001b[43m \u001b[49m\u001b[43mconverted_args\u001b[49m\u001b[43m}\u001b[49m\u001b[43m)\u001b[49m[\u001b[38;5;124m'\u001b[39m\u001b[38;5;124mvalue\u001b[39m\u001b[38;5;124m'\u001b[39m]\n",
      "File \u001b[0;32m/opt/homebrew/Caskroom/miniforge/base/envs/fastcampus/lib/python3.8/site-packages/selenium/webdriver/remote/webdriver.py:425\u001b[0m, in \u001b[0;36mWebDriver.execute\u001b[0;34m(self, driver_command, params)\u001b[0m\n\u001b[1;32m    423\u001b[0m response \u001b[38;5;241m=\u001b[39m \u001b[38;5;28mself\u001b[39m\u001b[38;5;241m.\u001b[39mcommand_executor\u001b[38;5;241m.\u001b[39mexecute(driver_command, params)\n\u001b[1;32m    424\u001b[0m \u001b[38;5;28;01mif\u001b[39;00m response:\n\u001b[0;32m--> 425\u001b[0m     \u001b[38;5;28;43mself\u001b[39;49m\u001b[38;5;241;43m.\u001b[39;49m\u001b[43merror_handler\u001b[49m\u001b[38;5;241;43m.\u001b[39;49m\u001b[43mcheck_response\u001b[49m\u001b[43m(\u001b[49m\u001b[43mresponse\u001b[49m\u001b[43m)\u001b[49m\n\u001b[1;32m    426\u001b[0m     response[\u001b[38;5;124m'\u001b[39m\u001b[38;5;124mvalue\u001b[39m\u001b[38;5;124m'\u001b[39m] \u001b[38;5;241m=\u001b[39m \u001b[38;5;28mself\u001b[39m\u001b[38;5;241m.\u001b[39m_unwrap_value(\n\u001b[1;32m    427\u001b[0m         response\u001b[38;5;241m.\u001b[39mget(\u001b[38;5;124m'\u001b[39m\u001b[38;5;124mvalue\u001b[39m\u001b[38;5;124m'\u001b[39m, \u001b[38;5;28;01mNone\u001b[39;00m))\n\u001b[1;32m    428\u001b[0m     \u001b[38;5;28;01mreturn\u001b[39;00m response\n",
      "File \u001b[0;32m/opt/homebrew/Caskroom/miniforge/base/envs/fastcampus/lib/python3.8/site-packages/selenium/webdriver/remote/errorhandler.py:247\u001b[0m, in \u001b[0;36mErrorHandler.check_response\u001b[0;34m(self, response)\u001b[0m\n\u001b[1;32m    245\u001b[0m         alert_text \u001b[38;5;241m=\u001b[39m value[\u001b[38;5;124m'\u001b[39m\u001b[38;5;124malert\u001b[39m\u001b[38;5;124m'\u001b[39m]\u001b[38;5;241m.\u001b[39mget(\u001b[38;5;124m'\u001b[39m\u001b[38;5;124mtext\u001b[39m\u001b[38;5;124m'\u001b[39m)\n\u001b[1;32m    246\u001b[0m     \u001b[38;5;28;01mraise\u001b[39;00m exception_class(message, screen, stacktrace, alert_text)  \u001b[38;5;66;03m# type: ignore[call-arg]  # mypy is not smart enough here\u001b[39;00m\n\u001b[0;32m--> 247\u001b[0m \u001b[38;5;28;01mraise\u001b[39;00m exception_class(message, screen, stacktrace)\n",
      "\u001b[0;31mStaleElementReferenceException\u001b[0m: Message: stale element reference: element is not attached to the page document\n  (Session info: chrome=101.0.4951.64)\nStacktrace:\n0   chromedriver                        0x00000001008272c9 chromedriver + 5120713\n1   chromedriver                        0x00000001007b5e33 chromedriver + 4656691\n2   chromedriver                        0x00000001003a5158 chromedriver + 393560\n3   chromedriver                        0x00000001003a8087 chromedriver + 405639\n4   chromedriver                        0x00000001003a7f26 chromedriver + 405286\n5   chromedriver                        0x00000001003a8aed chromedriver + 408301\n6   chromedriver                        0x000000010040ab63 chromedriver + 809827\n7   chromedriver                        0x00000001003f7482 chromedriver + 730242\n8   chromedriver                        0x0000000100409f41 chromedriver + 806721\n9   chromedriver                        0x00000001003f7373 chromedriver + 729971\n10  chromedriver                        0x00000001003cd609 chromedriver + 558601\n11  chromedriver                        0x00000001003ce635 chromedriver + 562741\n12  chromedriver                        0x00000001007f9b1d chromedriver + 4934429\n13  chromedriver                        0x00000001007fe295 chromedriver + 4952725\n14  chromedriver                        0x00000001008033cf chromedriver + 4973519\n15  chromedriver                        0x00000001007fecba chromedriver + 4955322\n16  chromedriver                        0x00000001007d937c chromedriver + 4801404\n17  chromedriver                        0x0000000100818c68 chromedriver + 5061736\n18  chromedriver                        0x0000000100818def chromedriver + 5062127\n19  chromedriver                        0x000000010082e5e5 chromedriver + 5150181\n20  libsystem_pthread.dylib             0x00007ff80f2f14e1 _pthread_start + 125\n21  libsystem_pthread.dylib             0x00007ff80f2ecf6b thread_start + 15\n"
     ]
    }
   ],
   "source": []
  },
  {
   "cell_type": "code",
   "execution_count": 103,
   "id": "08b33a84",
   "metadata": {},
   "outputs": [],
   "source": [
    "def crawling(driver):\n",
    "    page_bar = driver.find_element_by_css_selector('#pagination')\n",
    "    pages = page_bar.find_elements_by_css_selector('a')\n",
    "    page_now = int(page_bar.find_elements_by_css_selector('.current')[0].text)\n",
    "    print(f'page_now : {page_now}')\n",
    "\n",
    "    for page in pages[:-2]:\n",
    "\n",
    "        page_num = page.text\n",
    "        print('page_num :' , page_num)\n",
    "        \n",
    "        if int(page_num) <= 1:\n",
    "            continue\n",
    "        elif int(page_num) > page_now:\n",
    "            print('elif')\n",
    "            page.send_keys('\\n')\n",
    "#             driver.implicitly_wait(3)\n",
    "            time.sleep(2)\n",
    "\n",
    "            if (int(page_num) // 10 >= 1) & (int(page_num) % 10 == 1):\n",
    "                print('if')\n",
    "                crawling(driver)\n",
    "\n",
    "\n",
    "\n",
    "        else :\n",
    "            print('마지막')\n",
    "            return True\n",
    "        \n",
    "#     for i in range(len(pages[:-1])):\n",
    "#         page_num = pages[i].get_dom_attribute('data-page')\n",
    "#         print('page_num :' , page_num)\n",
    "        \n",
    "#         if int(page_num) <= 1:\n",
    "#             continue\n",
    "#         elif int(page_num) > page_now:\n",
    "#             print('elif')\n",
    "#             pages[i].send_keys('\\n')\n",
    "# #             driver.implicitly_wait(3)\n",
    "#             time.sleep(2)\n",
    "\n",
    "#             if (int(page_num) // 10 >= 1) & (int(page_num) % 10 == 1):\n",
    "#                 crawling(driver)\n",
    "\n",
    "\n",
    "\n",
    "#         else :\n",
    "#             print('마지막')\n",
    "#             return True\n",
    "\n",
    "#     for page in pages[:-1]:\n",
    "#         page_num = page.get_attribute('data-page')\n",
    "#         print('page_num :' , page_num)\n",
    "        \n",
    "#         if int(page_num) <= 1:\n",
    "#             continue\n",
    "#         elif int(page_num) > page_now:\n",
    "#             print('elif')\n",
    "#             page.send_keys('\\n')\n",
    "#             driver.implicitly_wait(3)\n",
    "#             time.sleep(2)\n",
    "\n",
    "#             if (int(page_num) // 10 >= 1) & (int(page_num) % 10 == 1):\n",
    "#                 crawling(driver)\n",
    "\n",
    "\n",
    "\n",
    "#         else :\n",
    "#             print('마지막')\n",
    "#             return True\n",
    "            \n",
    "            \n",
    "    \n",
    "    "
   ]
  },
  {
   "cell_type": "code",
   "execution_count": 43,
   "id": "f71d8231",
   "metadata": {},
   "outputs": [
    {
     "data": {
      "text/plain": [
       "11"
      ]
     },
     "execution_count": 43,
     "metadata": {},
     "output_type": "execute_result"
    }
   ],
   "source": [
    "page_bar = driver.find_element_by_css_selector('#pagination')\n",
    "pages = page_bar.find_elements_by_css_selector('a')\n",
    "page = []\n",
    "for i in pages[:-1]:\n",
    "    page.append(int(i.get_attribute('data-page')))\n",
    "#     print(i)\n",
    "len(page)"
   ]
  },
  {
   "cell_type": "code",
   "execution_count": 54,
   "id": "5b789a13",
   "metadata": {},
   "outputs": [],
   "source": [
    "seed = np.random.randint(100)\n",
    "np.random.seed(seed)\n",
    "a = np.random.randint(3)\n",
    "time.sleep(a)"
   ]
  },
  {
   "cell_type": "code",
   "execution_count": 107,
   "id": "f75fb4a4",
   "metadata": {},
   "outputs": [],
   "source": [
    "# 클릭하는 방법을 사용하자\n",
    "def crawling2(driver):\n",
    "    page_bar = driver.find_element_by_css_selector('#pagination')\n",
    "    pages = page_bar.find_elements_by_css_selector('a')\n",
    "    page_now = int(page_bar.find_elements_by_css_selector('.current')[0].text)\n",
    "    page = []\n",
    "    for z in pages[:-1]:\n",
    "        page.append(int(z.get_attribute('data-page')))\n",
    "    \n",
    "    for j in range(2,13):\n",
    "        try:\n",
    "            print(j)\n",
    "            if j <= 1:\n",
    "                continue\n",
    "            else:\n",
    "                # car crawling\n",
    "                for i in range(1,51):\n",
    "                    car.append(driver.find_element_by_xpath('//*[@id=\"sr_normal\"]/tr[{0}]/td[2]/a/span[1]/em'.format(i)).text)\n",
    "                    car.append(driver.find_element_by_xpath(f'//*[@id=\"sr_normal\"]/tr[{i}]/td[2]/a/span[2]').text)\n",
    "                    car.append(driver.find_element_by_xpath(f'//*[@id=\"sr_normal\"]/tr[{i}]/td[2]/span[1]/span[1]').text)\n",
    "                    car.append(driver.find_element_by_xpath(f'//*[@id=\"sr_normal\"]/tr[{i}]/td[2]/span[1]/span[2]').text)\n",
    "                    car.append(driver.find_element_by_xpath(f'//*[@id=\"sr_normal\"]/tr[{i}]/td[2]/span[1]/span[3]').text)\n",
    "                    car.append(driver.find_element_by_xpath(f'//*[@id=\"sr_normal\"]/tr[{i}]/td[3]/strong').text)\n",
    "                # 바로 뒤의 페이지로 이동\n",
    "                driver.find_element_by_xpath(f'//*[@id=\"pagination\"]/span[{j}]/a').click()\n",
    "                driver.implicitly_wait(3)\n",
    "                #차단막기\n",
    "\n",
    "                time.sleep(a)\n",
    "                \n",
    "                if (j == 11) & (len(page)==11):\n",
    "                    crawling2(driver)\n",
    "                # 다음 페이지 누르기\n",
    "                if j == 12:\n",
    "                    crawling2(driver)\n",
    "        except:\n",
    "            break\n"
   ]
  },
  {
   "cell_type": "code",
   "execution_count": 108,
   "id": "a1ac0a9a",
   "metadata": {},
   "outputs": [
    {
     "data": {
      "text/plain": [
       "0"
      ]
     },
     "execution_count": 108,
     "metadata": {},
     "output_type": "execute_result"
    }
   ],
   "source": [
    "np.random.randint(3)"
   ]
  },
  {
   "cell_type": "code",
   "execution_count": 117,
   "id": "6dbcadde",
   "metadata": {},
   "outputs": [
    {
     "name": "stdout",
     "output_type": "stream",
     "text": [
      "2\n",
      "3\n",
      "4\n",
      "5\n",
      "6\n",
      "7\n",
      "8\n",
      "9\n",
      "10\n",
      "11\n",
      "2\n",
      "3\n",
      "4\n",
      "5\n",
      "6\n",
      "7\n",
      "8\n",
      "9\n",
      "10\n",
      "11\n",
      "12\n",
      "2\n",
      "3\n",
      "4\n",
      "5\n",
      "6\n",
      "7\n",
      "8\n",
      "9\n",
      "10\n",
      "11\n",
      "12\n",
      "2\n",
      "3\n",
      "4\n",
      "5\n",
      "6\n",
      "7\n",
      "8\n",
      "9\n",
      "10\n",
      "11\n",
      "12\n",
      "2\n",
      "3\n",
      "4\n",
      "5\n",
      "6\n",
      "7\n",
      "8\n",
      "9\n",
      "10\n",
      "11\n",
      "12\n",
      "2\n",
      "3\n",
      "4\n",
      "5\n",
      "6\n",
      "7\n",
      "8\n",
      "9\n",
      "10\n",
      "11\n",
      "12\n",
      "2\n",
      "3\n",
      "4\n",
      "5\n",
      "6\n",
      "7\n",
      "8\n",
      "9\n",
      "10\n",
      "11\n",
      "12\n",
      "2\n",
      "3\n",
      "4\n",
      "5\n",
      "6\n",
      "7\n",
      "8\n",
      "9\n",
      "10\n",
      "11\n",
      "12\n",
      "2\n",
      "3\n",
      "4\n",
      "5\n",
      "6\n",
      "7\n",
      "8\n",
      "9\n",
      "10\n",
      "11\n",
      "12\n",
      "2\n",
      "3\n",
      "4\n",
      "5\n",
      "6\n",
      "7\n",
      "8\n",
      "9\n",
      "10\n",
      "11\n",
      "12\n",
      "2\n",
      "3\n",
      "4\n",
      "5\n",
      "6\n",
      "7\n",
      "8\n",
      "9\n",
      "10\n",
      "11\n",
      "12\n",
      "2\n",
      "3\n",
      "4\n",
      "5\n",
      "6\n",
      "7\n",
      "8\n",
      "9\n",
      "10\n",
      "11\n",
      "2\n",
      "12\n",
      "12\n"
     ]
    }
   ],
   "source": [
    "is_done = False\n",
    "car = []\n",
    "crawling2(driver)"
   ]
  },
  {
   "cell_type": "code",
   "execution_count": null,
   "id": "a47cb099",
   "metadata": {},
   "outputs": [],
   "source": []
  },
  {
   "cell_type": "code",
   "execution_count": 53,
   "id": "5cd68dfc",
   "metadata": {},
   "outputs": [
    {
     "ename": "SyntaxError",
     "evalue": "invalid syntax (2969727128.py, line 17)",
     "output_type": "error",
     "traceback": [
      "\u001b[0;36m  Input \u001b[0;32mIn [53]\u001b[0;36m\u001b[0m\n\u001b[0;31m    elif page_num\u001b[0m\n\u001b[0m                 ^\u001b[0m\n\u001b[0;31mSyntaxError\u001b[0m\u001b[0;31m:\u001b[0m invalid syntax\n"
     ]
    }
   ],
   "source": [
    "page_bar = driver.find_element_by_css_selector('#pagination')\n",
    "pages = page_bar.find_elements_by_css_selector('a')\n",
    "page_now = 1\n",
    "\n",
    "for page in pages:\n",
    "    page_num = int(page.get_attribute('data-page').strip())\n",
    "\n",
    "    if page_num == page_now:\n",
    "        pass\n",
    "    elif page_num > page_now:\n",
    "        page.send_keys('\\n')\n",
    "        browser.implicitly_wait(3)\n",
    "        time.sleep(2)\n",
    "\n",
    "        return False\n",
    "\n",
    "    elif page_num"
   ]
  },
  {
   "cell_type": "code",
   "execution_count": 54,
   "id": "34958955",
   "metadata": {},
   "outputs": [
    {
     "name": "stdout",
     "output_type": "stream",
     "text": [
      "11\n",
      "21\n",
      "31\n",
      "41\n"
     ]
    }
   ],
   "source": [
    "for page_num in range(50):\n",
    "    if (page_num // 10 >= 1) & (page_num % 10 == 1):\n",
    "        print(page_num)"
   ]
  },
  {
   "cell_type": "code",
   "execution_count": 208,
   "id": "4d99f09d",
   "metadata": {},
   "outputs": [
    {
     "name": "stderr",
     "output_type": "stream",
     "text": [
      "/var/folders/fb/fgwpc_kd3dxdcfsnm_9w3wv40000gn/T/ipykernel_23947/2561923266.py:3: DeprecationWarning: find_element_by_xpath is deprecated. Please use find_element(by=By.XPATH, value=xpath) instead\n",
      "  car.append(driver.find_element_by_xpath('//*[@id=\"sr_normal\"]/tr[{0}]/td[2]/a/span[1]/em'.format(i)).text)\n"
     ]
    },
    {
     "ename": "NoSuchWindowException",
     "evalue": "Message: no such window: window was already closed\n  (Session info: chrome=101.0.4951.64)\nStacktrace:\n0   chromedriver                        0x00000001029ef2c9 chromedriver + 5120713\n1   chromedriver                        0x000000010297de33 chromedriver + 4656691\n2   chromedriver                        0x000000010256d158 chromedriver + 393560\n3   chromedriver                        0x000000010255c3a7 chromedriver + 324519\n4   chromedriver                        0x000000010255d822 chromedriver + 329762\n5   chromedriver                        0x000000010255630c chromedriver + 299788\n6   chromedriver                        0x000000010256e5b2 chromedriver + 398770\n7   chromedriver                        0x00000001025d15fb chromedriver + 804347\n8   chromedriver                        0x00000001025bf373 chromedriver + 729971\n9   chromedriver                        0x0000000102595609 chromedriver + 558601\n10  chromedriver                        0x0000000102596635 chromedriver + 562741\n11  chromedriver                        0x00000001029c1b1d chromedriver + 4934429\n12  chromedriver                        0x00000001029c6295 chromedriver + 4952725\n13  chromedriver                        0x00000001029cb3cf chromedriver + 4973519\n14  chromedriver                        0x00000001029c6cba chromedriver + 4955322\n15  chromedriver                        0x00000001029a137c chromedriver + 4801404\n16  chromedriver                        0x00000001029e0c68 chromedriver + 5061736\n17  chromedriver                        0x00000001029e0def chromedriver + 5062127\n18  chromedriver                        0x00000001029f65e5 chromedriver + 5150181\n19  libsystem_pthread.dylib             0x00007ff80d8354e1 _pthread_start + 125\n20  libsystem_pthread.dylib             0x00007ff80d830f6b thread_start + 15\n",
     "output_type": "error",
     "traceback": [
      "\u001b[0;31m---------------------------------------------------------------------------\u001b[0m",
      "\u001b[0;31mNoSuchWindowException\u001b[0m                     Traceback (most recent call last)",
      "Input \u001b[0;32mIn [208]\u001b[0m, in \u001b[0;36m<cell line: 2>\u001b[0;34m()\u001b[0m\n\u001b[1;32m      1\u001b[0m car \u001b[38;5;241m=\u001b[39m []\n\u001b[1;32m      2\u001b[0m \u001b[38;5;28;01mfor\u001b[39;00m i \u001b[38;5;129;01min\u001b[39;00m \u001b[38;5;28mrange\u001b[39m(\u001b[38;5;241m1\u001b[39m,\u001b[38;5;241m51\u001b[39m):\n\u001b[0;32m----> 3\u001b[0m     car\u001b[38;5;241m.\u001b[39mappend(\u001b[43mdriver\u001b[49m\u001b[38;5;241;43m.\u001b[39;49m\u001b[43mfind_element_by_xpath\u001b[49m\u001b[43m(\u001b[49m\u001b[38;5;124;43m'\u001b[39;49m\u001b[38;5;124;43m//*[@id=\u001b[39;49m\u001b[38;5;124;43m\"\u001b[39;49m\u001b[38;5;124;43msr_normal\u001b[39;49m\u001b[38;5;124;43m\"\u001b[39;49m\u001b[38;5;124;43m]/tr[\u001b[39;49m\u001b[38;5;132;43;01m{0}\u001b[39;49;00m\u001b[38;5;124;43m]/td[2]/a/span[1]/em\u001b[39;49m\u001b[38;5;124;43m'\u001b[39;49m\u001b[38;5;241;43m.\u001b[39;49m\u001b[43mformat\u001b[49m\u001b[43m(\u001b[49m\u001b[43mi\u001b[49m\u001b[43m)\u001b[49m\u001b[43m)\u001b[49m\u001b[38;5;241m.\u001b[39mtext)\n\u001b[1;32m      4\u001b[0m     car\u001b[38;5;241m.\u001b[39mappend(driver\u001b[38;5;241m.\u001b[39mfind_element_by_xpath(\u001b[38;5;124mf\u001b[39m\u001b[38;5;124m'\u001b[39m\u001b[38;5;124m//*[@id=\u001b[39m\u001b[38;5;124m\"\u001b[39m\u001b[38;5;124msr_normal\u001b[39m\u001b[38;5;124m\"\u001b[39m\u001b[38;5;124m]/tr[\u001b[39m\u001b[38;5;132;01m{\u001b[39;00mi\u001b[38;5;132;01m}\u001b[39;00m\u001b[38;5;124m]/td[2]/a/span[2]\u001b[39m\u001b[38;5;124m'\u001b[39m)\u001b[38;5;241m.\u001b[39mtext)\n\u001b[1;32m      5\u001b[0m     car\u001b[38;5;241m.\u001b[39mappend(driver\u001b[38;5;241m.\u001b[39mfind_element_by_xpath(\u001b[38;5;124mf\u001b[39m\u001b[38;5;124m'\u001b[39m\u001b[38;5;124m//*[@id=\u001b[39m\u001b[38;5;124m\"\u001b[39m\u001b[38;5;124msr_normal\u001b[39m\u001b[38;5;124m\"\u001b[39m\u001b[38;5;124m]/tr[\u001b[39m\u001b[38;5;132;01m{\u001b[39;00mi\u001b[38;5;132;01m}\u001b[39;00m\u001b[38;5;124m]/td[2]/span[1]/span[1]\u001b[39m\u001b[38;5;124m'\u001b[39m)\u001b[38;5;241m.\u001b[39mtext)\n",
      "File \u001b[0;32m/opt/homebrew/Caskroom/miniforge/base/envs/fastcampus/lib/python3.8/site-packages/selenium/webdriver/remote/webdriver.py:521\u001b[0m, in \u001b[0;36mWebDriver.find_element_by_xpath\u001b[0;34m(self, xpath)\u001b[0m\n\u001b[1;32m    499\u001b[0m \u001b[38;5;124;03m\"\"\"\u001b[39;00m\n\u001b[1;32m    500\u001b[0m \u001b[38;5;124;03mFinds an element by xpath.\u001b[39;00m\n\u001b[1;32m    501\u001b[0m \n\u001b[0;32m   (...)\u001b[0m\n\u001b[1;32m    514\u001b[0m \u001b[38;5;124;03m        element = driver.find_element_by_xpath('//div/td[1]')\u001b[39;00m\n\u001b[1;32m    515\u001b[0m \u001b[38;5;124;03m\"\"\"\u001b[39;00m\n\u001b[1;32m    516\u001b[0m warnings\u001b[38;5;241m.\u001b[39mwarn(\n\u001b[1;32m    517\u001b[0m     \u001b[38;5;124m\"\u001b[39m\u001b[38;5;124mfind_element_by_xpath is deprecated. Please use find_element(by=By.XPATH, value=xpath) instead\u001b[39m\u001b[38;5;124m\"\u001b[39m,\n\u001b[1;32m    518\u001b[0m     \u001b[38;5;167;01mDeprecationWarning\u001b[39;00m,\n\u001b[1;32m    519\u001b[0m     stacklevel\u001b[38;5;241m=\u001b[39m\u001b[38;5;241m2\u001b[39m,\n\u001b[1;32m    520\u001b[0m )\n\u001b[0;32m--> 521\u001b[0m \u001b[38;5;28;01mreturn\u001b[39;00m \u001b[38;5;28;43mself\u001b[39;49m\u001b[38;5;241;43m.\u001b[39;49m\u001b[43mfind_element\u001b[49m\u001b[43m(\u001b[49m\u001b[43mby\u001b[49m\u001b[38;5;241;43m=\u001b[39;49m\u001b[43mBy\u001b[49m\u001b[38;5;241;43m.\u001b[39;49m\u001b[43mXPATH\u001b[49m\u001b[43m,\u001b[49m\u001b[43m \u001b[49m\u001b[43mvalue\u001b[49m\u001b[38;5;241;43m=\u001b[39;49m\u001b[43mxpath\u001b[49m\u001b[43m)\u001b[49m\n",
      "File \u001b[0;32m/opt/homebrew/Caskroom/miniforge/base/envs/fastcampus/lib/python3.8/site-packages/selenium/webdriver/remote/webdriver.py:1248\u001b[0m, in \u001b[0;36mWebDriver.find_element\u001b[0;34m(self, by, value)\u001b[0m\n\u001b[1;32m   1245\u001b[0m     by \u001b[38;5;241m=\u001b[39m By\u001b[38;5;241m.\u001b[39mCSS_SELECTOR\n\u001b[1;32m   1246\u001b[0m     value \u001b[38;5;241m=\u001b[39m \u001b[38;5;124m'\u001b[39m\u001b[38;5;124m[name=\u001b[39m\u001b[38;5;124m\"\u001b[39m\u001b[38;5;132;01m%s\u001b[39;00m\u001b[38;5;124m\"\u001b[39m\u001b[38;5;124m]\u001b[39m\u001b[38;5;124m'\u001b[39m \u001b[38;5;241m%\u001b[39m value\n\u001b[0;32m-> 1248\u001b[0m \u001b[38;5;28;01mreturn\u001b[39;00m \u001b[38;5;28;43mself\u001b[39;49m\u001b[38;5;241;43m.\u001b[39;49m\u001b[43mexecute\u001b[49m\u001b[43m(\u001b[49m\u001b[43mCommand\u001b[49m\u001b[38;5;241;43m.\u001b[39;49m\u001b[43mFIND_ELEMENT\u001b[49m\u001b[43m,\u001b[49m\u001b[43m \u001b[49m\u001b[43m{\u001b[49m\n\u001b[1;32m   1249\u001b[0m \u001b[43m    \u001b[49m\u001b[38;5;124;43m'\u001b[39;49m\u001b[38;5;124;43musing\u001b[39;49m\u001b[38;5;124;43m'\u001b[39;49m\u001b[43m:\u001b[49m\u001b[43m \u001b[49m\u001b[43mby\u001b[49m\u001b[43m,\u001b[49m\n\u001b[1;32m   1250\u001b[0m \u001b[43m    \u001b[49m\u001b[38;5;124;43m'\u001b[39;49m\u001b[38;5;124;43mvalue\u001b[39;49m\u001b[38;5;124;43m'\u001b[39;49m\u001b[43m:\u001b[49m\u001b[43m \u001b[49m\u001b[43mvalue\u001b[49m\u001b[43m}\u001b[49m\u001b[43m)\u001b[49m[\u001b[38;5;124m'\u001b[39m\u001b[38;5;124mvalue\u001b[39m\u001b[38;5;124m'\u001b[39m]\n",
      "File \u001b[0;32m/opt/homebrew/Caskroom/miniforge/base/envs/fastcampus/lib/python3.8/site-packages/selenium/webdriver/remote/webdriver.py:425\u001b[0m, in \u001b[0;36mWebDriver.execute\u001b[0;34m(self, driver_command, params)\u001b[0m\n\u001b[1;32m    423\u001b[0m response \u001b[38;5;241m=\u001b[39m \u001b[38;5;28mself\u001b[39m\u001b[38;5;241m.\u001b[39mcommand_executor\u001b[38;5;241m.\u001b[39mexecute(driver_command, params)\n\u001b[1;32m    424\u001b[0m \u001b[38;5;28;01mif\u001b[39;00m response:\n\u001b[0;32m--> 425\u001b[0m     \u001b[38;5;28;43mself\u001b[39;49m\u001b[38;5;241;43m.\u001b[39;49m\u001b[43merror_handler\u001b[49m\u001b[38;5;241;43m.\u001b[39;49m\u001b[43mcheck_response\u001b[49m\u001b[43m(\u001b[49m\u001b[43mresponse\u001b[49m\u001b[43m)\u001b[49m\n\u001b[1;32m    426\u001b[0m     response[\u001b[38;5;124m'\u001b[39m\u001b[38;5;124mvalue\u001b[39m\u001b[38;5;124m'\u001b[39m] \u001b[38;5;241m=\u001b[39m \u001b[38;5;28mself\u001b[39m\u001b[38;5;241m.\u001b[39m_unwrap_value(\n\u001b[1;32m    427\u001b[0m         response\u001b[38;5;241m.\u001b[39mget(\u001b[38;5;124m'\u001b[39m\u001b[38;5;124mvalue\u001b[39m\u001b[38;5;124m'\u001b[39m, \u001b[38;5;28;01mNone\u001b[39;00m))\n\u001b[1;32m    428\u001b[0m     \u001b[38;5;28;01mreturn\u001b[39;00m response\n",
      "File \u001b[0;32m/opt/homebrew/Caskroom/miniforge/base/envs/fastcampus/lib/python3.8/site-packages/selenium/webdriver/remote/errorhandler.py:247\u001b[0m, in \u001b[0;36mErrorHandler.check_response\u001b[0;34m(self, response)\u001b[0m\n\u001b[1;32m    245\u001b[0m         alert_text \u001b[38;5;241m=\u001b[39m value[\u001b[38;5;124m'\u001b[39m\u001b[38;5;124malert\u001b[39m\u001b[38;5;124m'\u001b[39m]\u001b[38;5;241m.\u001b[39mget(\u001b[38;5;124m'\u001b[39m\u001b[38;5;124mtext\u001b[39m\u001b[38;5;124m'\u001b[39m)\n\u001b[1;32m    246\u001b[0m     \u001b[38;5;28;01mraise\u001b[39;00m exception_class(message, screen, stacktrace, alert_text)  \u001b[38;5;66;03m# type: ignore[call-arg]  # mypy is not smart enough here\u001b[39;00m\n\u001b[0;32m--> 247\u001b[0m \u001b[38;5;28;01mraise\u001b[39;00m exception_class(message, screen, stacktrace)\n",
      "\u001b[0;31mNoSuchWindowException\u001b[0m: Message: no such window: window was already closed\n  (Session info: chrome=101.0.4951.64)\nStacktrace:\n0   chromedriver                        0x00000001029ef2c9 chromedriver + 5120713\n1   chromedriver                        0x000000010297de33 chromedriver + 4656691\n2   chromedriver                        0x000000010256d158 chromedriver + 393560\n3   chromedriver                        0x000000010255c3a7 chromedriver + 324519\n4   chromedriver                        0x000000010255d822 chromedriver + 329762\n5   chromedriver                        0x000000010255630c chromedriver + 299788\n6   chromedriver                        0x000000010256e5b2 chromedriver + 398770\n7   chromedriver                        0x00000001025d15fb chromedriver + 804347\n8   chromedriver                        0x00000001025bf373 chromedriver + 729971\n9   chromedriver                        0x0000000102595609 chromedriver + 558601\n10  chromedriver                        0x0000000102596635 chromedriver + 562741\n11  chromedriver                        0x00000001029c1b1d chromedriver + 4934429\n12  chromedriver                        0x00000001029c6295 chromedriver + 4952725\n13  chromedriver                        0x00000001029cb3cf chromedriver + 4973519\n14  chromedriver                        0x00000001029c6cba chromedriver + 4955322\n15  chromedriver                        0x00000001029a137c chromedriver + 4801404\n16  chromedriver                        0x00000001029e0c68 chromedriver + 5061736\n17  chromedriver                        0x00000001029e0def chromedriver + 5062127\n18  chromedriver                        0x00000001029f65e5 chromedriver + 5150181\n19  libsystem_pthread.dylib             0x00007ff80d8354e1 _pthread_start + 125\n20  libsystem_pthread.dylib             0x00007ff80d830f6b thread_start + 15\n"
     ]
    }
   ],
   "source": [
    "car = []\n",
    "for i in range(1,51):\n",
    "    car.append(driver.find_element_by_xpath('//*[@id=\"sr_normal\"]/tr[{0}]/td[2]/a/span[1]/em'.format(i)).text)\n",
    "    car.append(driver.find_element_by_xpath(f'//*[@id=\"sr_normal\"]/tr[{i}]/td[2]/a/span[2]').text)\n",
    "    car.append(driver.find_element_by_xpath(f'//*[@id=\"sr_normal\"]/tr[{i}]/td[2]/span[1]/span[1]').text)\n",
    "    car.append(driver.find_element_by_xpath(f'//*[@id=\"sr_normal\"]/tr[{i}]/td[2]/span[1]/span[2]').text)\n",
    "    car.append(driver.find_element_by_xpath(f'//*[@id=\"sr_normal\"]/tr[{i}]/td[2]/span[1]/span[3]').text)\n",
    "    car.append(driver.find_element_by_xpath(f'//*[@id=\"sr_normal\"]/tr[{i}]/td[3]/strong').text)\n",
    "    \n",
    "    "
   ]
  },
  {
   "cell_type": "code",
   "execution_count": 118,
   "id": "06e9fbbb",
   "metadata": {},
   "outputs": [
    {
     "data": {
      "text/plain": [
       "39504"
      ]
     },
     "execution_count": 118,
     "metadata": {},
     "output_type": "execute_result"
    }
   ],
   "source": [
    "len(car)"
   ]
  },
  {
   "cell_type": "code",
   "execution_count": 119,
   "id": "73fcb7b4",
   "metadata": {},
   "outputs": [
    {
     "data": {
      "text/plain": [
       "array(['G90', '5.0 AWD 프레스티지', '19/05식', ..., '13,343km', '가솔린', '5,349'],\n",
       "      dtype='<U24')"
      ]
     },
     "execution_count": 119,
     "metadata": {},
     "output_type": "execute_result"
    }
   ],
   "source": [
    "np.array(car)"
   ]
  },
  {
   "cell_type": "code",
   "execution_count": 120,
   "id": "b3ea45b9",
   "metadata": {},
   "outputs": [
    {
     "data": {
      "text/plain": [
       "6584"
      ]
     },
     "execution_count": 120,
     "metadata": {},
     "output_type": "execute_result"
    }
   ],
   "source": [
    "datas = np.array(car).reshape(-1,6)\n",
    "len(datas)"
   ]
  },
  {
   "cell_type": "code",
   "execution_count": 121,
   "id": "327798df",
   "metadata": {},
   "outputs": [
    {
     "data": {
      "text/html": [
       "<div>\n",
       "<style scoped>\n",
       "    .dataframe tbody tr th:only-of-type {\n",
       "        vertical-align: middle;\n",
       "    }\n",
       "\n",
       "    .dataframe tbody tr th {\n",
       "        vertical-align: top;\n",
       "    }\n",
       "\n",
       "    .dataframe thead th {\n",
       "        text-align: right;\n",
       "    }\n",
       "</style>\n",
       "<table border=\"1\" class=\"dataframe\">\n",
       "  <thead>\n",
       "    <tr style=\"text-align: right;\">\n",
       "      <th></th>\n",
       "      <th>0</th>\n",
       "      <th>1</th>\n",
       "      <th>2</th>\n",
       "      <th>3</th>\n",
       "      <th>4</th>\n",
       "      <th>5</th>\n",
       "    </tr>\n",
       "  </thead>\n",
       "  <tbody>\n",
       "    <tr>\n",
       "      <th>0</th>\n",
       "      <td>G90</td>\n",
       "      <td>5.0 AWD 프레스티지</td>\n",
       "      <td>19/05식</td>\n",
       "      <td>88,079km</td>\n",
       "      <td>가솔린</td>\n",
       "      <td>6,090</td>\n",
       "    </tr>\n",
       "    <tr>\n",
       "      <th>1</th>\n",
       "      <td>EQ900</td>\n",
       "      <td>3.8 GDI AWD 럭셔리</td>\n",
       "      <td>17/01식</td>\n",
       "      <td>124,600km</td>\n",
       "      <td>가솔린</td>\n",
       "      <td>3,090</td>\n",
       "    </tr>\n",
       "    <tr>\n",
       "      <th>2</th>\n",
       "      <td>G80</td>\n",
       "      <td>3.3 GDI AWD 프리미엄 럭셔리</td>\n",
       "      <td>18/05식</td>\n",
       "      <td>172,000km</td>\n",
       "      <td>가솔린</td>\n",
       "      <td>2,360</td>\n",
       "    </tr>\n",
       "    <tr>\n",
       "      <th>3</th>\n",
       "      <td>G80</td>\n",
       "      <td>3.8 GDI AWD 프레스티지</td>\n",
       "      <td>17/01식</td>\n",
       "      <td>135,189km</td>\n",
       "      <td>가솔린</td>\n",
       "      <td>2,349</td>\n",
       "    </tr>\n",
       "    <tr>\n",
       "      <th>4</th>\n",
       "      <td>G80 (RG3)</td>\n",
       "      <td>가솔린 2.5 터보 AWD</td>\n",
       "      <td>21/10식(22년형)</td>\n",
       "      <td>8,627km</td>\n",
       "      <td>가솔린</td>\n",
       "      <td>6,850</td>\n",
       "    </tr>\n",
       "    <tr>\n",
       "      <th>...</th>\n",
       "      <td>...</td>\n",
       "      <td>...</td>\n",
       "      <td>...</td>\n",
       "      <td>...</td>\n",
       "      <td>...</td>\n",
       "      <td>...</td>\n",
       "    </tr>\n",
       "    <tr>\n",
       "      <th>6579</th>\n",
       "      <td>G80</td>\n",
       "      <td>3.3 GDI 프리미엄 럭셔리</td>\n",
       "      <td>17/06식(18년형)</td>\n",
       "      <td>22,326km</td>\n",
       "      <td>가솔린</td>\n",
       "      <td>3,580</td>\n",
       "    </tr>\n",
       "    <tr>\n",
       "      <th>6580</th>\n",
       "      <td>G80</td>\n",
       "      <td>3.8 GDI AWD 파이니스트</td>\n",
       "      <td>18/08식</td>\n",
       "      <td>20,592km</td>\n",
       "      <td>가솔린</td>\n",
       "      <td>4,500</td>\n",
       "    </tr>\n",
       "    <tr>\n",
       "      <th>6581</th>\n",
       "      <td>G80</td>\n",
       "      <td>3.3 GDI AWD 프리미엄 럭셔리</td>\n",
       "      <td>17/03식</td>\n",
       "      <td>40,259km</td>\n",
       "      <td>가솔린</td>\n",
       "      <td>3,590</td>\n",
       "    </tr>\n",
       "    <tr>\n",
       "      <th>6582</th>\n",
       "      <td>G70</td>\n",
       "      <td>3.3T 스포츠 AWD 프레스티지</td>\n",
       "      <td>19/06식</td>\n",
       "      <td>14,832km</td>\n",
       "      <td>가솔린</td>\n",
       "      <td>4,599</td>\n",
       "    </tr>\n",
       "    <tr>\n",
       "      <th>6583</th>\n",
       "      <td>G80</td>\n",
       "      <td>3.3 GDI AWD 프레스티지</td>\n",
       "      <td>20/02식</td>\n",
       "      <td>13,343km</td>\n",
       "      <td>가솔린</td>\n",
       "      <td>5,349</td>\n",
       "    </tr>\n",
       "  </tbody>\n",
       "</table>\n",
       "<p>6584 rows × 6 columns</p>\n",
       "</div>"
      ],
      "text/plain": [
       "              0                     1             2          3    4      5\n",
       "0           G90         5.0 AWD 프레스티지        19/05식   88,079km  가솔린  6,090\n",
       "1         EQ900       3.8 GDI AWD 럭셔리        17/01식  124,600km  가솔린  3,090\n",
       "2           G80  3.3 GDI AWD 프리미엄 럭셔리        18/05식  172,000km  가솔린  2,360\n",
       "3           G80     3.8 GDI AWD 프레스티지        17/01식  135,189km  가솔린  2,349\n",
       "4     G80 (RG3)        가솔린 2.5 터보 AWD  21/10식(22년형)    8,627km  가솔린  6,850\n",
       "...         ...                   ...           ...        ...  ...    ...\n",
       "6579        G80      3.3 GDI 프리미엄 럭셔리  17/06식(18년형)   22,326km  가솔린  3,580\n",
       "6580        G80     3.8 GDI AWD 파이니스트        18/08식   20,592km  가솔린  4,500\n",
       "6581        G80  3.3 GDI AWD 프리미엄 럭셔리        17/03식   40,259km  가솔린  3,590\n",
       "6582        G70    3.3T 스포츠 AWD 프레스티지        19/06식   14,832km  가솔린  4,599\n",
       "6583        G80     3.3 GDI AWD 프레스티지        20/02식   13,343km  가솔린  5,349\n",
       "\n",
       "[6584 rows x 6 columns]"
      ]
     },
     "execution_count": 121,
     "metadata": {},
     "output_type": "execute_result"
    }
   ],
   "source": [
    "df = pd.DataFrame(datas)\n",
    "df"
   ]
  },
  {
   "cell_type": "code",
   "execution_count": 122,
   "id": "641a690b",
   "metadata": {},
   "outputs": [],
   "source": [
    "# df = pd.DataFrame(datas)\n",
    "df.to_csv('./genesis.csv')"
   ]
  },
  {
   "cell_type": "code",
   "execution_count": 123,
   "id": "7e803e57",
   "metadata": {},
   "outputs": [
    {
     "name": "stdout",
     "output_type": "stream",
     "text": [
      " Volume in drive C has no label.\n",
      " Volume Serial Number is 487C-0551\n",
      "\n",
      " Directory of C:\\Users\\y0010\\Desktop\\develop\\usedcar_pricing\n",
      "\n",
      "2022-06-14  �삤�쟾 12:41    <DIR>          .\n",
      "2022-06-14  �삤�쟾 12:41    <DIR>          ..\n",
      "2022-06-04  �삤�썑 03:28    <DIR>          .ipynb_checkpoints\n",
      "2022-06-13  �삤�썑 11:07           482,337 avante.csv\n",
      "2022-05-18  �삤�쟾 01:13        11,735,552 chromedriver.exe\n",
      "2022-06-14  �삤�쟾 12:40            97,611 crawling.ipynb\n",
      "2022-06-14  �삤�쟾 12:41           501,232 genesis.csv\n",
      "2022-06-04  �삤�썑 03:24           818,364 gradure.csv\n",
      "2022-06-04  �삤�썑 03:24               500 README.md\n",
      "2022-06-13  �삤�썑 11:53           373,683 santafe.csv\n",
      "2022-06-14  �삤�쟾 12:16           501,702 sonata.csv\n",
      "               8 File(s)     14,510,981 bytes\n",
      "               3 Dir(s)  119,342,161,920 bytes free\n"
     ]
    }
   ],
   "source": [
    "ls"
   ]
  },
  {
   "cell_type": "code",
   "execution_count": 124,
   "id": "cc50e53a",
   "metadata": {},
   "outputs": [
    {
     "data": {
      "text/html": [
       "<div>\n",
       "<style scoped>\n",
       "    .dataframe tbody tr th:only-of-type {\n",
       "        vertical-align: middle;\n",
       "    }\n",
       "\n",
       "    .dataframe tbody tr th {\n",
       "        vertical-align: top;\n",
       "    }\n",
       "\n",
       "    .dataframe thead th {\n",
       "        text-align: right;\n",
       "    }\n",
       "</style>\n",
       "<table border=\"1\" class=\"dataframe\">\n",
       "  <thead>\n",
       "    <tr style=\"text-align: right;\">\n",
       "      <th></th>\n",
       "      <th>Unnamed: 0</th>\n",
       "      <th>0</th>\n",
       "      <th>1</th>\n",
       "      <th>2</th>\n",
       "      <th>3</th>\n",
       "      <th>4</th>\n",
       "      <th>5</th>\n",
       "    </tr>\n",
       "  </thead>\n",
       "  <tbody>\n",
       "    <tr>\n",
       "      <th>0</th>\n",
       "      <td>0</td>\n",
       "      <td>G90</td>\n",
       "      <td>5.0 AWD 프레스티지</td>\n",
       "      <td>19/05식</td>\n",
       "      <td>88,079km</td>\n",
       "      <td>가솔린</td>\n",
       "      <td>6,090</td>\n",
       "    </tr>\n",
       "    <tr>\n",
       "      <th>1</th>\n",
       "      <td>1</td>\n",
       "      <td>EQ900</td>\n",
       "      <td>3.8 GDI AWD 럭셔리</td>\n",
       "      <td>17/01식</td>\n",
       "      <td>124,600km</td>\n",
       "      <td>가솔린</td>\n",
       "      <td>3,090</td>\n",
       "    </tr>\n",
       "    <tr>\n",
       "      <th>2</th>\n",
       "      <td>2</td>\n",
       "      <td>G80</td>\n",
       "      <td>3.3 GDI AWD 프리미엄 럭셔리</td>\n",
       "      <td>18/05식</td>\n",
       "      <td>172,000km</td>\n",
       "      <td>가솔린</td>\n",
       "      <td>2,360</td>\n",
       "    </tr>\n",
       "    <tr>\n",
       "      <th>3</th>\n",
       "      <td>3</td>\n",
       "      <td>G80</td>\n",
       "      <td>3.8 GDI AWD 프레스티지</td>\n",
       "      <td>17/01식</td>\n",
       "      <td>135,189km</td>\n",
       "      <td>가솔린</td>\n",
       "      <td>2,349</td>\n",
       "    </tr>\n",
       "    <tr>\n",
       "      <th>4</th>\n",
       "      <td>4</td>\n",
       "      <td>G80 (RG3)</td>\n",
       "      <td>가솔린 2.5 터보 AWD</td>\n",
       "      <td>21/10식(22년형)</td>\n",
       "      <td>8,627km</td>\n",
       "      <td>가솔린</td>\n",
       "      <td>6,850</td>\n",
       "    </tr>\n",
       "    <tr>\n",
       "      <th>...</th>\n",
       "      <td>...</td>\n",
       "      <td>...</td>\n",
       "      <td>...</td>\n",
       "      <td>...</td>\n",
       "      <td>...</td>\n",
       "      <td>...</td>\n",
       "      <td>...</td>\n",
       "    </tr>\n",
       "    <tr>\n",
       "      <th>6579</th>\n",
       "      <td>6579</td>\n",
       "      <td>G80</td>\n",
       "      <td>3.3 GDI 프리미엄 럭셔리</td>\n",
       "      <td>17/06식(18년형)</td>\n",
       "      <td>22,326km</td>\n",
       "      <td>가솔린</td>\n",
       "      <td>3,580</td>\n",
       "    </tr>\n",
       "    <tr>\n",
       "      <th>6580</th>\n",
       "      <td>6580</td>\n",
       "      <td>G80</td>\n",
       "      <td>3.8 GDI AWD 파이니스트</td>\n",
       "      <td>18/08식</td>\n",
       "      <td>20,592km</td>\n",
       "      <td>가솔린</td>\n",
       "      <td>4,500</td>\n",
       "    </tr>\n",
       "    <tr>\n",
       "      <th>6581</th>\n",
       "      <td>6581</td>\n",
       "      <td>G80</td>\n",
       "      <td>3.3 GDI AWD 프리미엄 럭셔리</td>\n",
       "      <td>17/03식</td>\n",
       "      <td>40,259km</td>\n",
       "      <td>가솔린</td>\n",
       "      <td>3,590</td>\n",
       "    </tr>\n",
       "    <tr>\n",
       "      <th>6582</th>\n",
       "      <td>6582</td>\n",
       "      <td>G70</td>\n",
       "      <td>3.3T 스포츠 AWD 프레스티지</td>\n",
       "      <td>19/06식</td>\n",
       "      <td>14,832km</td>\n",
       "      <td>가솔린</td>\n",
       "      <td>4,599</td>\n",
       "    </tr>\n",
       "    <tr>\n",
       "      <th>6583</th>\n",
       "      <td>6583</td>\n",
       "      <td>G80</td>\n",
       "      <td>3.3 GDI AWD 프레스티지</td>\n",
       "      <td>20/02식</td>\n",
       "      <td>13,343km</td>\n",
       "      <td>가솔린</td>\n",
       "      <td>5,349</td>\n",
       "    </tr>\n",
       "  </tbody>\n",
       "</table>\n",
       "<p>6584 rows × 7 columns</p>\n",
       "</div>"
      ],
      "text/plain": [
       "      Unnamed: 0          0                     1             2          3  \\\n",
       "0              0        G90         5.0 AWD 프레스티지        19/05식   88,079km   \n",
       "1              1      EQ900       3.8 GDI AWD 럭셔리        17/01식  124,600km   \n",
       "2              2        G80  3.3 GDI AWD 프리미엄 럭셔리        18/05식  172,000km   \n",
       "3              3        G80     3.8 GDI AWD 프레스티지        17/01식  135,189km   \n",
       "4              4  G80 (RG3)        가솔린 2.5 터보 AWD  21/10식(22년형)    8,627km   \n",
       "...          ...        ...                   ...           ...        ...   \n",
       "6579        6579        G80      3.3 GDI 프리미엄 럭셔리  17/06식(18년형)   22,326km   \n",
       "6580        6580        G80     3.8 GDI AWD 파이니스트        18/08식   20,592km   \n",
       "6581        6581        G80  3.3 GDI AWD 프리미엄 럭셔리        17/03식   40,259km   \n",
       "6582        6582        G70    3.3T 스포츠 AWD 프레스티지        19/06식   14,832km   \n",
       "6583        6583        G80     3.3 GDI AWD 프레스티지        20/02식   13,343km   \n",
       "\n",
       "        4      5  \n",
       "0     가솔린  6,090  \n",
       "1     가솔린  3,090  \n",
       "2     가솔린  2,360  \n",
       "3     가솔린  2,349  \n",
       "4     가솔린  6,850  \n",
       "...   ...    ...  \n",
       "6579  가솔린  3,580  \n",
       "6580  가솔린  4,500  \n",
       "6581  가솔린  3,590  \n",
       "6582  가솔린  4,599  \n",
       "6583  가솔린  5,349  \n",
       "\n",
       "[6584 rows x 7 columns]"
      ]
     },
     "execution_count": 124,
     "metadata": {},
     "output_type": "execute_result"
    }
   ],
   "source": [
    "df2 = pd.read_csv('./genesis.csv')\n",
    "df2"
   ]
  },
  {
   "cell_type": "code",
   "execution_count": null,
   "id": "9381f10b",
   "metadata": {},
   "outputs": [],
   "source": []
  }
 ],
 "metadata": {
  "kernelspec": {
   "display_name": "Python 3 (ipykernel)",
   "language": "python",
   "name": "python3"
  },
  "language_info": {
   "codemirror_mode": {
    "name": "ipython",
    "version": 3
   },
   "file_extension": ".py",
   "mimetype": "text/x-python",
   "name": "python",
   "nbconvert_exporter": "python",
   "pygments_lexer": "ipython3",
   "version": "3.8.11"
  }
 },
 "nbformat": 4,
 "nbformat_minor": 5
}
