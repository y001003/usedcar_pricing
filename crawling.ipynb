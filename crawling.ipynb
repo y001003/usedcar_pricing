{
 "cells": [
  {
   "cell_type": "code",
   "execution_count": 3,
   "id": "171573a1",
   "metadata": {},
   "outputs": [
    {
     "name": "stdout",
     "output_type": "stream",
     "text": [
      "xattr: chromedriver: No such xattr: com.apple.quarantine\r\n"
     ]
    }
   ],
   "source": [
    "!xattr -d com.apple.quarantine chromedriver"
   ]
  },
  {
   "cell_type": "code",
   "execution_count": 256,
   "id": "a32d2b56",
   "metadata": {},
   "outputs": [],
   "source": [
    "import numpy as np\n",
    "import pandas as pd\n",
    "# import requests # 크롤링에 사용하는 패키지"
   ]
  },
  {
   "cell_type": "code",
   "execution_count": 2,
   "id": "bcec7b7b",
   "metadata": {},
   "outputs": [
    {
     "name": "stdout",
     "output_type": "stream",
     "text": [
      "README.md            \u001b[31mchromedriver\u001b[m\u001b[m*        data_crawling.ipynb\r\n"
     ]
    }
   ],
   "source": [
    "ls"
   ]
  },
  {
   "cell_type": "code",
   "execution_count": 257,
   "id": "7e62d494",
   "metadata": {},
   "outputs": [
    {
     "name": "stderr",
     "output_type": "stream",
     "text": [
      "/var/folders/fb/fgwpc_kd3dxdcfsnm_9w3wv40000gn/T/ipykernel_99994/2725344067.py:4: DeprecationWarning: executable_path has been deprecated, please pass in a Service object\n",
      "  driver = webdriver.Chrome('./chromedriver')\n"
     ]
    }
   ],
   "source": [
    "# 크롬창 열기\n",
    "import time\n",
    "from selenium import webdriver\n",
    "driver = webdriver.Chrome('./chromedriver')\n",
    "# 윈도우 사용자분들\n",
    "# driver = webdriver.Chrome('./chromedriver.exe')\n",
    "\n",
    "# 설정한 url로 데이터 get함수로 요청\n",
    "url = 'http://www.encar.com/dc/dc_carsearchlist.do?carType=kor&searchType=model&TG.R=A#!%7B%22action%22%3A%22(And.Hidden.N._.(C.CarType.Y._.(C.Manufacturer.%ED%98%84%EB%8C%80._.ModelGroup.%EA%B7%B8%EB%9E%9C%EC%A0%80.)))%22%2C%22toggle%22%3A%7B%7D%2C%22layer%22%3A%22%22%2C%22sort%22%3A%22ModifiedDate%22%2C%22page%22%3A1%2C%22limit%22%3A%2250%22%7D'\n",
    "driver.get(url)\n",
    "\n",
    "time.sleep(2)\n",
    "\n",
    "# 키워드를 입력받아 검색창의 xpath에 send_keys 함수로 키워드 입력 "
   ]
  },
  {
   "cell_type": "code",
   "execution_count": 8,
   "id": "8260f482",
   "metadata": {},
   "outputs": [],
   "source": [
    "from bs4 import BeautifulSoup"
   ]
  },
  {
   "cell_type": "code",
   "execution_count": 15,
   "id": "e645ee52",
   "metadata": {},
   "outputs": [],
   "source": [
    "# 접근한 페이지의 소스 코드 페이지 html 가져오기\n",
    "page_text = driver.page_source\n",
    "html = BeautifulSoup(page_text, 'html.parser')"
   ]
  },
  {
   "cell_type": "code",
   "execution_count": 33,
   "id": "0f143747",
   "metadata": {},
   "outputs": [
    {
     "data": {
      "text/plain": [
       "'그랜저 IG'"
      ]
     },
     "execution_count": 33,
     "metadata": {},
     "output_type": "execute_result"
    }
   ],
   "source": [
    "# 모델명\n",
    "html.select('#sr_normal tr')[0].select('.cls em')[0].text"
   ]
  },
  {
   "cell_type": "code",
   "execution_count": 50,
   "id": "f7c4f5a0",
   "metadata": {},
   "outputs": [
    {
     "data": {
      "text/plain": [
       "' 2.2 디젤 프리미엄'"
      ]
     },
     "execution_count": 50,
     "metadata": {},
     "output_type": "execute_result"
    }
   ],
   "source": [
    "# 옵션\n",
    "html.select('#sr_normal tr')[0].select('.dtl strong')[0].text"
   ]
  },
  {
   "cell_type": "code",
   "execution_count": 52,
   "id": "d744d1b5",
   "metadata": {},
   "outputs": [
    {
     "data": {
      "text/plain": [
       "'18/04식'"
      ]
     },
     "execution_count": 52,
     "metadata": {},
     "output_type": "execute_result"
    }
   ],
   "source": [
    "# 연식\n",
    "html.select('#sr_normal tr')[0].select('.detail span')[0].text"
   ]
  },
  {
   "cell_type": "code",
   "execution_count": 46,
   "id": "33cff47b",
   "metadata": {},
   "outputs": [
    {
     "data": {
      "text/plain": [
       "'113,045km'"
      ]
     },
     "execution_count": 46,
     "metadata": {},
     "output_type": "execute_result"
    }
   ],
   "source": [
    "# 주행거리\n",
    "html.select('#sr_normal tr')[0].select('.detail span')[1].text"
   ]
  },
  {
   "cell_type": "code",
   "execution_count": 47,
   "id": "5d88e474",
   "metadata": {},
   "outputs": [
    {
     "data": {
      "text/plain": [
       "'디젤'"
      ]
     },
     "execution_count": 47,
     "metadata": {},
     "output_type": "execute_result"
    }
   ],
   "source": [
    "# 연료\n",
    "html.select('#sr_normal tr')[0].select('.detail span')[2].text"
   ]
  },
  {
   "cell_type": "code",
   "execution_count": 44,
   "id": "9b1396a6",
   "metadata": {},
   "outputs": [
    {
     "data": {
      "text/plain": [
       "'1,890'"
      ]
     },
     "execution_count": 44,
     "metadata": {},
     "output_type": "execute_result"
    }
   ],
   "source": [
    "# 가격\n",
    "html.select('#sr_normal tr')[0].select('.prc_hs strong')[0].text"
   ]
  },
  {
   "cell_type": "code",
   "execution_count": 63,
   "id": "8cc40f2c",
   "metadata": {},
   "outputs": [],
   "source": [
    "data = []\n",
    "for i in range(5):\n",
    "    # 모델명\n",
    "    data.append(html.select('#sr_normal tr')[i].select('.cls em')[0].text)\n",
    "    # 옵션\n",
    "    data.append(html.select('#sr_normal tr')[i].select('.dtl strong')[0].text)\n",
    "    # 연식\n",
    "    data.append(html.select('#sr_normal tr')[i].select('.detail span')[0].text)\n",
    "    # 주행거리\n",
    "    data.append(html.select('#sr_normal tr')[i].select('.detail span')[1].text)\n",
    "    # 연료\n",
    "    data.append(html.select('#sr_normal tr')[i].select('.detail span')[2].text)\n",
    "    # 가격\n",
    "    data.append(html.select('#sr_normal tr')[i].select('.prc_hs strong')[0].text)"
   ]
  },
  {
   "cell_type": "code",
   "execution_count": 61,
   "id": "18c0830c",
   "metadata": {},
   "outputs": [
    {
     "data": {
      "text/plain": [
       "['그랜저 IG',\n",
       " ' 2.2 디젤 프리미엄',\n",
       " '18/04식',\n",
       " '113,045km',\n",
       " '디젤',\n",
       " '1,890',\n",
       " '그랜저 IG',\n",
       " ' 3.0 익스클루시브',\n",
       " '17/07식(18년형)',\n",
       " '42,720km',\n",
       " '가솔린',\n",
       " '2,360',\n",
       " '그랜저 IG',\n",
       " ' 3.0 LPi 모던 (렌터카)',\n",
       " '18/01식',\n",
       " '120,592km',\n",
       " 'LPG(일반인 구입)',\n",
       " '1,660',\n",
       " '그랜저 IG',\n",
       " ' 2.4 프리미엄',\n",
       " '18/02식',\n",
       " '102,602km',\n",
       " '가솔린',\n",
       " '2,170',\n",
       " '그랜저 IG',\n",
       " ' 3.0 익스클루시브',\n",
       " '17/06식(18년형)',\n",
       " '76,459km',\n",
       " '가솔린',\n",
       " '2,230',\n",
       " '그랜저 IG',\n",
       " ' 3.0 익스클루시브',\n",
       " '17/05식(18년형)',\n",
       " '76,790km',\n",
       " '가솔린',\n",
       " '2,000',\n",
       " '그랜저 IG',\n",
       " ' 3.0 프리미엄',\n",
       " '19/03식',\n",
       " '100,735km',\n",
       " '가솔린',\n",
       " '1,830',\n",
       " '그랜저 IG 하이브리드',\n",
       " ' 익스클루시브',\n",
       " '19/03식',\n",
       " '82,131km',\n",
       " '가솔린+전기',\n",
       " '2,860',\n",
       " '그랜저 IG',\n",
       " ' 3.0 익스클루시브',\n",
       " '18/12식(19년형)',\n",
       " '73,732km',\n",
       " '가솔린',\n",
       " '2,599',\n",
       " '그랜저 HG',\n",
       " ' HG240 모던',\n",
       " '15/01식',\n",
       " '109,570km',\n",
       " '가솔린',\n",
       " '1,380',\n",
       " '그랜저 IG 하이브리드',\n",
       " ' 익스클루시브',\n",
       " '18/05식(19년형)',\n",
       " '34,380km',\n",
       " '가솔린+전기',\n",
       " '3,190',\n",
       " '그랜저 HG',\n",
       " ' HG300 익스클루시브',\n",
       " '13/06식(14년형)',\n",
       " '130,486km',\n",
       " '가솔린',\n",
       " '1,189',\n",
       " '그랜저 IG',\n",
       " ' 3.0 LPi 모던 (렌터카)',\n",
       " '18/04식',\n",
       " '132,838km',\n",
       " 'LPG(일반인 구입)',\n",
       " '1,699',\n",
       " '더 뉴 그랜저 IG',\n",
       " ' 2.5',\n",
       " '20/01식',\n",
       " '14,740km',\n",
       " '가솔린',\n",
       " '3,690',\n",
       " '더 뉴 그랜저 IG 하이브리드',\n",
       " ' 캘리그래피',\n",
       " '20/03식',\n",
       " '19,883km',\n",
       " '가솔린+전기',\n",
       " '4,350',\n",
       " '그랜저 HG',\n",
       " ' HG240 모던',\n",
       " '14/06식(15년형)',\n",
       " '117,000km',\n",
       " '가솔린',\n",
       " '1,290',\n",
       " '그랜저 HG',\n",
       " ' HG240 모던',\n",
       " '14/06식(15년형)',\n",
       " '48,178km',\n",
       " '가솔린',\n",
       " '1,450',\n",
       " '그랜저 IG',\n",
       " ' 3.0 익스클루시브',\n",
       " '17/07식(18년형)',\n",
       " '42,720km',\n",
       " '가솔린',\n",
       " '2,360',\n",
       " '그랜저 IG',\n",
       " ' 2.2 디젤 프리미엄',\n",
       " '18/04식',\n",
       " '113,045km',\n",
       " '디젤',\n",
       " '1,890',\n",
       " '그랜저 HG',\n",
       " ' HG300 프라임',\n",
       " '12/01식',\n",
       " '129,836km',\n",
       " '가솔린',\n",
       " '1,000',\n",
       " '그랜저 IG',\n",
       " ' 3.0 LPi 모던 (렌터카)',\n",
       " '18/01식',\n",
       " '120,592km',\n",
       " 'LPG(일반인 구입)',\n",
       " '1,660',\n",
       " '그랜저 HG',\n",
       " ' HG300 노블',\n",
       " '12/03식',\n",
       " '92,573km',\n",
       " '가솔린',\n",
       " '970',\n",
       " '더 뉴 그랜저 IG 하이브리드',\n",
       " ' 캘리그래피',\n",
       " '20/06식',\n",
       " '13,000km',\n",
       " '가솔린+전기',\n",
       " '3,990',\n",
       " '그랜저 HG',\n",
       " ' HG300 익스클루시브',\n",
       " '15/01식',\n",
       " '89,335km',\n",
       " '가솔린',\n",
       " '1,459',\n",
       " '그랜저 HG',\n",
       " ' LPG HG300 모던',\n",
       " '15/04식',\n",
       " '206,800km',\n",
       " 'LPG(일반인 구입)',\n",
       " '899',\n",
       " '그랜저 IG 하이브리드',\n",
       " ' 익스클루시브',\n",
       " '19/03식',\n",
       " '82,131km',\n",
       " '가솔린+전기',\n",
       " '2,860',\n",
       " '그랜저 IG',\n",
       " ' 2.4 프리미엄',\n",
       " '18/02식',\n",
       " '102,602km',\n",
       " '가솔린',\n",
       " '2,170',\n",
       " '그랜저 HG',\n",
       " ' HG240 럭셔리',\n",
       " '12/10식',\n",
       " '145,587km',\n",
       " '가솔린',\n",
       " '750',\n",
       " '그랜저 IG',\n",
       " ' 3.0 LPi 익스클루시브 (렌터카)',\n",
       " '18/02식',\n",
       " '173,193km',\n",
       " 'LPG(일반인 구입)',\n",
       " '1,929',\n",
       " '그랜저 IG',\n",
       " ' 2.4 프리미엄',\n",
       " '19/07식',\n",
       " '78,412km',\n",
       " '가솔린',\n",
       " '2,570',\n",
       " '그랜저 HG',\n",
       " ' HG240 럭셔리',\n",
       " '11/05식',\n",
       " '116,751km',\n",
       " '가솔린',\n",
       " '778',\n",
       " '그랜저 IG',\n",
       " ' 3.0 LPi 모던 (렌터카)',\n",
       " '17/03식',\n",
       " '201,595km',\n",
       " 'LPG(일반인 구입)',\n",
       " '1,190',\n",
       " '그랜저 HG',\n",
       " ' LPG HG300 장애인용',\n",
       " '14/01식',\n",
       " '147,188km',\n",
       " 'LPG(일반인 구입)',\n",
       " '1,250',\n",
       " '그랜저 HG',\n",
       " ' HG300 프라임',\n",
       " '11/02식',\n",
       " '129,804km',\n",
       " '가솔린',\n",
       " '859',\n",
       " '그랜저 HG',\n",
       " ' LPG HG300 이그제큐티브',\n",
       " '11/12식(12년형)',\n",
       " '120,000km',\n",
       " 'LPG(일반인 구입)',\n",
       " '790',\n",
       " '그랜저 HG',\n",
       " ' LPG HG300 모던',\n",
       " '15/10식(16년형)',\n",
       " '95,978km',\n",
       " 'LPG(일반인 구입)',\n",
       " '1,430',\n",
       " '그랜저 IG',\n",
       " ' 2.4 프리미엄',\n",
       " '19/03식',\n",
       " '108,267km',\n",
       " '가솔린',\n",
       " '1,759',\n",
       " '그랜저 IG',\n",
       " ' 2.2 디젤 프리미엄',\n",
       " '18/06식(19년형)',\n",
       " '95,675km',\n",
       " '디젤',\n",
       " '2,260',\n",
       " '그랜저 IG',\n",
       " ' 3.0 익스클루시브',\n",
       " '17/06식(18년형)',\n",
       " '76,459km',\n",
       " '가솔린',\n",
       " '2,230',\n",
       " '그랜저 HG',\n",
       " ' HG240 럭셔리',\n",
       " '12/01식',\n",
       " '153,373km',\n",
       " '가솔린',\n",
       " '770',\n",
       " '그랜저 IG',\n",
       " ' 3.0 익스클루시브',\n",
       " '17/06식(18년형)',\n",
       " '80,070km',\n",
       " '가솔린',\n",
       " '2,170',\n",
       " '그랜저 IG',\n",
       " ' 3.3 셀러브리티',\n",
       " '18/02식',\n",
       " '47,491km',\n",
       " '가솔린',\n",
       " '2,899',\n",
       " '그랜저 뉴 럭셔리',\n",
       " ' Q240 디럭스',\n",
       " '09/03식',\n",
       " '55,677km',\n",
       " '가솔린',\n",
       " '470',\n",
       " '더 뉴 그랜저 IG',\n",
       " ' 2.5',\n",
       " '20/03식',\n",
       " '15,514km',\n",
       " '가솔린',\n",
       " '3,450',\n",
       " '그랜저 IG',\n",
       " ' 3.0 익스클루시브',\n",
       " '19/02식',\n",
       " '93,146km',\n",
       " '가솔린',\n",
       " '2,480',\n",
       " '그랜저 HG',\n",
       " ' HG240 럭셔리',\n",
       " '12/01식',\n",
       " '69,794km',\n",
       " '가솔린',\n",
       " '1,020',\n",
       " '그랜저 IG',\n",
       " ' 3.0 익스클루시브',\n",
       " '17/05식(18년형)',\n",
       " '76,790km',\n",
       " '가솔린',\n",
       " '2,000',\n",
       " '그랜저 HG',\n",
       " ' HG300 프라임',\n",
       " '11/12식(12년형)',\n",
       " '99,998km',\n",
       " '가솔린',\n",
       " '1,020',\n",
       " '그랜저 IG 하이브리드',\n",
       " ' 익스클루시브',\n",
       " '18/05식(19년형)',\n",
       " '34,380km',\n",
       " '가솔린+전기',\n",
       " '3,190',\n",
       " '그랜저 IG 하이브리드',\n",
       " ' 익스클루시브',\n",
       " '19/03식',\n",
       " '82,131km',\n",
       " '가솔린+전기',\n",
       " '2,860',\n",
       " '그랜저 HG',\n",
       " ' LPG HG300 프라임',\n",
       " '11/06식',\n",
       " '229,403km',\n",
       " 'LPG(일반인 구입)',\n",
       " '720']"
      ]
     },
     "execution_count": 61,
     "metadata": {},
     "output_type": "execute_result"
    }
   ],
   "source": [
    "data"
   ]
  },
  {
   "cell_type": "code",
   "execution_count": 64,
   "id": "00fb3404",
   "metadata": {},
   "outputs": [
    {
     "data": {
      "text/plain": [
       "array([['그랜저 IG', ' 2.2 디젤 프리미엄', '18/04식', '113,045km', '디젤', '1,890'],\n",
       "       ['그랜저 IG', ' 3.0 익스클루시브', '17/07식(18년형)', '42,720km', '가솔린',\n",
       "        '2,360'],\n",
       "       ['그랜저 IG', ' 3.0 LPi 모던 (렌터카)', '18/01식', '120,592km',\n",
       "        'LPG(일반인 구입)', '1,660'],\n",
       "       ['그랜저 IG', ' 2.4 프리미엄', '18/02식', '102,602km', '가솔린', '2,170'],\n",
       "       ['그랜저 IG', ' 3.0 익스클루시브', '17/06식(18년형)', '76,459km', '가솔린',\n",
       "        '2,230']], dtype='<U17')"
      ]
     },
     "execution_count": 64,
     "metadata": {},
     "output_type": "execute_result"
    }
   ],
   "source": [
    "datas = np.array(data).reshape(-1,6)\n",
    "datas"
   ]
  },
  {
   "cell_type": "code",
   "execution_count": 67,
   "id": "47067d86",
   "metadata": {},
   "outputs": [
    {
     "name": "stderr",
     "output_type": "stream",
     "text": [
      "/var/folders/fb/fgwpc_kd3dxdcfsnm_9w3wv40000gn/T/ipykernel_99994/3993205547.py:4: DeprecationWarning: find_element_by_xpath is deprecated. Please use find_element(by=By.XPATH, value=xpath) instead\n",
      "  driver.find_element_by_xpath('//*[@id=\"pagination\"]/span[1]').click()\n"
     ]
    }
   ],
   "source": [
    "# 접근한 페이지의 소스 코드 페이지 html 가져오기\n",
    "page_text = driver.page_source\n",
    "html = BeautifulSoup(page_text, 'html.parser')\n",
    "driver.find_element_by_xpath('//*[@id=\"pagination\"]/span[1]').click()"
   ]
  },
  {
   "cell_type": "code",
   "execution_count": 68,
   "id": "2a8e6183",
   "metadata": {},
   "outputs": [],
   "source": [
    "page_text = driver.page_source\n",
    "html = BeautifulSoup(page_text, 'html.parser')\n",
    "data = []\n",
    "for i in range(5):\n",
    "    # 모델명\n",
    "    data.append(html.select('#sr_normal tr')[i].select('.cls em')[0].text)\n",
    "    # 옵션\n",
    "    data.append(html.select('#sr_normal tr')[i].select('.dtl strong')[0].text)\n",
    "    # 연식\n",
    "    data.append(html.select('#sr_normal tr')[i].select('.detail span')[0].text)\n",
    "    # 주행거리\n",
    "    data.append(html.select('#sr_normal tr')[i].select('.detail span')[1].text)\n",
    "    # 연료\n",
    "    data.append(html.select('#sr_normal tr')[i].select('.detail span')[2].text)\n",
    "    # 가격\n",
    "    data.append(html.select('#sr_normal tr')[i].select('.prc_hs strong')[0].text)"
   ]
  },
  {
   "cell_type": "code",
   "execution_count": 69,
   "id": "865936c6",
   "metadata": {},
   "outputs": [
    {
     "data": {
      "text/plain": [
       "array([['그랜저 HG 하이브리드', ' 프리미엄', '15/05식(16년형)', '71,800km', '가솔린+전기',\n",
       "        '2,030'],\n",
       "       ['더 뉴 그랜저 IG 하이브리드', ' 캘리그래피', '20/03식', '24,267km', '가솔린+전기',\n",
       "        '4,288'],\n",
       "       ['더 뉴 그랜저 IG', ' 2.5', '20/10식(21년형)', '22,015km', '가솔린', '3,150'],\n",
       "       ['그랜저 IG', ' 2.2 디젤 프리미엄', '17/02식', '99,366km', '디젤', '2,140'],\n",
       "       ['그랜저 IG', ' 3.0 익스클루시브', '18/08식(19년형)', '92,742km', '가솔린',\n",
       "        '2,050']], dtype='<U16')"
      ]
     },
     "execution_count": 69,
     "metadata": {},
     "output_type": "execute_result"
    }
   ],
   "source": [
    "datas = np.array(data).reshape(-1,6)\n",
    "datas"
   ]
  },
  {
   "cell_type": "code",
   "execution_count": 113,
   "id": "367c77cc",
   "metadata": {},
   "outputs": [
    {
     "name": "stderr",
     "output_type": "stream",
     "text": [
      "/var/folders/fb/fgwpc_kd3dxdcfsnm_9w3wv40000gn/T/ipykernel_99994/1715825947.py:3: DeprecationWarning: find_element_by_xpath is deprecated. Please use find_element(by=By.XPATH, value=xpath) instead\n",
      "  driver.find_element_by_xpath('//*[@id=\"pagination\"]/span[1]').click()\n"
     ]
    }
   ],
   "source": [
    "page_text = driver.page_source\n",
    "html = BeautifulSoup(page_text, 'html.parser')\n",
    "driver.find_element_by_xpath('//*[@id=\"pagination\"]/span[1]').click()"
   ]
  },
  {
   "cell_type": "code",
   "execution_count": 71,
   "id": "f43b0562",
   "metadata": {},
   "outputs": [],
   "source": []
  },
  {
   "cell_type": "code",
   "execution_count": 73,
   "id": "a30ec63d",
   "metadata": {},
   "outputs": [
    {
     "data": {
      "text/plain": [
       "array([['그랜저 HG 하이브리드', ' 프리미엄', '15/05식(16년형)', '71,800km', '가솔린+전기',\n",
       "        '2,030'],\n",
       "       ['더 뉴 그랜저 IG 하이브리드', ' 캘리그래피', '20/03식', '24,267km', '가솔린+전기',\n",
       "        '4,288'],\n",
       "       ['더 뉴 그랜저 IG', ' 2.5', '20/10식(21년형)', '22,015km', '가솔린', '3,150'],\n",
       "       ['그랜저 IG', ' 2.2 디젤 프리미엄', '17/02식', '99,366km', '디젤', '2,140'],\n",
       "       ['그랜저 IG', ' 3.0 익스클루시브', '18/08식(19년형)', '92,742km', '가솔린',\n",
       "        '2,050'],\n",
       "       ['그랜저 HG 하이브리드', ' 프리미엄', '15/05식(16년형)', '71,800km', '가솔린+전기',\n",
       "        '2,030'],\n",
       "       ['더 뉴 그랜저 IG 하이브리드', ' 캘리그래피', '20/03식', '24,267km', '가솔린+전기',\n",
       "        '4,288'],\n",
       "       ['더 뉴 그랜저 IG', ' 2.5', '20/10식(21년형)', '22,015km', '가솔린', '3,150'],\n",
       "       ['그랜저 IG', ' 2.2 디젤 프리미엄', '17/02식', '99,366km', '디젤', '2,140'],\n",
       "       ['그랜저 IG', ' 3.0 익스클루시브', '18/08식(19년형)', '92,742km', '가솔린',\n",
       "        '2,050']], dtype='<U16')"
      ]
     },
     "execution_count": 73,
     "metadata": {},
     "output_type": "execute_result"
    }
   ],
   "source": []
  },
  {
   "cell_type": "code",
   "execution_count": 142,
   "id": "cc27fff8",
   "metadata": {},
   "outputs": [
    {
     "name": "stderr",
     "output_type": "stream",
     "text": [
      "/var/folders/fb/fgwpc_kd3dxdcfsnm_9w3wv40000gn/T/ipykernel_99994/1821623355.py:1: DeprecationWarning: find_elements_by_class_name is deprecated. Please use find_elements(by=By.CLASS_NAME, value=name) instead\n",
      "  model = driver.find_elements_by_class_name('inf')\n"
     ]
    }
   ],
   "source": [
    "model = driver.find_elements_by_class_name('inf')\n",
    "# option = driver.find_elements_by_class_name('dtl')\n",
    "# year = driver.find_elements_by_class_name('yer')\n",
    "# km = driver.find_elements_by_class_name('km')\n",
    "# fue = driver.find_elements_by_class_name('fue')\n",
    "# price = driver.find_elements_by_class_name('prc')"
   ]
  },
  {
   "cell_type": "code",
   "execution_count": 141,
   "id": "cd0d606d",
   "metadata": {},
   "outputs": [
    {
     "name": "stdout",
     "output_type": "stream",
     "text": [
      "현대 그랜저 IG 가솔린+전기\n",
      "현대 그랜저 IG 가솔린\n",
      "현대 그랜저 IG 가솔린\n",
      "현대 그랜저 HG 가솔린\n",
      "현대 그랜저 HG 하이브리드 가솔린\n",
      "현대 그랜저 TG LPG(일반인 구입)\n",
      "현대 그랜저 IG 가솔린\n",
      "현대 더 뉴 그랜저 IG 하이브리드 가솔린\n",
      "현대 그랜저 IG 가솔린\n",
      "현대 그랜저 IG 가솔린\n",
      "현대 그랜저 IG 가솔린+전기\n",
      "현대 그랜저 HG 가솔린\n",
      "현대 그랜저 HG 하이브리드 가솔린\n",
      "현대 그랜저 TG LPG(일반인 구입)\n",
      "현대 그랜저 IG 가솔린\n",
      "현대 더 뉴 그랜저 IG 하이브리드 가솔린\n",
      "현대 그랜저 IG 하이브리드 가솔린\n",
      "현대 그랜저 IG 디젤\n",
      "현대 그랜저 IG 디젤\n",
      "현대 그랜저 IG LPG(일반인 구입)\n",
      "현대 그랜저 IG 가솔린+전기\n",
      "현대 더 뉴 그랜저 IG LPG(일반인 구입)\n",
      "현대 그랜저 IG 가솔린\n",
      "현대 그랜저 IG 가솔린\n",
      "현대 그랜저 HG 가솔린+전기\n",
      "현대 그랜저 IG 가솔린\n",
      "현대 그랜저 IG 하이브리드 가솔린\n",
      "현대 그랜저 HG 가솔린\n",
      "현대 그랜저 IG 가솔린\n",
      "현대 그랜저 HG 가솔린\n",
      "현대 그랜저 IG 가솔린\n",
      "현대 그랜저 HG LPG(일반인 구입)\n",
      "현대 그랜저 IG 가솔린\n",
      "현대 그랜저 HG 디젤\n",
      "현대 그랜저 IG 가솔린\n",
      "현대 그랜저 HG 가솔린\n",
      "현대 그랜저 HG 하이브리드 가솔린+전기\n",
      "현대 그랜저 TG 가솔린\n",
      "현대 그랜저 IG 가솔린\n",
      "현대 그랜저 IG 가솔린\n",
      "현대 더 뉴 그랜저 IG 하이브리드 가솔린\n",
      "현대 그랜저 IG 가솔린\n",
      "현대 그랜저 IG 가솔린\n",
      "현대 그랜저 IG LPG(일반인 구입)\n",
      "현대 그랜저 HG 디젤\n",
      "현대 그랜저 IG 가솔린+전기\n",
      "현대 그랜저 IG 가솔린\n",
      "현대 더 뉴 그랜저 IG \n",
      "현대 그랜저 IG LPG(일반인 구입)\n",
      "현대 그랜저 IG LPG(일반인 구입)\n",
      "현대 더 뉴 그랜저 IG 가솔린\n"
     ]
    }
   ],
   "source": [
    "for i in zip(model,option,year,km,fue):\n",
    "    print(i[0].text,i[4].text)"
   ]
  },
  {
   "cell_type": "code",
   "execution_count": 162,
   "id": "d2a8061e",
   "metadata": {},
   "outputs": [
    {
     "name": "stderr",
     "output_type": "stream",
     "text": [
      "/var/folders/fb/fgwpc_kd3dxdcfsnm_9w3wv40000gn/T/ipykernel_99994/1589823279.py:1: DeprecationWarning: find_element_by_xpath is deprecated. Please use find_element(by=By.XPATH, value=xpath) instead\n",
      "  driver.find_element_by_xpath('//*[@id=\"sr_normal\"]/tr[20]/td[2]/a/span[1]/em').text\n"
     ]
    },
    {
     "data": {
      "text/plain": [
       "'그랜저 HG'"
      ]
     },
     "execution_count": 162,
     "metadata": {},
     "output_type": "execute_result"
    }
   ],
   "source": [
    "driver.find_element_by_xpath('//*[@id=\"sr_normal\"]/tr[1]/td[2]/a/span[1]/em').text"
   ]
  },
  {
   "cell_type": "code",
   "execution_count": 161,
   "id": "d2274cf6",
   "metadata": {},
   "outputs": [
    {
     "name": "stderr",
     "output_type": "stream",
     "text": [
      "/var/folders/fb/fgwpc_kd3dxdcfsnm_9w3wv40000gn/T/ipykernel_99994/3321852988.py:1: DeprecationWarning: find_element_by_xpath is deprecated. Please use find_element(by=By.XPATH, value=xpath) instead\n",
      "  driver.find_element_by_xpath('//*[@id=\"sr_normal\"]/tr[1]/td[2]/a/span[2]').text\n"
     ]
    },
    {
     "data": {
      "text/plain": [
       "'프리미엄'"
      ]
     },
     "execution_count": 161,
     "metadata": {},
     "output_type": "execute_result"
    }
   ],
   "source": [
    "driver.find_element_by_xpath('//*[@id=\"sr_normal\"]/tr[1]/td[2]/a/span[2]').text"
   ]
  },
  {
   "cell_type": "code",
   "execution_count": 154,
   "id": "c56343cc",
   "metadata": {},
   "outputs": [
    {
     "name": "stderr",
     "output_type": "stream",
     "text": [
      "/var/folders/fb/fgwpc_kd3dxdcfsnm_9w3wv40000gn/T/ipykernel_99994/3258286340.py:1: DeprecationWarning: find_element_by_xpath is deprecated. Please use find_element(by=By.XPATH, value=xpath) instead\n",
      "  driver.find_element_by_xpath('//*[@id=\"sr_normal\"]/tr[1]/td[2]/span[1]/span[1]').text\n"
     ]
    },
    {
     "data": {
      "text/plain": [
       "'17/09식(18년형)'"
      ]
     },
     "execution_count": 154,
     "metadata": {},
     "output_type": "execute_result"
    }
   ],
   "source": [
    "driver.find_element_by_xpath('//*[@id=\"sr_normal\"]/tr[1]/td[2]/span[1]/span[1]').text"
   ]
  },
  {
   "cell_type": "code",
   "execution_count": 155,
   "id": "35aa9b20",
   "metadata": {},
   "outputs": [
    {
     "name": "stderr",
     "output_type": "stream",
     "text": [
      "/var/folders/fb/fgwpc_kd3dxdcfsnm_9w3wv40000gn/T/ipykernel_99994/590652647.py:1: DeprecationWarning: find_element_by_xpath is deprecated. Please use find_element(by=By.XPATH, value=xpath) instead\n",
      "  driver.find_element_by_xpath('//*[@id=\"sr_normal\"]/tr[1]/td[2]/span[1]/span[2]').text\n"
     ]
    },
    {
     "data": {
      "text/plain": [
       "'75,679km'"
      ]
     },
     "execution_count": 155,
     "metadata": {},
     "output_type": "execute_result"
    }
   ],
   "source": [
    "driver.find_element_by_xpath('//*[@id=\"sr_normal\"]/tr[1]/td[2]/span[1]/span[2]').text"
   ]
  },
  {
   "cell_type": "code",
   "execution_count": 156,
   "id": "cb78847c",
   "metadata": {},
   "outputs": [
    {
     "name": "stderr",
     "output_type": "stream",
     "text": [
      "/var/folders/fb/fgwpc_kd3dxdcfsnm_9w3wv40000gn/T/ipykernel_99994/51738945.py:1: DeprecationWarning: find_element_by_xpath is deprecated. Please use find_element(by=By.XPATH, value=xpath) instead\n",
      "  driver.find_element_by_xpath('//*[@id=\"sr_normal\"]/tr[1]/td[2]/span[1]/span[3]').text\n"
     ]
    },
    {
     "data": {
      "text/plain": [
       "'가솔린+전기'"
      ]
     },
     "execution_count": 156,
     "metadata": {},
     "output_type": "execute_result"
    }
   ],
   "source": [
    "driver.find_element_by_xpath('//*[@id=\"sr_normal\"]/tr[1]/td[2]/span[1]/span[3]').text"
   ]
  },
  {
   "cell_type": "code",
   "execution_count": 157,
   "id": "3bae7a7e",
   "metadata": {},
   "outputs": [
    {
     "name": "stderr",
     "output_type": "stream",
     "text": [
      "/var/folders/fb/fgwpc_kd3dxdcfsnm_9w3wv40000gn/T/ipykernel_99994/4127727584.py:1: DeprecationWarning: find_element_by_xpath is deprecated. Please use find_element(by=By.XPATH, value=xpath) instead\n",
      "  driver.find_element_by_xpath('//*[@id=\"sr_normal\"]/tr[1]/td[3]/strong').text\n"
     ]
    },
    {
     "data": {
      "text/plain": [
       "'2,450'"
      ]
     },
     "execution_count": 157,
     "metadata": {},
     "output_type": "execute_result"
    }
   ],
   "source": [
    "driver.find_element_by_xpath('//*[@id=\"sr_normal\"]/tr[1]/td[3]/strong').text"
   ]
  },
  {
   "cell_type": "code",
   "execution_count": 166,
   "id": "6d9fee15",
   "metadata": {},
   "outputs": [
    {
     "name": "stderr",
     "output_type": "stream",
     "text": [
      "/var/folders/fb/fgwpc_kd3dxdcfsnm_9w3wv40000gn/T/ipykernel_99994/1810272364.py:1: DeprecationWarning: find_element_by_xpath is deprecated. Please use find_element(by=By.XPATH, value=xpath) instead\n",
      "  model = driver.find_element_by_xpath('//*[@id=\"sr_normal\"]/tr[1]/td[2]/a/span[1]/em').text\n",
      "/var/folders/fb/fgwpc_kd3dxdcfsnm_9w3wv40000gn/T/ipykernel_99994/1810272364.py:2: DeprecationWarning: find_element_by_xpath is deprecated. Please use find_element(by=By.XPATH, value=xpath) instead\n",
      "  option = driver.find_element_by_xpath('//*[@id=\"sr_normal\"]/tr[1]/td[2]/a/span[2]').text\n",
      "/var/folders/fb/fgwpc_kd3dxdcfsnm_9w3wv40000gn/T/ipykernel_99994/1810272364.py:3: DeprecationWarning: find_element_by_xpath is deprecated. Please use find_element(by=By.XPATH, value=xpath) instead\n",
      "  year = driver.find_element_by_xpath('//*[@id=\"sr_normal\"]/tr[1]/td[2]/span[1]/span[1]').text\n",
      "/var/folders/fb/fgwpc_kd3dxdcfsnm_9w3wv40000gn/T/ipykernel_99994/1810272364.py:4: DeprecationWarning: find_element_by_xpath is deprecated. Please use find_element(by=By.XPATH, value=xpath) instead\n",
      "  km = driver.find_element_by_xpath('//*[@id=\"sr_normal\"]/tr[1]/td[2]/span[1]/span[2]').text\n",
      "/var/folders/fb/fgwpc_kd3dxdcfsnm_9w3wv40000gn/T/ipykernel_99994/1810272364.py:5: DeprecationWarning: find_element_by_xpath is deprecated. Please use find_element(by=By.XPATH, value=xpath) instead\n",
      "  fue = driver.find_element_by_xpath('//*[@id=\"sr_normal\"]/tr[1]/td[2]/span[1]/span[3]').text\n",
      "/var/folders/fb/fgwpc_kd3dxdcfsnm_9w3wv40000gn/T/ipykernel_99994/1810272364.py:6: DeprecationWarning: find_element_by_xpath is deprecated. Please use find_element(by=By.XPATH, value=xpath) instead\n",
      "  price = driver.find_element_by_xpath('//*[@id=\"sr_normal\"]/tr[1]/td[3]/strong').text\n"
     ]
    }
   ],
   "source": [
    "model = driver.find_element_by_xpath('//*[@id=\"sr_normal\"]/tr[1]/td[2]/a/span[1]/em').text\n",
    "option = driver.find_element_by_xpath('//*[@id=\"sr_normal\"]/tr[1]/td[2]/a/span[2]').text\n",
    "year = driver.find_element_by_xpath('//*[@id=\"sr_normal\"]/tr[1]/td[2]/span[1]/span[1]').text\n",
    "km = driver.find_element_by_xpath('//*[@id=\"sr_normal\"]/tr[1]/td[2]/span[1]/span[2]').text\n",
    "fue = driver.find_element_by_xpath('//*[@id=\"sr_normal\"]/tr[1]/td[2]/span[1]/span[3]').text\n",
    "price = driver.find_element_by_xpath('//*[@id=\"sr_normal\"]/tr[1]/td[3]/strong').text"
   ]
  },
  {
   "cell_type": "code",
   "execution_count": 186,
   "id": "29a08a7c",
   "metadata": {},
   "outputs": [
    {
     "name": "stderr",
     "output_type": "stream",
     "text": [
      "/var/folders/fb/fgwpc_kd3dxdcfsnm_9w3wv40000gn/T/ipykernel_99994/1917637553.py:3: DeprecationWarning: find_element_by_xpath is deprecated. Please use find_element(by=By.XPATH, value=xpath) instead\n",
      "  driver.find_element_by_xpath('//*[@id=\"pagination\"]/span[2]').click()\n"
     ]
    }
   ],
   "source": [
    "page_text = driver.page_source\n",
    "html = BeautifulSoup(page_text, 'html.parser')\n",
    "driver.find_element_by_xpath('//*[@id=\"pagination\"]/span[2]').click()"
   ]
  },
  {
   "cell_type": "code",
   "execution_count": 272,
   "id": "787512d2",
   "metadata": {},
   "outputs": [
    {
     "name": "stdout",
     "output_type": "stream",
     "text": [
      "1\n",
      "2\n",
      "3\n",
      "4\n",
      "5\n",
      "6\n",
      "7\n",
      "8\n",
      "9\n",
      "10\n",
      "11\n"
     ]
    },
    {
     "name": "stderr",
     "output_type": "stream",
     "text": [
      "/var/folders/fb/fgwpc_kd3dxdcfsnm_9w3wv40000gn/T/ipykernel_99994/1720711194.py:1: DeprecationWarning: find_element_by_css_selector is deprecated. Please use find_element(by=By.CSS_SELECTOR, value=css_selector) instead\n",
      "  page_bar = driver.find_element_by_css_selector('#pagination')\n"
     ]
    },
    {
     "ename": "AttributeError",
     "evalue": "'NoneType' object has no attribute 'strip'",
     "output_type": "error",
     "traceback": [
      "\u001b[0;31m---------------------------------------------------------------------------\u001b[0m",
      "\u001b[0;31mAttributeError\u001b[0m                            Traceback (most recent call last)",
      "Input \u001b[0;32mIn [272]\u001b[0m, in \u001b[0;36m<cell line: 3>\u001b[0;34m()\u001b[0m\n\u001b[1;32m      2\u001b[0m pages \u001b[38;5;241m=\u001b[39m page_bar\u001b[38;5;241m.\u001b[39mfind_elements_by_css_selector(\u001b[38;5;124m'\u001b[39m\u001b[38;5;124ma\u001b[39m\u001b[38;5;124m'\u001b[39m)\n\u001b[1;32m      3\u001b[0m \u001b[38;5;28;01mfor\u001b[39;00m page \u001b[38;5;129;01min\u001b[39;00m pages:\n\u001b[0;32m----> 4\u001b[0m     page_num \u001b[38;5;241m=\u001b[39m \u001b[38;5;28mint\u001b[39m(\u001b[43mpage\u001b[49m\u001b[38;5;241;43m.\u001b[39;49m\u001b[43mget_attribute\u001b[49m\u001b[43m(\u001b[49m\u001b[38;5;124;43m'\u001b[39;49m\u001b[38;5;124;43mdata-page\u001b[39;49m\u001b[38;5;124;43m'\u001b[39;49m\u001b[43m)\u001b[49m\u001b[38;5;241;43m.\u001b[39;49m\u001b[43mstrip\u001b[49m())\n\u001b[1;32m      5\u001b[0m     \u001b[38;5;28mprint\u001b[39m(page_num)\n",
      "\u001b[0;31mAttributeError\u001b[0m: 'NoneType' object has no attribute 'strip'"
     ]
    }
   ],
   "source": [
    "page_bar = driver.find_element_by_css_selector('#pagination')\n",
    "pages = page_bar.find_elements_by_css_selector('a')\n",
    "for page in pages:\n",
    "    page_num = int(page.get_attribute('data-page').strip())\n",
    "    print(page_num)\n",
    "# pages.text"
   ]
  },
  {
   "cell_type": "code",
   "execution_count": 266,
   "id": "c1e6683e",
   "metadata": {},
   "outputs": [
    {
     "data": {
      "text/plain": [
       "1"
      ]
     },
     "execution_count": 266,
     "metadata": {},
     "output_type": "execute_result"
    }
   ],
   "source": [
    "page_n = page_bar.find_elements_by_css_selector('.current')[0]\n",
    "int(page_n.text)"
   ]
  },
  {
   "cell_type": "code",
   "execution_count": 271,
   "id": "056c41a8",
   "metadata": {},
   "outputs": [
    {
     "ename": "StaleElementReferenceException",
     "evalue": "Message: stale element reference: element is not attached to the page document\n  (Session info: chrome=101.0.4951.64)\nStacktrace:\n0   chromedriver                        0x00000001008272c9 chromedriver + 5120713\n1   chromedriver                        0x00000001007b5e33 chromedriver + 4656691\n2   chromedriver                        0x00000001003a5158 chromedriver + 393560\n3   chromedriver                        0x00000001003a8087 chromedriver + 405639\n4   chromedriver                        0x00000001003a7f26 chromedriver + 405286\n5   chromedriver                        0x00000001003a8aed chromedriver + 408301\n6   chromedriver                        0x000000010040ab63 chromedriver + 809827\n7   chromedriver                        0x00000001003f7482 chromedriver + 730242\n8   chromedriver                        0x0000000100409f41 chromedriver + 806721\n9   chromedriver                        0x00000001003f7373 chromedriver + 729971\n10  chromedriver                        0x00000001003cd609 chromedriver + 558601\n11  chromedriver                        0x00000001003ce635 chromedriver + 562741\n12  chromedriver                        0x00000001007f9b1d chromedriver + 4934429\n13  chromedriver                        0x00000001007fe295 chromedriver + 4952725\n14  chromedriver                        0x00000001008033cf chromedriver + 4973519\n15  chromedriver                        0x00000001007fecba chromedriver + 4955322\n16  chromedriver                        0x00000001007d937c chromedriver + 4801404\n17  chromedriver                        0x0000000100818c68 chromedriver + 5061736\n18  chromedriver                        0x0000000100818def chromedriver + 5062127\n19  chromedriver                        0x000000010082e5e5 chromedriver + 5150181\n20  libsystem_pthread.dylib             0x00007ff80f2f14e1 _pthread_start + 125\n21  libsystem_pthread.dylib             0x00007ff80f2ecf6b thread_start + 15\n",
     "output_type": "error",
     "traceback": [
      "\u001b[0;31m---------------------------------------------------------------------------\u001b[0m",
      "\u001b[0;31mStaleElementReferenceException\u001b[0m            Traceback (most recent call last)",
      "Input \u001b[0;32mIn [271]\u001b[0m, in \u001b[0;36m<cell line: 1>\u001b[0;34m()\u001b[0m\n\u001b[1;32m      1\u001b[0m \u001b[38;5;28;01mfor\u001b[39;00m page \u001b[38;5;129;01min\u001b[39;00m pages:\n\u001b[0;32m----> 2\u001b[0m     page_num \u001b[38;5;241m=\u001b[39m \u001b[38;5;28mint\u001b[39m(\u001b[43mpage\u001b[49m\u001b[38;5;241;43m.\u001b[39;49m\u001b[43mget_attribute\u001b[49m\u001b[43m(\u001b[49m\u001b[38;5;124;43m'\u001b[39;49m\u001b[38;5;124;43mdata-page\u001b[39;49m\u001b[38;5;124;43m'\u001b[39;49m\u001b[43m)\u001b[49m\u001b[38;5;241m.\u001b[39mstrip())\n\u001b[1;32m      3\u001b[0m     \u001b[38;5;28mprint\u001b[39m(page_num)\n",
      "File \u001b[0;32m/opt/homebrew/Caskroom/miniforge/base/envs/fastcampus/lib/python3.8/site-packages/selenium/webdriver/remote/webelement.py:155\u001b[0m, in \u001b[0;36mWebElement.get_attribute\u001b[0;34m(self, name)\u001b[0m\n\u001b[1;32m    128\u001b[0m \u001b[38;5;28;01mdef\u001b[39;00m \u001b[38;5;21mget_attribute\u001b[39m(\u001b[38;5;28mself\u001b[39m, name) \u001b[38;5;241m-\u001b[39m\u001b[38;5;241m>\u001b[39m \u001b[38;5;28mstr\u001b[39m:\n\u001b[1;32m    129\u001b[0m     \u001b[38;5;124;03m\"\"\"Gets the given attribute or property of the element.\u001b[39;00m\n\u001b[1;32m    130\u001b[0m \n\u001b[1;32m    131\u001b[0m \u001b[38;5;124;03m    This method will first try to return the value of a property with the\u001b[39;00m\n\u001b[0;32m   (...)\u001b[0m\n\u001b[1;32m    152\u001b[0m \n\u001b[1;32m    153\u001b[0m \u001b[38;5;124;03m    \"\"\"\u001b[39;00m\n\u001b[0;32m--> 155\u001b[0m     attribute_value \u001b[38;5;241m=\u001b[39m \u001b[38;5;28;43mself\u001b[39;49m\u001b[38;5;241;43m.\u001b[39;49m\u001b[43mparent\u001b[49m\u001b[38;5;241;43m.\u001b[39;49m\u001b[43mexecute_script\u001b[49m\u001b[43m(\u001b[49m\n\u001b[1;32m    156\u001b[0m \u001b[43m        \u001b[49m\u001b[38;5;124;43m\"\u001b[39;49m\u001b[38;5;124;43mreturn (\u001b[39;49m\u001b[38;5;132;43;01m%s\u001b[39;49;00m\u001b[38;5;124;43m).apply(null, arguments);\u001b[39;49m\u001b[38;5;124;43m\"\u001b[39;49m\u001b[43m \u001b[49m\u001b[38;5;241;43m%\u001b[39;49m\u001b[43m \u001b[49m\u001b[43mgetAttribute_js\u001b[49m\u001b[43m,\u001b[49m\n\u001b[1;32m    157\u001b[0m \u001b[43m        \u001b[49m\u001b[38;5;28;43mself\u001b[39;49m\u001b[43m,\u001b[49m\u001b[43m \u001b[49m\u001b[43mname\u001b[49m\u001b[43m)\u001b[49m\n\u001b[1;32m    158\u001b[0m     \u001b[38;5;28;01mreturn\u001b[39;00m attribute_value\n",
      "File \u001b[0;32m/opt/homebrew/Caskroom/miniforge/base/envs/fastcampus/lib/python3.8/site-packages/selenium/webdriver/remote/webdriver.py:879\u001b[0m, in \u001b[0;36mWebDriver.execute_script\u001b[0;34m(self, script, *args)\u001b[0m\n\u001b[1;32m    876\u001b[0m converted_args \u001b[38;5;241m=\u001b[39m \u001b[38;5;28mlist\u001b[39m(args)\n\u001b[1;32m    877\u001b[0m command \u001b[38;5;241m=\u001b[39m Command\u001b[38;5;241m.\u001b[39mW3C_EXECUTE_SCRIPT\n\u001b[0;32m--> 879\u001b[0m \u001b[38;5;28;01mreturn\u001b[39;00m \u001b[38;5;28;43mself\u001b[39;49m\u001b[38;5;241;43m.\u001b[39;49m\u001b[43mexecute\u001b[49m\u001b[43m(\u001b[49m\u001b[43mcommand\u001b[49m\u001b[43m,\u001b[49m\u001b[43m \u001b[49m\u001b[43m{\u001b[49m\n\u001b[1;32m    880\u001b[0m \u001b[43m    \u001b[49m\u001b[38;5;124;43m'\u001b[39;49m\u001b[38;5;124;43mscript\u001b[39;49m\u001b[38;5;124;43m'\u001b[39;49m\u001b[43m:\u001b[49m\u001b[43m \u001b[49m\u001b[43mscript\u001b[49m\u001b[43m,\u001b[49m\n\u001b[1;32m    881\u001b[0m \u001b[43m    \u001b[49m\u001b[38;5;124;43m'\u001b[39;49m\u001b[38;5;124;43margs\u001b[39;49m\u001b[38;5;124;43m'\u001b[39;49m\u001b[43m:\u001b[49m\u001b[43m \u001b[49m\u001b[43mconverted_args\u001b[49m\u001b[43m}\u001b[49m\u001b[43m)\u001b[49m[\u001b[38;5;124m'\u001b[39m\u001b[38;5;124mvalue\u001b[39m\u001b[38;5;124m'\u001b[39m]\n",
      "File \u001b[0;32m/opt/homebrew/Caskroom/miniforge/base/envs/fastcampus/lib/python3.8/site-packages/selenium/webdriver/remote/webdriver.py:425\u001b[0m, in \u001b[0;36mWebDriver.execute\u001b[0;34m(self, driver_command, params)\u001b[0m\n\u001b[1;32m    423\u001b[0m response \u001b[38;5;241m=\u001b[39m \u001b[38;5;28mself\u001b[39m\u001b[38;5;241m.\u001b[39mcommand_executor\u001b[38;5;241m.\u001b[39mexecute(driver_command, params)\n\u001b[1;32m    424\u001b[0m \u001b[38;5;28;01mif\u001b[39;00m response:\n\u001b[0;32m--> 425\u001b[0m     \u001b[38;5;28;43mself\u001b[39;49m\u001b[38;5;241;43m.\u001b[39;49m\u001b[43merror_handler\u001b[49m\u001b[38;5;241;43m.\u001b[39;49m\u001b[43mcheck_response\u001b[49m\u001b[43m(\u001b[49m\u001b[43mresponse\u001b[49m\u001b[43m)\u001b[49m\n\u001b[1;32m    426\u001b[0m     response[\u001b[38;5;124m'\u001b[39m\u001b[38;5;124mvalue\u001b[39m\u001b[38;5;124m'\u001b[39m] \u001b[38;5;241m=\u001b[39m \u001b[38;5;28mself\u001b[39m\u001b[38;5;241m.\u001b[39m_unwrap_value(\n\u001b[1;32m    427\u001b[0m         response\u001b[38;5;241m.\u001b[39mget(\u001b[38;5;124m'\u001b[39m\u001b[38;5;124mvalue\u001b[39m\u001b[38;5;124m'\u001b[39m, \u001b[38;5;28;01mNone\u001b[39;00m))\n\u001b[1;32m    428\u001b[0m     \u001b[38;5;28;01mreturn\u001b[39;00m response\n",
      "File \u001b[0;32m/opt/homebrew/Caskroom/miniforge/base/envs/fastcampus/lib/python3.8/site-packages/selenium/webdriver/remote/errorhandler.py:247\u001b[0m, in \u001b[0;36mErrorHandler.check_response\u001b[0;34m(self, response)\u001b[0m\n\u001b[1;32m    245\u001b[0m         alert_text \u001b[38;5;241m=\u001b[39m value[\u001b[38;5;124m'\u001b[39m\u001b[38;5;124malert\u001b[39m\u001b[38;5;124m'\u001b[39m]\u001b[38;5;241m.\u001b[39mget(\u001b[38;5;124m'\u001b[39m\u001b[38;5;124mtext\u001b[39m\u001b[38;5;124m'\u001b[39m)\n\u001b[1;32m    246\u001b[0m     \u001b[38;5;28;01mraise\u001b[39;00m exception_class(message, screen, stacktrace, alert_text)  \u001b[38;5;66;03m# type: ignore[call-arg]  # mypy is not smart enough here\u001b[39;00m\n\u001b[0;32m--> 247\u001b[0m \u001b[38;5;28;01mraise\u001b[39;00m exception_class(message, screen, stacktrace)\n",
      "\u001b[0;31mStaleElementReferenceException\u001b[0m: Message: stale element reference: element is not attached to the page document\n  (Session info: chrome=101.0.4951.64)\nStacktrace:\n0   chromedriver                        0x00000001008272c9 chromedriver + 5120713\n1   chromedriver                        0x00000001007b5e33 chromedriver + 4656691\n2   chromedriver                        0x00000001003a5158 chromedriver + 393560\n3   chromedriver                        0x00000001003a8087 chromedriver + 405639\n4   chromedriver                        0x00000001003a7f26 chromedriver + 405286\n5   chromedriver                        0x00000001003a8aed chromedriver + 408301\n6   chromedriver                        0x000000010040ab63 chromedriver + 809827\n7   chromedriver                        0x00000001003f7482 chromedriver + 730242\n8   chromedriver                        0x0000000100409f41 chromedriver + 806721\n9   chromedriver                        0x00000001003f7373 chromedriver + 729971\n10  chromedriver                        0x00000001003cd609 chromedriver + 558601\n11  chromedriver                        0x00000001003ce635 chromedriver + 562741\n12  chromedriver                        0x00000001007f9b1d chromedriver + 4934429\n13  chromedriver                        0x00000001007fe295 chromedriver + 4952725\n14  chromedriver                        0x00000001008033cf chromedriver + 4973519\n15  chromedriver                        0x00000001007fecba chromedriver + 4955322\n16  chromedriver                        0x00000001007d937c chromedriver + 4801404\n17  chromedriver                        0x0000000100818c68 chromedriver + 5061736\n18  chromedriver                        0x0000000100818def chromedriver + 5062127\n19  chromedriver                        0x000000010082e5e5 chromedriver + 5150181\n20  libsystem_pthread.dylib             0x00007ff80f2f14e1 _pthread_start + 125\n21  libsystem_pthread.dylib             0x00007ff80f2ecf6b thread_start + 15\n"
     ]
    }
   ],
   "source": []
  },
  {
   "cell_type": "code",
   "execution_count": 269,
   "id": "08b33a84",
   "metadata": {},
   "outputs": [],
   "source": [
    "def crawling(driver):\n",
    "    page_bar = driver.find_element_by_css_selector('#pagination')\n",
    "    pages = page_bar.find_elements_by_css_selector('a')\n",
    "    page_now = int(page_bar.find_elements_by_css_selector('.current')[0].text)\n",
    "    \n",
    "    for page in pages:\n",
    "        page_num = int(page.get_attribute('data-page').strip())\n",
    "        print(page_num)\n",
    "        \n",
    "    if page_num == 1:\n",
    "        pass\n",
    "    elif page_num > page_now:\n",
    "        page.send_keys('\\n')\n",
    "        driver.implicitly_wait(3)\n",
    "        time.sleep(2)\n",
    "\n",
    "        if (page_num // 10 >= 1) & (page_num % 10 == 1):\n",
    "            crawling(driver)\n",
    "\n",
    "        return False\n",
    "\n",
    "    else :\n",
    "        print('마지막')\n",
    "        return True\n",
    "            \n",
    "            \n",
    "    \n",
    "    "
   ]
  },
  {
   "cell_type": "code",
   "execution_count": 270,
   "id": "6dbcadde",
   "metadata": {},
   "outputs": [
    {
     "name": "stderr",
     "output_type": "stream",
     "text": [
      "/var/folders/fb/fgwpc_kd3dxdcfsnm_9w3wv40000gn/T/ipykernel_99994/1107943643.py:2: DeprecationWarning: find_element_by_css_selector is deprecated. Please use find_element(by=By.CSS_SELECTOR, value=css_selector) instead\n",
      "  page_bar = driver.find_element_by_css_selector('#pagination')\n"
     ]
    },
    {
     "name": "stdout",
     "output_type": "stream",
     "text": [
      "1\n",
      "2\n",
      "1\n",
      "2\n",
      "마지막\n"
     ]
    }
   ],
   "source": [
    "is_done = False\n",
    "# page_bar = driver.find_element_by_css_selector('#pagination')\n",
    "# pages = page_bar.find_elements_by_css_selector('a')\n",
    "# page_now = int(pages[0].get_attribute('data-page')\n",
    "while(not is_done):\n",
    "    is_done = crawling(driver)"
   ]
  },
  {
   "cell_type": "code",
   "execution_count": null,
   "id": "5cd68dfc",
   "metadata": {},
   "outputs": [],
   "source": [
    "page_bar = driver.find_element_by_css_selector('#pagination')\n",
    "pages = page_bar.find_elements_by_css_selector('a')\n",
    "page_now = 1\n",
    "\n",
    "for page in pages:\n",
    "    page_num = int(page.get_attribute('data-page').strip())\n",
    "\n",
    "    if page_num == page_now:\n",
    "        pass\n",
    "    elif page_num > page_now:\n",
    "        page.send_keys('\\n')\n",
    "        browser.implicitly_wait(3)\n",
    "        time.sleep(2)\n",
    "\n",
    "        return False\n",
    "\n",
    "    elif page_num"
   ]
  },
  {
   "cell_type": "code",
   "execution_count": 233,
   "id": "34958955",
   "metadata": {},
   "outputs": [
    {
     "name": "stdout",
     "output_type": "stream",
     "text": [
      "11\n",
      "21\n",
      "31\n",
      "41\n"
     ]
    }
   ],
   "source": [
    "for page_num in range(50):\n",
    "    if (page_num // 10 >= 1) & (page_num % 10 == 1):\n",
    "        print(page_num)"
   ]
  },
  {
   "cell_type": "code",
   "execution_count": 189,
   "id": "4d99f09d",
   "metadata": {},
   "outputs": [
    {
     "name": "stderr",
     "output_type": "stream",
     "text": [
      "/var/folders/fb/fgwpc_kd3dxdcfsnm_9w3wv40000gn/T/ipykernel_99994/2561923266.py:3: DeprecationWarning: find_element_by_xpath is deprecated. Please use find_element(by=By.XPATH, value=xpath) instead\n",
      "  car.append(driver.find_element_by_xpath('//*[@id=\"sr_normal\"]/tr[{0}]/td[2]/a/span[1]/em'.format(i)).text)\n",
      "/var/folders/fb/fgwpc_kd3dxdcfsnm_9w3wv40000gn/T/ipykernel_99994/2561923266.py:4: DeprecationWarning: find_element_by_xpath is deprecated. Please use find_element(by=By.XPATH, value=xpath) instead\n",
      "  car.append(driver.find_element_by_xpath(f'//*[@id=\"sr_normal\"]/tr[{i}]/td[2]/a/span[2]').text)\n",
      "/var/folders/fb/fgwpc_kd3dxdcfsnm_9w3wv40000gn/T/ipykernel_99994/2561923266.py:5: DeprecationWarning: find_element_by_xpath is deprecated. Please use find_element(by=By.XPATH, value=xpath) instead\n",
      "  car.append(driver.find_element_by_xpath(f'//*[@id=\"sr_normal\"]/tr[{i}]/td[2]/span[1]/span[1]').text)\n",
      "/var/folders/fb/fgwpc_kd3dxdcfsnm_9w3wv40000gn/T/ipykernel_99994/2561923266.py:6: DeprecationWarning: find_element_by_xpath is deprecated. Please use find_element(by=By.XPATH, value=xpath) instead\n",
      "  car.append(driver.find_element_by_xpath(f'//*[@id=\"sr_normal\"]/tr[{i}]/td[2]/span[1]/span[2]').text)\n",
      "/var/folders/fb/fgwpc_kd3dxdcfsnm_9w3wv40000gn/T/ipykernel_99994/2561923266.py:7: DeprecationWarning: find_element_by_xpath is deprecated. Please use find_element(by=By.XPATH, value=xpath) instead\n",
      "  car.append(driver.find_element_by_xpath(f'//*[@id=\"sr_normal\"]/tr[{i}]/td[2]/span[1]/span[3]').text)\n",
      "/var/folders/fb/fgwpc_kd3dxdcfsnm_9w3wv40000gn/T/ipykernel_99994/2561923266.py:8: DeprecationWarning: find_element_by_xpath is deprecated. Please use find_element(by=By.XPATH, value=xpath) instead\n",
      "  car.append(driver.find_element_by_xpath(f'//*[@id=\"sr_normal\"]/tr[{i}]/td[3]/strong').text)\n"
     ]
    }
   ],
   "source": [
    "car = []\n",
    "for i in range(1,51):\n",
    "    car.append(driver.find_element_by_xpath('//*[@id=\"sr_normal\"]/tr[{0}]/td[2]/a/span[1]/em'.format(i)).text)\n",
    "    car.append(driver.find_element_by_xpath(f'//*[@id=\"sr_normal\"]/tr[{i}]/td[2]/a/span[2]').text)\n",
    "    car.append(driver.find_element_by_xpath(f'//*[@id=\"sr_normal\"]/tr[{i}]/td[2]/span[1]/span[1]').text)\n",
    "    car.append(driver.find_element_by_xpath(f'//*[@id=\"sr_normal\"]/tr[{i}]/td[2]/span[1]/span[2]').text)\n",
    "    car.append(driver.find_element_by_xpath(f'//*[@id=\"sr_normal\"]/tr[{i}]/td[2]/span[1]/span[3]').text)\n",
    "    car.append(driver.find_element_by_xpath(f'//*[@id=\"sr_normal\"]/tr[{i}]/td[3]/strong').text)\n",
    "    \n",
    "    "
   ]
  },
  {
   "cell_type": "code",
   "execution_count": 190,
   "id": "06e9fbbb",
   "metadata": {},
   "outputs": [
    {
     "data": {
      "text/plain": [
       "['더 뉴 그랜저 IG 하이브리드',\n",
       " '캘리그래피',\n",
       " '19/12식(20년형)',\n",
       " '13,386km',\n",
       " '가솔린+전기',\n",
       " '4,260',\n",
       " '그랜저 IG',\n",
       " '3.0 익스클루시브 스페셜',\n",
       " '18/05식(19년형)',\n",
       " '56,817km',\n",
       " '가솔린',\n",
       " '2,750',\n",
       " '더 럭셔리 그랜저',\n",
       " 'Q270 디럭스',\n",
       " '10/08식',\n",
       " '132,428km',\n",
       " '가솔린',\n",
       " '490',\n",
       " '그랜저 IG',\n",
       " '2.4 프리미엄 스페셜',\n",
       " '16/11식(17년형)',\n",
       " '139,054km',\n",
       " '가솔린',\n",
       " '1,630',\n",
       " '그랜저 IG',\n",
       " '3.0 익스클루시브 스페셜',\n",
       " '19/02식',\n",
       " '79,556km',\n",
       " '가솔린',\n",
       " '2,590',\n",
       " '그랜저 뉴 럭셔리',\n",
       " 'Q270 럭셔리 기본형',\n",
       " '09/05식',\n",
       " '111,345km',\n",
       " '가솔린',\n",
       " '480',\n",
       " '그랜저 뉴 럭셔리',\n",
       " 'Q270 디럭스',\n",
       " '08/05식(09년형)',\n",
       " '185,801km',\n",
       " '가솔린',\n",
       " '370',\n",
       " '그랜저 HG',\n",
       " 'HG300 프리미엄',\n",
       " '13/04식(14년형)',\n",
       " '164,466km',\n",
       " '가솔린',\n",
       " '860',\n",
       " '그랜저 IG',\n",
       " '3.0 익스클루시브 스페셜',\n",
       " '18/05식',\n",
       " '72,921km',\n",
       " '가솔린',\n",
       " '2,460',\n",
       " '그랜저 HG',\n",
       " 'HG240 럭셔리',\n",
       " '12/04식',\n",
       " '172,360km',\n",
       " '가솔린',\n",
       " '800',\n",
       " '그랜저 IG',\n",
       " '2.4 프리미엄 스페셜',\n",
       " '17/03식(18년형)',\n",
       " '100,199km',\n",
       " '가솔린',\n",
       " '1,790',\n",
       " '그랜저 뉴 럭셔리',\n",
       " 'Q270 럭셔리 기본형',\n",
       " '09/01식',\n",
       " '146,070km',\n",
       " '가솔린',\n",
       " '290',\n",
       " '그랜저 IG 하이브리드',\n",
       " '익스클루시브',\n",
       " '17/06식(18년형)',\n",
       " '57,234km',\n",
       " '가솔린+전기',\n",
       " '2,530',\n",
       " '그랜저 IG',\n",
       " '2.2 디젤 프리미엄 스페셜',\n",
       " '17/01식',\n",
       " '147,824km',\n",
       " '디젤',\n",
       " '2,230',\n",
       " '더 뉴 그랜저 IG',\n",
       " '3.3 익스클루시브',\n",
       " '20/03식',\n",
       " '12,251km',\n",
       " '가솔린',\n",
       " '3,550',\n",
       " '그랜저 IG',\n",
       " '2.4 모던',\n",
       " '17/03식(18년형)',\n",
       " '28,675km',\n",
       " '가솔린',\n",
       " '2,230',\n",
       " '',\n",
       " '',\n",
       " '',\n",
       " '',\n",
       " '',\n",
       " '',\n",
       " '그랜저 IG',\n",
       " '2.4 프리미엄 스페셜',\n",
       " '17/05식(18년형)',\n",
       " '158,787km',\n",
       " '가솔린',\n",
       " '1,670',\n",
       " '그랜저 IG',\n",
       " '2.4 프리미엄 스페셜',\n",
       " '17/11식(18년형)',\n",
       " '22,776km',\n",
       " '가솔린',\n",
       " '2,520',\n",
       " '그랜저 IG',\n",
       " '2.2 디젤 프리미엄 스페셜',\n",
       " '18/05식',\n",
       " '58,100km',\n",
       " '디젤',\n",
       " '2,360',\n",
       " '그랜저 HG',\n",
       " 'HG300 익스클루시브',\n",
       " '15/11식(16년형)',\n",
       " '133,266km',\n",
       " '가솔린',\n",
       " '1,350',\n",
       " '더 뉴 그랜저 IG',\n",
       " '2.5 프리미엄 초이스',\n",
       " '20/11식(21년형)',\n",
       " '14,501km',\n",
       " '가솔린',\n",
       " '3,450',\n",
       " '그랜저 IG 하이브리드',\n",
       " '익스클루시브 스페셜',\n",
       " '19/02식',\n",
       " '21,203km',\n",
       " '가솔린+전기',\n",
       " '3,272',\n",
       " '그랜저 IG',\n",
       " '3.0 LPi 장애인용 프리미엄 스페셜',\n",
       " '17/02식',\n",
       " '115,570km',\n",
       " 'LPG(일반인 구입)',\n",
       " '1,930',\n",
       " '그랜저 HG',\n",
       " 'LPG HG300 모던',\n",
       " '14/12식(15년형)',\n",
       " '242,996km',\n",
       " 'LPG(일반인 구입)',\n",
       " '850',\n",
       " '그랜저 IG 하이브리드',\n",
       " '익스클루시브 스페셜',\n",
       " '19/03식',\n",
       " '36,457km',\n",
       " '가솔린+전기',\n",
       " '3,550',\n",
       " '그랜저 IG',\n",
       " '3.0 익스클루시브 스페셜',\n",
       " '18/01식',\n",
       " '108,638km',\n",
       " '가솔린',\n",
       " '2,150',\n",
       " '더 뉴 그랜저 IG',\n",
       " '2.5 프리미엄',\n",
       " '20/03식',\n",
       " '52,628km',\n",
       " '가솔린',\n",
       " '3,140',\n",
       " '그랜저 IG',\n",
       " '2.4 모던',\n",
       " '17/09식(18년형)',\n",
       " '29,665km',\n",
       " '가솔린',\n",
       " '2,230',\n",
       " '그랜저 IG',\n",
       " '2.4 프리미엄',\n",
       " '17/03식(18년형)',\n",
       " '78,286km',\n",
       " '가솔린',\n",
       " '2,399',\n",
       " '그랜저 IG',\n",
       " '3.0 익스클루시브',\n",
       " '18/01식',\n",
       " '122,435km',\n",
       " '가솔린',\n",
       " '1,920',\n",
       " '그랜저 HG',\n",
       " 'LPG HG300 이그제큐티브',\n",
       " '11/04식',\n",
       " '112,570km',\n",
       " 'LPG(일반인 구입)',\n",
       " '1,080',\n",
       " '그랜저 HG',\n",
       " 'HG240 모던',\n",
       " '14/11식(15년형)',\n",
       " '111,029km',\n",
       " '가솔린',\n",
       " '1,375',\n",
       " '그랜저 HG',\n",
       " 'HG220 디젤 프리미엄',\n",
       " '14/10식(15년형)',\n",
       " '180,094km',\n",
       " '디젤',\n",
       " '990',\n",
       " '더 뉴 그랜저 IG',\n",
       " '3.3 프리미엄 초이스',\n",
       " '20/08식',\n",
       " '25,357km',\n",
       " '가솔린',\n",
       " '3,355',\n",
       " '그랜저 HG',\n",
       " 'HG300 로얄',\n",
       " '11/02식',\n",
       " '128,387km',\n",
       " '가솔린',\n",
       " '850',\n",
       " '그랜저 IG',\n",
       " '3.0 익스클루시브 스페셜',\n",
       " '17/12식(18년형)',\n",
       " '137,241km',\n",
       " '가솔린',\n",
       " '1,950',\n",
       " '그랜저 IG',\n",
       " '2.4 프리미엄',\n",
       " '19/01식',\n",
       " '88,144km',\n",
       " '가솔린',\n",
       " '2,150',\n",
       " '그랜저 IG',\n",
       " '2.2 디젤 프리미엄 스페셜',\n",
       " '18/02식',\n",
       " '58,443km',\n",
       " '디젤',\n",
       " '2,599',\n",
       " '그랜저 IG',\n",
       " '3.0 익스클루시브 스페셜',\n",
       " '18/12식(19년형)',\n",
       " '74,153km',\n",
       " '가솔린',\n",
       " '2,550',\n",
       " '그랜저 IG',\n",
       " '2.4 프리미엄 스페셜',\n",
       " '17/04식(18년형)',\n",
       " '77,292km',\n",
       " '가솔린',\n",
       " '2,200',\n",
       " '그랜저 HG',\n",
       " 'HG220 디젤 프리미엄',\n",
       " '14/09식(15년형)',\n",
       " '115,644km',\n",
       " '디젤',\n",
       " '1,360',\n",
       " '그랜저 HG',\n",
       " '아제라(수출형)',\n",
       " '13/12식',\n",
       " '142,974km',\n",
       " '가솔린',\n",
       " '770',\n",
       " '그랜저 TG',\n",
       " 'LPI Q270 모범형 팩2',\n",
       " '06/01식',\n",
       " '106,546km',\n",
       " 'LPG(일반인 구입)',\n",
       " '390',\n",
       " '그랜저 HG',\n",
       " 'HG240 모던',\n",
       " '13/03식',\n",
       " '108,257km',\n",
       " '가솔린',\n",
       " '1,290',\n",
       " '그랜저 뉴 럭셔리',\n",
       " 'Q270 디럭스',\n",
       " '08/07식(09년형)',\n",
       " '68,281km',\n",
       " '가솔린',\n",
       " '450',\n",
       " '그랜저 IG',\n",
       " '3.0 LPi 모던 (렌터카)',\n",
       " '18/06식(19년형)',\n",
       " '149,678km',\n",
       " 'LPG(일반인 구입)',\n",
       " '1,599',\n",
       " '더 뉴 그랜저 IG',\n",
       " '3.3 익스클루시브',\n",
       " '20/03식',\n",
       " '12,251km',\n",
       " '가솔린',\n",
       " '3,550',\n",
       " '그랜저 IG',\n",
       " '2.4 익스클루시브 스페셜',\n",
       " '19/11식',\n",
       " '19,405km',\n",
       " '가솔린',\n",
       " '2,990',\n",
       " '그랜저 HG',\n",
       " 'HG330 셀러브리티',\n",
       " '12/02식',\n",
       " '203,878km',\n",
       " '가솔린',\n",
       " '785']"
      ]
     },
     "execution_count": 190,
     "metadata": {},
     "output_type": "execute_result"
    }
   ],
   "source": [
    "car"
   ]
  },
  {
   "cell_type": "code",
   "execution_count": 193,
   "id": "b3ea45b9",
   "metadata": {},
   "outputs": [
    {
     "data": {
      "text/plain": [
       "50"
      ]
     },
     "execution_count": 193,
     "metadata": {},
     "output_type": "execute_result"
    }
   ],
   "source": [
    "datas = np.array(car).reshape(-1,6)\n",
    "len(datas)"
   ]
  }
 ],
 "metadata": {
  "kernelspec": {
   "display_name": "Python 3 (ipykernel)",
   "language": "python",
   "name": "python3"
  },
  "language_info": {
   "codemirror_mode": {
    "name": "ipython",
    "version": 3
   },
   "file_extension": ".py",
   "mimetype": "text/x-python",
   "name": "python",
   "nbconvert_exporter": "python",
   "pygments_lexer": "ipython3",
   "version": "3.8.13"
  }
 },
 "nbformat": 4,
 "nbformat_minor": 5
}
