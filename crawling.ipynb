{
 "cells": [
  {
   "cell_type": "code",
   "execution_count": 1,
   "id": "171573a1",
   "metadata": {},
   "outputs": [
    {
     "name": "stderr",
     "output_type": "stream",
     "text": [
      "'xattr' is not recognized as an internal or external command,\n",
      "operable program or batch file.\n"
     ]
    }
   ],
   "source": [
    "# !xattr -d com.apple.quarantine chromedriver"
   ]
  },
  {
   "cell_type": "code",
   "execution_count": 3,
   "id": "c768e529",
   "metadata": {},
   "outputs": [
    {
     "name": "stdout",
     "output_type": "stream",
     "text": [
      "Collecting numpy\n",
      "  Downloading numpy-1.22.4-cp38-cp38-win_amd64.whl (14.8 MB)\n",
      "Installing collected packages: numpy\n",
      "Successfully installed numpy-1.22.4\n"
     ]
    }
   ],
   "source": [
    "# !pip install numpy"
   ]
  },
  {
   "cell_type": "code",
   "execution_count": 5,
   "id": "ffa4f715",
   "metadata": {},
   "outputs": [
    {
     "name": "stdout",
     "output_type": "stream",
     "text": [
      "Collecting pandas\n",
      "  Downloading pandas-1.4.2-cp38-cp38-win_amd64.whl (10.6 MB)\n",
      "Requirement already satisfied: numpy>=1.18.5 in c:\\users\\y0010\\anaconda3\\envs\\selenium\\lib\\site-packages (from pandas) (1.22.4)\n",
      "Requirement already satisfied: python-dateutil>=2.8.1 in c:\\users\\y0010\\anaconda3\\envs\\selenium\\lib\\site-packages (from pandas) (2.8.2)\n",
      "Collecting pytz>=2020.1\n",
      "  Downloading pytz-2022.1-py2.py3-none-any.whl (503 kB)\n",
      "Requirement already satisfied: six>=1.5 in c:\\users\\y0010\\anaconda3\\envs\\selenium\\lib\\site-packages (from python-dateutil>=2.8.1->pandas) (1.16.0)\n",
      "Installing collected packages: pytz, pandas\n",
      "Successfully installed pandas-1.4.2 pytz-2022.1\n"
     ]
    }
   ],
   "source": [
    "# !pip install pandas"
   ]
  },
  {
   "cell_type": "code",
   "execution_count": 40,
   "id": "a32d2b56",
   "metadata": {},
   "outputs": [],
   "source": [
    "import numpy as np\n",
    "import pandas as pd\n",
    "# import requests # 크롤링에 사용하는 패키지"
   ]
  },
  {
   "cell_type": "code",
   "execution_count": 41,
   "id": "bcec7b7b",
   "metadata": {},
   "outputs": [
    {
     "name": "stdout",
     "output_type": "stream",
     "text": [
      " Volume in drive C has no label.\n",
      " Volume Serial Number is 487C-0551\n",
      "\n",
      " Directory of C:\\Users\\y0010\\Desktop\\develop\\usedcar_pricing\n",
      "\n",
      "2022-06-13  �삤�썑 10:46    <DIR>          .\n",
      "2022-06-13  �삤�썑 10:46    <DIR>          ..\n",
      "2022-06-04  �삤�썑 03:28    <DIR>          .ipynb_checkpoints\n",
      "2022-05-18  �삤�쟾 01:13        11,735,552 chromedriver.exe\n",
      "2022-06-13  �삤�썑 10:46            88,259 crawling.ipynb\n",
      "2022-06-04  �삤�썑 03:24           818,364 gradure.csv\n",
      "2022-06-04  �삤�썑 03:24               500 README.md\n",
      "               4 File(s)     12,642,675 bytes\n",
      "               3 Dir(s)  120,962,482,176 bytes free\n"
     ]
    }
   ],
   "source": [
    "ls"
   ]
  },
  {
   "cell_type": "code",
   "execution_count": 42,
   "id": "7e62d494",
   "metadata": {},
   "outputs": [],
   "source": [
    "# 크롬창 열기\n",
    "import time\n",
    "from selenium import webdriver\n",
    "driver = webdriver.Chrome('./chromedriver')\n",
    "# 윈도우 사용자분들\n",
    "# driver = webdriver.Chrome('./chromedriver.exe')\n",
    "\n",
    "# 설정한 url로 데이터 get함수로 요청\n",
    "url = 'http://www.encar.com/dc/dc_carsearchlist.do?carType=kor&searchType=model&TG.R=A#!%7B%22action%22%3A%22(And.Hidden.N._.(C.CarType.Y._.(C.Manufacturer.%ED%98%84%EB%8C%80._.ModelGroup.%EA%B7%B8%EB%9E%9C%EC%A0%80.)))%22%2C%22toggle%22%3A%7B%7D%2C%22layer%22%3A%22%22%2C%22sort%22%3A%22ModifiedDate%22%2C%22page%22%3A1%2C%22limit%22%3A%2250%22%7D'\n",
    "driver.get(url)\n",
    "\n",
    "time.sleep(2)\n",
    "\n",
    "# 키워드를 입력받아 검색창의 xpath에 send_keys 함수로 키워드 입력 "
   ]
  },
  {
   "cell_type": "code",
   "execution_count": 27,
   "id": "31b0fa69",
   "metadata": {},
   "outputs": [],
   "source": [
    "# !pip install chromedriver_autoinstaller"
   ]
  },
  {
   "cell_type": "code",
   "execution_count": 28,
   "id": "a5534ebb",
   "metadata": {},
   "outputs": [
    {
     "name": "stderr",
     "output_type": "stream",
     "text": [
      "ERROR: Could not find a version that satisfies the requirement subprocess\n",
      "ERROR: No matching distribution found for subprocess\n"
     ]
    }
   ],
   "source": [
    "!pip install subprocess"
   ]
  },
  {
   "cell_type": "code",
   "execution_count": 54,
   "id": "5b789a13",
   "metadata": {},
   "outputs": [],
   "source": [
    "seed = np.random.randint(100)\n",
    "np.random.seed(seed)\n",
    "a = np.random.randint(3)\n",
    "time.sleep(a)"
   ]
  },
  {
   "cell_type": "code",
   "execution_count": 107,
   "id": "f75fb4a4",
   "metadata": {},
   "outputs": [],
   "source": [
    "# 클릭하는 방법을 사용하자\n",
    "def crawling2(driver):\n",
    "    page_bar = driver.find_element_by_css_selector('#pagination')\n",
    "    pages = page_bar.find_elements_by_css_selector('a')\n",
    "    page_now = int(page_bar.find_elements_by_css_selector('.current')[0].text)\n",
    "    page = []\n",
    "    for z in pages[:-1]:\n",
    "        page.append(int(z.get_attribute('data-page')))\n",
    "    \n",
    "    for j in range(2,13):\n",
    "        try:\n",
    "            print(j)\n",
    "            if j <= 1:\n",
    "                continue\n",
    "            else:\n",
    "                # car crawling\n",
    "                for i in range(1,51):\n",
    "                    car.append(driver.find_element_by_xpath('//*[@id=\"sr_normal\"]/tr[{0}]/td[2]/a/span[1]/em'.format(i)).text)\n",
    "                    car.append(driver.find_element_by_xpath(f'//*[@id=\"sr_normal\"]/tr[{i}]/td[2]/a/span[2]').text)\n",
    "                    car.append(driver.find_element_by_xpath(f'//*[@id=\"sr_normal\"]/tr[{i}]/td[2]/span[1]/span[1]').text)\n",
    "                    car.append(driver.find_element_by_xpath(f'//*[@id=\"sr_normal\"]/tr[{i}]/td[2]/span[1]/span[2]').text)\n",
    "                    car.append(driver.find_element_by_xpath(f'//*[@id=\"sr_normal\"]/tr[{i}]/td[2]/span[1]/span[3]').text)\n",
    "                    car.append(driver.find_element_by_xpath(f'//*[@id=\"sr_normal\"]/tr[{i}]/td[3]/strong').text)\n",
    "                # 바로 뒤의 페이지로 이동\n",
    "                driver.find_element_by_xpath(f'//*[@id=\"pagination\"]/span[{j}]/a').click()\n",
    "                driver.implicitly_wait(3)\n",
    "                #차단막기\n",
    "\n",
    "                time.sleep(a)\n",
    "                \n",
    "                if (j == 11) & (len(page)==11):\n",
    "                    crawling2(driver)\n",
    "                # 다음 페이지 누르기\n",
    "                if j == 12:\n",
    "                    crawling2(driver)\n",
    "        except:\n",
    "            break\n"
   ]
  },
  {
   "cell_type": "code",
   "execution_count": 117,
   "id": "6dbcadde",
   "metadata": {},
   "outputs": [
    {
     "name": "stdout",
     "output_type": "stream",
     "text": [
      "2\n",
      "3\n",
      "4\n",
      "5\n",
      "6\n",
      "7\n",
      "8\n",
      "9\n",
      "10\n",
      "11\n",
      "2\n",
      "3\n",
      "4\n",
      "5\n",
      "6\n",
      "7\n",
      "8\n",
      "9\n",
      "10\n",
      "11\n",
      "12\n",
      "2\n",
      "3\n",
      "4\n",
      "5\n",
      "6\n",
      "7\n",
      "8\n",
      "9\n",
      "10\n",
      "11\n",
      "12\n",
      "2\n",
      "3\n",
      "4\n",
      "5\n",
      "6\n",
      "7\n",
      "8\n",
      "9\n",
      "10\n",
      "11\n",
      "12\n",
      "2\n",
      "3\n",
      "4\n",
      "5\n",
      "6\n",
      "7\n",
      "8\n",
      "9\n",
      "10\n",
      "11\n",
      "12\n",
      "2\n",
      "3\n",
      "4\n",
      "5\n",
      "6\n",
      "7\n",
      "8\n",
      "9\n",
      "10\n",
      "11\n",
      "12\n",
      "2\n",
      "3\n",
      "4\n",
      "5\n",
      "6\n",
      "7\n",
      "8\n",
      "9\n",
      "10\n",
      "11\n",
      "12\n",
      "2\n",
      "3\n",
      "4\n",
      "5\n",
      "6\n",
      "7\n",
      "8\n",
      "9\n",
      "10\n",
      "11\n",
      "12\n",
      "2\n",
      "3\n",
      "4\n",
      "5\n",
      "6\n",
      "7\n",
      "8\n",
      "9\n",
      "10\n",
      "11\n",
      "12\n",
      "2\n",
      "3\n",
      "4\n",
      "5\n",
      "6\n",
      "7\n",
      "8\n",
      "9\n",
      "10\n",
      "11\n",
      "12\n",
      "2\n",
      "3\n",
      "4\n",
      "5\n",
      "6\n",
      "7\n",
      "8\n",
      "9\n",
      "10\n",
      "11\n",
      "12\n",
      "2\n",
      "3\n",
      "4\n",
      "5\n",
      "6\n",
      "7\n",
      "8\n",
      "9\n",
      "10\n",
      "11\n",
      "2\n",
      "12\n",
      "12\n"
     ]
    }
   ],
   "source": [
    "is_done = False\n",
    "car = []\n",
    "crawling2(driver)"
   ]
  },
  {
   "cell_type": "code",
   "execution_count": 208,
   "id": "4d99f09d",
   "metadata": {
    "collapsed": true
   },
   "outputs": [
    {
     "name": "stderr",
     "output_type": "stream",
     "text": [
      "/var/folders/fb/fgwpc_kd3dxdcfsnm_9w3wv40000gn/T/ipykernel_23947/2561923266.py:3: DeprecationWarning: find_element_by_xpath is deprecated. Please use find_element(by=By.XPATH, value=xpath) instead\n",
      "  car.append(driver.find_element_by_xpath('//*[@id=\"sr_normal\"]/tr[{0}]/td[2]/a/span[1]/em'.format(i)).text)\n"
     ]
    },
    {
     "ename": "NoSuchWindowException",
     "evalue": "Message: no such window: window was already closed\n  (Session info: chrome=101.0.4951.64)\nStacktrace:\n0   chromedriver                        0x00000001029ef2c9 chromedriver + 5120713\n1   chromedriver                        0x000000010297de33 chromedriver + 4656691\n2   chromedriver                        0x000000010256d158 chromedriver + 393560\n3   chromedriver                        0x000000010255c3a7 chromedriver + 324519\n4   chromedriver                        0x000000010255d822 chromedriver + 329762\n5   chromedriver                        0x000000010255630c chromedriver + 299788\n6   chromedriver                        0x000000010256e5b2 chromedriver + 398770\n7   chromedriver                        0x00000001025d15fb chromedriver + 804347\n8   chromedriver                        0x00000001025bf373 chromedriver + 729971\n9   chromedriver                        0x0000000102595609 chromedriver + 558601\n10  chromedriver                        0x0000000102596635 chromedriver + 562741\n11  chromedriver                        0x00000001029c1b1d chromedriver + 4934429\n12  chromedriver                        0x00000001029c6295 chromedriver + 4952725\n13  chromedriver                        0x00000001029cb3cf chromedriver + 4973519\n14  chromedriver                        0x00000001029c6cba chromedriver + 4955322\n15  chromedriver                        0x00000001029a137c chromedriver + 4801404\n16  chromedriver                        0x00000001029e0c68 chromedriver + 5061736\n17  chromedriver                        0x00000001029e0def chromedriver + 5062127\n18  chromedriver                        0x00000001029f65e5 chromedriver + 5150181\n19  libsystem_pthread.dylib             0x00007ff80d8354e1 _pthread_start + 125\n20  libsystem_pthread.dylib             0x00007ff80d830f6b thread_start + 15\n",
     "output_type": "error",
     "traceback": [
      "\u001b[0;31m---------------------------------------------------------------------------\u001b[0m",
      "\u001b[0;31mNoSuchWindowException\u001b[0m                     Traceback (most recent call last)",
      "Input \u001b[0;32mIn [208]\u001b[0m, in \u001b[0;36m<cell line: 2>\u001b[0;34m()\u001b[0m\n\u001b[1;32m      1\u001b[0m car \u001b[38;5;241m=\u001b[39m []\n\u001b[1;32m      2\u001b[0m \u001b[38;5;28;01mfor\u001b[39;00m i \u001b[38;5;129;01min\u001b[39;00m \u001b[38;5;28mrange\u001b[39m(\u001b[38;5;241m1\u001b[39m,\u001b[38;5;241m51\u001b[39m):\n\u001b[0;32m----> 3\u001b[0m     car\u001b[38;5;241m.\u001b[39mappend(\u001b[43mdriver\u001b[49m\u001b[38;5;241;43m.\u001b[39;49m\u001b[43mfind_element_by_xpath\u001b[49m\u001b[43m(\u001b[49m\u001b[38;5;124;43m'\u001b[39;49m\u001b[38;5;124;43m//*[@id=\u001b[39;49m\u001b[38;5;124;43m\"\u001b[39;49m\u001b[38;5;124;43msr_normal\u001b[39;49m\u001b[38;5;124;43m\"\u001b[39;49m\u001b[38;5;124;43m]/tr[\u001b[39;49m\u001b[38;5;132;43;01m{0}\u001b[39;49;00m\u001b[38;5;124;43m]/td[2]/a/span[1]/em\u001b[39;49m\u001b[38;5;124;43m'\u001b[39;49m\u001b[38;5;241;43m.\u001b[39;49m\u001b[43mformat\u001b[49m\u001b[43m(\u001b[49m\u001b[43mi\u001b[49m\u001b[43m)\u001b[49m\u001b[43m)\u001b[49m\u001b[38;5;241m.\u001b[39mtext)\n\u001b[1;32m      4\u001b[0m     car\u001b[38;5;241m.\u001b[39mappend(driver\u001b[38;5;241m.\u001b[39mfind_element_by_xpath(\u001b[38;5;124mf\u001b[39m\u001b[38;5;124m'\u001b[39m\u001b[38;5;124m//*[@id=\u001b[39m\u001b[38;5;124m\"\u001b[39m\u001b[38;5;124msr_normal\u001b[39m\u001b[38;5;124m\"\u001b[39m\u001b[38;5;124m]/tr[\u001b[39m\u001b[38;5;132;01m{\u001b[39;00mi\u001b[38;5;132;01m}\u001b[39;00m\u001b[38;5;124m]/td[2]/a/span[2]\u001b[39m\u001b[38;5;124m'\u001b[39m)\u001b[38;5;241m.\u001b[39mtext)\n\u001b[1;32m      5\u001b[0m     car\u001b[38;5;241m.\u001b[39mappend(driver\u001b[38;5;241m.\u001b[39mfind_element_by_xpath(\u001b[38;5;124mf\u001b[39m\u001b[38;5;124m'\u001b[39m\u001b[38;5;124m//*[@id=\u001b[39m\u001b[38;5;124m\"\u001b[39m\u001b[38;5;124msr_normal\u001b[39m\u001b[38;5;124m\"\u001b[39m\u001b[38;5;124m]/tr[\u001b[39m\u001b[38;5;132;01m{\u001b[39;00mi\u001b[38;5;132;01m}\u001b[39;00m\u001b[38;5;124m]/td[2]/span[1]/span[1]\u001b[39m\u001b[38;5;124m'\u001b[39m)\u001b[38;5;241m.\u001b[39mtext)\n",
      "File \u001b[0;32m/opt/homebrew/Caskroom/miniforge/base/envs/fastcampus/lib/python3.8/site-packages/selenium/webdriver/remote/webdriver.py:521\u001b[0m, in \u001b[0;36mWebDriver.find_element_by_xpath\u001b[0;34m(self, xpath)\u001b[0m\n\u001b[1;32m    499\u001b[0m \u001b[38;5;124;03m\"\"\"\u001b[39;00m\n\u001b[1;32m    500\u001b[0m \u001b[38;5;124;03mFinds an element by xpath.\u001b[39;00m\n\u001b[1;32m    501\u001b[0m \n\u001b[0;32m   (...)\u001b[0m\n\u001b[1;32m    514\u001b[0m \u001b[38;5;124;03m        element = driver.find_element_by_xpath('//div/td[1]')\u001b[39;00m\n\u001b[1;32m    515\u001b[0m \u001b[38;5;124;03m\"\"\"\u001b[39;00m\n\u001b[1;32m    516\u001b[0m warnings\u001b[38;5;241m.\u001b[39mwarn(\n\u001b[1;32m    517\u001b[0m     \u001b[38;5;124m\"\u001b[39m\u001b[38;5;124mfind_element_by_xpath is deprecated. Please use find_element(by=By.XPATH, value=xpath) instead\u001b[39m\u001b[38;5;124m\"\u001b[39m,\n\u001b[1;32m    518\u001b[0m     \u001b[38;5;167;01mDeprecationWarning\u001b[39;00m,\n\u001b[1;32m    519\u001b[0m     stacklevel\u001b[38;5;241m=\u001b[39m\u001b[38;5;241m2\u001b[39m,\n\u001b[1;32m    520\u001b[0m )\n\u001b[0;32m--> 521\u001b[0m \u001b[38;5;28;01mreturn\u001b[39;00m \u001b[38;5;28;43mself\u001b[39;49m\u001b[38;5;241;43m.\u001b[39;49m\u001b[43mfind_element\u001b[49m\u001b[43m(\u001b[49m\u001b[43mby\u001b[49m\u001b[38;5;241;43m=\u001b[39;49m\u001b[43mBy\u001b[49m\u001b[38;5;241;43m.\u001b[39;49m\u001b[43mXPATH\u001b[49m\u001b[43m,\u001b[49m\u001b[43m \u001b[49m\u001b[43mvalue\u001b[49m\u001b[38;5;241;43m=\u001b[39;49m\u001b[43mxpath\u001b[49m\u001b[43m)\u001b[49m\n",
      "File \u001b[0;32m/opt/homebrew/Caskroom/miniforge/base/envs/fastcampus/lib/python3.8/site-packages/selenium/webdriver/remote/webdriver.py:1248\u001b[0m, in \u001b[0;36mWebDriver.find_element\u001b[0;34m(self, by, value)\u001b[0m\n\u001b[1;32m   1245\u001b[0m     by \u001b[38;5;241m=\u001b[39m By\u001b[38;5;241m.\u001b[39mCSS_SELECTOR\n\u001b[1;32m   1246\u001b[0m     value \u001b[38;5;241m=\u001b[39m \u001b[38;5;124m'\u001b[39m\u001b[38;5;124m[name=\u001b[39m\u001b[38;5;124m\"\u001b[39m\u001b[38;5;132;01m%s\u001b[39;00m\u001b[38;5;124m\"\u001b[39m\u001b[38;5;124m]\u001b[39m\u001b[38;5;124m'\u001b[39m \u001b[38;5;241m%\u001b[39m value\n\u001b[0;32m-> 1248\u001b[0m \u001b[38;5;28;01mreturn\u001b[39;00m \u001b[38;5;28;43mself\u001b[39;49m\u001b[38;5;241;43m.\u001b[39;49m\u001b[43mexecute\u001b[49m\u001b[43m(\u001b[49m\u001b[43mCommand\u001b[49m\u001b[38;5;241;43m.\u001b[39;49m\u001b[43mFIND_ELEMENT\u001b[49m\u001b[43m,\u001b[49m\u001b[43m \u001b[49m\u001b[43m{\u001b[49m\n\u001b[1;32m   1249\u001b[0m \u001b[43m    \u001b[49m\u001b[38;5;124;43m'\u001b[39;49m\u001b[38;5;124;43musing\u001b[39;49m\u001b[38;5;124;43m'\u001b[39;49m\u001b[43m:\u001b[49m\u001b[43m \u001b[49m\u001b[43mby\u001b[49m\u001b[43m,\u001b[49m\n\u001b[1;32m   1250\u001b[0m \u001b[43m    \u001b[49m\u001b[38;5;124;43m'\u001b[39;49m\u001b[38;5;124;43mvalue\u001b[39;49m\u001b[38;5;124;43m'\u001b[39;49m\u001b[43m:\u001b[49m\u001b[43m \u001b[49m\u001b[43mvalue\u001b[49m\u001b[43m}\u001b[49m\u001b[43m)\u001b[49m[\u001b[38;5;124m'\u001b[39m\u001b[38;5;124mvalue\u001b[39m\u001b[38;5;124m'\u001b[39m]\n",
      "File \u001b[0;32m/opt/homebrew/Caskroom/miniforge/base/envs/fastcampus/lib/python3.8/site-packages/selenium/webdriver/remote/webdriver.py:425\u001b[0m, in \u001b[0;36mWebDriver.execute\u001b[0;34m(self, driver_command, params)\u001b[0m\n\u001b[1;32m    423\u001b[0m response \u001b[38;5;241m=\u001b[39m \u001b[38;5;28mself\u001b[39m\u001b[38;5;241m.\u001b[39mcommand_executor\u001b[38;5;241m.\u001b[39mexecute(driver_command, params)\n\u001b[1;32m    424\u001b[0m \u001b[38;5;28;01mif\u001b[39;00m response:\n\u001b[0;32m--> 425\u001b[0m     \u001b[38;5;28;43mself\u001b[39;49m\u001b[38;5;241;43m.\u001b[39;49m\u001b[43merror_handler\u001b[49m\u001b[38;5;241;43m.\u001b[39;49m\u001b[43mcheck_response\u001b[49m\u001b[43m(\u001b[49m\u001b[43mresponse\u001b[49m\u001b[43m)\u001b[49m\n\u001b[1;32m    426\u001b[0m     response[\u001b[38;5;124m'\u001b[39m\u001b[38;5;124mvalue\u001b[39m\u001b[38;5;124m'\u001b[39m] \u001b[38;5;241m=\u001b[39m \u001b[38;5;28mself\u001b[39m\u001b[38;5;241m.\u001b[39m_unwrap_value(\n\u001b[1;32m    427\u001b[0m         response\u001b[38;5;241m.\u001b[39mget(\u001b[38;5;124m'\u001b[39m\u001b[38;5;124mvalue\u001b[39m\u001b[38;5;124m'\u001b[39m, \u001b[38;5;28;01mNone\u001b[39;00m))\n\u001b[1;32m    428\u001b[0m     \u001b[38;5;28;01mreturn\u001b[39;00m response\n",
      "File \u001b[0;32m/opt/homebrew/Caskroom/miniforge/base/envs/fastcampus/lib/python3.8/site-packages/selenium/webdriver/remote/errorhandler.py:247\u001b[0m, in \u001b[0;36mErrorHandler.check_response\u001b[0;34m(self, response)\u001b[0m\n\u001b[1;32m    245\u001b[0m         alert_text \u001b[38;5;241m=\u001b[39m value[\u001b[38;5;124m'\u001b[39m\u001b[38;5;124malert\u001b[39m\u001b[38;5;124m'\u001b[39m]\u001b[38;5;241m.\u001b[39mget(\u001b[38;5;124m'\u001b[39m\u001b[38;5;124mtext\u001b[39m\u001b[38;5;124m'\u001b[39m)\n\u001b[1;32m    246\u001b[0m     \u001b[38;5;28;01mraise\u001b[39;00m exception_class(message, screen, stacktrace, alert_text)  \u001b[38;5;66;03m# type: ignore[call-arg]  # mypy is not smart enough here\u001b[39;00m\n\u001b[0;32m--> 247\u001b[0m \u001b[38;5;28;01mraise\u001b[39;00m exception_class(message, screen, stacktrace)\n",
      "\u001b[0;31mNoSuchWindowException\u001b[0m: Message: no such window: window was already closed\n  (Session info: chrome=101.0.4951.64)\nStacktrace:\n0   chromedriver                        0x00000001029ef2c9 chromedriver + 5120713\n1   chromedriver                        0x000000010297de33 chromedriver + 4656691\n2   chromedriver                        0x000000010256d158 chromedriver + 393560\n3   chromedriver                        0x000000010255c3a7 chromedriver + 324519\n4   chromedriver                        0x000000010255d822 chromedriver + 329762\n5   chromedriver                        0x000000010255630c chromedriver + 299788\n6   chromedriver                        0x000000010256e5b2 chromedriver + 398770\n7   chromedriver                        0x00000001025d15fb chromedriver + 804347\n8   chromedriver                        0x00000001025bf373 chromedriver + 729971\n9   chromedriver                        0x0000000102595609 chromedriver + 558601\n10  chromedriver                        0x0000000102596635 chromedriver + 562741\n11  chromedriver                        0x00000001029c1b1d chromedriver + 4934429\n12  chromedriver                        0x00000001029c6295 chromedriver + 4952725\n13  chromedriver                        0x00000001029cb3cf chromedriver + 4973519\n14  chromedriver                        0x00000001029c6cba chromedriver + 4955322\n15  chromedriver                        0x00000001029a137c chromedriver + 4801404\n16  chromedriver                        0x00000001029e0c68 chromedriver + 5061736\n17  chromedriver                        0x00000001029e0def chromedriver + 5062127\n18  chromedriver                        0x00000001029f65e5 chromedriver + 5150181\n19  libsystem_pthread.dylib             0x00007ff80d8354e1 _pthread_start + 125\n20  libsystem_pthread.dylib             0x00007ff80d830f6b thread_start + 15\n"
     ]
    }
   ],
   "source": [
    "car = []\n",
    "for i in range(1,51):\n",
    "    car.append(driver.find_element_by_xpath('//*[@id=\"sr_normal\"]/tr[{0}]/td[2]/a/span[1]/em'.format(i)).text)\n",
    "    car.append(driver.find_element_by_xpath(f'//*[@id=\"sr_normal\"]/tr[{i}]/td[2]/a/span[2]').text)\n",
    "    car.append(driver.find_element_by_xpath(f'//*[@id=\"sr_normal\"]/tr[{i}]/td[2]/span[1]/span[1]').text)\n",
    "    car.append(driver.find_element_by_xpath(f'//*[@id=\"sr_normal\"]/tr[{i}]/td[2]/span[1]/span[2]').text)\n",
    "    car.append(driver.find_element_by_xpath(f'//*[@id=\"sr_normal\"]/tr[{i}]/td[2]/span[1]/span[3]').text)\n",
    "    car.append(driver.find_element_by_xpath(f'//*[@id=\"sr_normal\"]/tr[{i}]/td[3]/strong').text)\n",
    "    \n",
    "    "
   ]
  },
  {
   "cell_type": "code",
   "execution_count": 118,
   "id": "06e9fbbb",
   "metadata": {},
   "outputs": [
    {
     "data": {
      "text/plain": [
       "39504"
      ]
     },
     "execution_count": 118,
     "metadata": {},
     "output_type": "execute_result"
    }
   ],
   "source": [
    "len(car)"
   ]
  },
  {
   "cell_type": "code",
   "execution_count": 119,
   "id": "73fcb7b4",
   "metadata": {},
   "outputs": [
    {
     "data": {
      "text/plain": [
       "array(['G90', '5.0 AWD 프레스티지', '19/05식', ..., '13,343km', '가솔린', '5,349'],\n",
       "      dtype='<U24')"
      ]
     },
     "execution_count": 119,
     "metadata": {},
     "output_type": "execute_result"
    }
   ],
   "source": [
    "np.array(car)"
   ]
  },
  {
   "cell_type": "code",
   "execution_count": 120,
   "id": "b3ea45b9",
   "metadata": {},
   "outputs": [
    {
     "data": {
      "text/plain": [
       "6584"
      ]
     },
     "execution_count": 120,
     "metadata": {},
     "output_type": "execute_result"
    }
   ],
   "source": [
    "datas = np.array(car).reshape(-1,6)\n",
    "len(datas)"
   ]
  },
  {
   "cell_type": "code",
   "execution_count": 121,
   "id": "327798df",
   "metadata": {},
   "outputs": [
    {
     "data": {
      "text/html": [
       "<div>\n",
       "<style scoped>\n",
       "    .dataframe tbody tr th:only-of-type {\n",
       "        vertical-align: middle;\n",
       "    }\n",
       "\n",
       "    .dataframe tbody tr th {\n",
       "        vertical-align: top;\n",
       "    }\n",
       "\n",
       "    .dataframe thead th {\n",
       "        text-align: right;\n",
       "    }\n",
       "</style>\n",
       "<table border=\"1\" class=\"dataframe\">\n",
       "  <thead>\n",
       "    <tr style=\"text-align: right;\">\n",
       "      <th></th>\n",
       "      <th>0</th>\n",
       "      <th>1</th>\n",
       "      <th>2</th>\n",
       "      <th>3</th>\n",
       "      <th>4</th>\n",
       "      <th>5</th>\n",
       "    </tr>\n",
       "  </thead>\n",
       "  <tbody>\n",
       "    <tr>\n",
       "      <th>0</th>\n",
       "      <td>G90</td>\n",
       "      <td>5.0 AWD 프레스티지</td>\n",
       "      <td>19/05식</td>\n",
       "      <td>88,079km</td>\n",
       "      <td>가솔린</td>\n",
       "      <td>6,090</td>\n",
       "    </tr>\n",
       "    <tr>\n",
       "      <th>1</th>\n",
       "      <td>EQ900</td>\n",
       "      <td>3.8 GDI AWD 럭셔리</td>\n",
       "      <td>17/01식</td>\n",
       "      <td>124,600km</td>\n",
       "      <td>가솔린</td>\n",
       "      <td>3,090</td>\n",
       "    </tr>\n",
       "    <tr>\n",
       "      <th>2</th>\n",
       "      <td>G80</td>\n",
       "      <td>3.3 GDI AWD 프리미엄 럭셔리</td>\n",
       "      <td>18/05식</td>\n",
       "      <td>172,000km</td>\n",
       "      <td>가솔린</td>\n",
       "      <td>2,360</td>\n",
       "    </tr>\n",
       "    <tr>\n",
       "      <th>3</th>\n",
       "      <td>G80</td>\n",
       "      <td>3.8 GDI AWD 프레스티지</td>\n",
       "      <td>17/01식</td>\n",
       "      <td>135,189km</td>\n",
       "      <td>가솔린</td>\n",
       "      <td>2,349</td>\n",
       "    </tr>\n",
       "    <tr>\n",
       "      <th>4</th>\n",
       "      <td>G80 (RG3)</td>\n",
       "      <td>가솔린 2.5 터보 AWD</td>\n",
       "      <td>21/10식(22년형)</td>\n",
       "      <td>8,627km</td>\n",
       "      <td>가솔린</td>\n",
       "      <td>6,850</td>\n",
       "    </tr>\n",
       "    <tr>\n",
       "      <th>...</th>\n",
       "      <td>...</td>\n",
       "      <td>...</td>\n",
       "      <td>...</td>\n",
       "      <td>...</td>\n",
       "      <td>...</td>\n",
       "      <td>...</td>\n",
       "    </tr>\n",
       "    <tr>\n",
       "      <th>6579</th>\n",
       "      <td>G80</td>\n",
       "      <td>3.3 GDI 프리미엄 럭셔리</td>\n",
       "      <td>17/06식(18년형)</td>\n",
       "      <td>22,326km</td>\n",
       "      <td>가솔린</td>\n",
       "      <td>3,580</td>\n",
       "    </tr>\n",
       "    <tr>\n",
       "      <th>6580</th>\n",
       "      <td>G80</td>\n",
       "      <td>3.8 GDI AWD 파이니스트</td>\n",
       "      <td>18/08식</td>\n",
       "      <td>20,592km</td>\n",
       "      <td>가솔린</td>\n",
       "      <td>4,500</td>\n",
       "    </tr>\n",
       "    <tr>\n",
       "      <th>6581</th>\n",
       "      <td>G80</td>\n",
       "      <td>3.3 GDI AWD 프리미엄 럭셔리</td>\n",
       "      <td>17/03식</td>\n",
       "      <td>40,259km</td>\n",
       "      <td>가솔린</td>\n",
       "      <td>3,590</td>\n",
       "    </tr>\n",
       "    <tr>\n",
       "      <th>6582</th>\n",
       "      <td>G70</td>\n",
       "      <td>3.3T 스포츠 AWD 프레스티지</td>\n",
       "      <td>19/06식</td>\n",
       "      <td>14,832km</td>\n",
       "      <td>가솔린</td>\n",
       "      <td>4,599</td>\n",
       "    </tr>\n",
       "    <tr>\n",
       "      <th>6583</th>\n",
       "      <td>G80</td>\n",
       "      <td>3.3 GDI AWD 프레스티지</td>\n",
       "      <td>20/02식</td>\n",
       "      <td>13,343km</td>\n",
       "      <td>가솔린</td>\n",
       "      <td>5,349</td>\n",
       "    </tr>\n",
       "  </tbody>\n",
       "</table>\n",
       "<p>6584 rows × 6 columns</p>\n",
       "</div>"
      ],
      "text/plain": [
       "              0                     1             2          3    4      5\n",
       "0           G90         5.0 AWD 프레스티지        19/05식   88,079km  가솔린  6,090\n",
       "1         EQ900       3.8 GDI AWD 럭셔리        17/01식  124,600km  가솔린  3,090\n",
       "2           G80  3.3 GDI AWD 프리미엄 럭셔리        18/05식  172,000km  가솔린  2,360\n",
       "3           G80     3.8 GDI AWD 프레스티지        17/01식  135,189km  가솔린  2,349\n",
       "4     G80 (RG3)        가솔린 2.5 터보 AWD  21/10식(22년형)    8,627km  가솔린  6,850\n",
       "...         ...                   ...           ...        ...  ...    ...\n",
       "6579        G80      3.3 GDI 프리미엄 럭셔리  17/06식(18년형)   22,326km  가솔린  3,580\n",
       "6580        G80     3.8 GDI AWD 파이니스트        18/08식   20,592km  가솔린  4,500\n",
       "6581        G80  3.3 GDI AWD 프리미엄 럭셔리        17/03식   40,259km  가솔린  3,590\n",
       "6582        G70    3.3T 스포츠 AWD 프레스티지        19/06식   14,832km  가솔린  4,599\n",
       "6583        G80     3.3 GDI AWD 프레스티지        20/02식   13,343km  가솔린  5,349\n",
       "\n",
       "[6584 rows x 6 columns]"
      ]
     },
     "execution_count": 121,
     "metadata": {},
     "output_type": "execute_result"
    }
   ],
   "source": [
    "df = pd.DataFrame(datas)\n",
    "df"
   ]
  },
  {
   "cell_type": "code",
   "execution_count": 122,
   "id": "641a690b",
   "metadata": {},
   "outputs": [],
   "source": [
    "# df = pd.DataFrame(datas)\n",
    "df.to_csv('./genesis.csv')"
   ]
  },
  {
   "cell_type": "code",
   "execution_count": null,
   "id": "9381f10b",
   "metadata": {},
   "outputs": [],
   "source": []
  }
 ],
 "metadata": {
  "kernelspec": {
   "display_name": "Python 3 (ipykernel)",
   "language": "python",
   "name": "python3"
  },
  "language_info": {
   "codemirror_mode": {
    "name": "ipython",
    "version": 3
   },
   "file_extension": ".py",
   "mimetype": "text/x-python",
   "name": "python",
   "nbconvert_exporter": "python",
   "pygments_lexer": "ipython3",
   "version": "3.9.5"
  },
  "toc": {
   "base_numbering": 1,
   "nav_menu": {},
   "number_sections": true,
   "sideBar": true,
   "skip_h1_title": false,
   "title_cell": "Table of Contents",
   "title_sidebar": "Contents",
   "toc_cell": false,
   "toc_position": {},
   "toc_section_display": true,
   "toc_window_display": true
  }
 },
 "nbformat": 4,
 "nbformat_minor": 5
}
